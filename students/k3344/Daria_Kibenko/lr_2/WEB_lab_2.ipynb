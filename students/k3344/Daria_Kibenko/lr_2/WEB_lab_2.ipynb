{
  "nbformat": 4,
  "nbformat_minor": 0,
  "metadata": {
    "colab": {
      "provenance": []
    },
    "kernelspec": {
      "name": "python3",
      "display_name": "Python 3"
    },
    "language_info": {
      "name": "python"
    }
  },
  "cells": [
    {
      "cell_type": "markdown",
      "source": [
        "#***Лабораторная работа 2. Потоки. Процессы. Асинхронность***"
      ],
      "metadata": {
        "id": "bzWlUzKQcoXo"
      }
    },
    {
      "cell_type": "markdown",
      "source": [
        "###Цель работы:"
      ],
      "metadata": {
        "id": "hB31mcKbc0B7"
      }
    },
    {
      "cell_type": "markdown",
      "source": [
        "Понять отличия потоками и процессами и понять, что такое ассинхронность в Python."
      ],
      "metadata": {
        "id": "g0qOCchvcwGj"
      }
    },
    {
      "cell_type": "markdown",
      "source": [
        "## Задача 1: Различия между threading, multiprocessing и async в Python"
      ],
      "metadata": {
        "id": "1MwgftZhH7fx"
      }
    },
    {
      "cell_type": "markdown",
      "source": [
        "###Цель задачи:"
      ],
      "metadata": {
        "id": "GULNP3udH-Pz"
      }
    },
    {
      "cell_type": "markdown",
      "source": [
        "Написать три программы, каждая из которых решает задачу вычисления суммы чисел от 1 до 10000000000000 с использованием разных методов параллелизма в Python."
      ],
      "metadata": {
        "id": "WJMga0ZyIDGK"
      }
    },
    {
      "cell_type": "markdown",
      "source": [
        "###Выполнение"
      ],
      "metadata": {
        "id": "8fhi1rsVdMBx"
      }
    },
    {
      "cell_type": "markdown",
      "source": [
        " 1. Threading"
      ],
      "metadata": {
        "id": "YJEizitpIyLb"
      }
    },
    {
      "cell_type": "code",
      "execution_count": null,
      "metadata": {
        "id": "xnK8Y4i57G20"
      },
      "outputs": [],
      "source": [
        "import threading\n",
        "import time\n",
        "\n",
        "def calculate_partial_sum(start, end, result, index):\n",
        "    result[index] = sum(range(start, end))\n",
        "\n",
        "def main():\n",
        "    N = 10_000_000_000_000\n",
        "    num_threads = 4\n",
        "    step = N // num_threads\n",
        "    result = [0] * num_threads\n",
        "    threads = []\n",
        "\n",
        "    start_time = time.time()\n",
        "\n",
        "    for i in range(num_threads):\n",
        "        start = i * step + 1\n",
        "        end = (i + 1) * step + 1 if i != num_threads - 1 else N + 1\n",
        "        thread = threading.Thread(target=calculate_partial_sum, args=(start, end, result, i))\n",
        "        threads.append(thread)\n",
        "        thread.start()\n",
        "\n",
        "    for thread in threads:\n",
        "        thread.join()\n",
        "\n",
        "    total_sum = sum(result)\n",
        "    print(f\"Threading result: {total_sum}\")\n",
        "    print(f\"Execution time: {time.time() - start_time:.2f} seconds\")\n",
        "\n",
        "if __name__ == \"__main__\":\n",
        "    main()"
      ]
    },
    {
      "cell_type": "markdown",
      "source": [
        "**Описание:**  \n",
        "Решение на основе `threading` разбивает задачу на 4 потока, используя общий список `result` для хранения промежуточных сумм. Однако из-за **Global Interpreter Lock (GIL)**, потоки выполняются конкурентно, но не параллельно на CPU-нагруженных задачах. Это ограничивает производительность, так как GIL позволяет выполнять только один поток в единицу времени."
      ],
      "metadata": {
        "id": "VGggJE8whmI-"
      }
    },
    {
      "cell_type": "code",
      "source": [
        "import threading\n",
        "import time\n",
        "\n",
        "def calculate_partial_sum(start, end, result, index):\n",
        "    result[index] = sum(range(start, end))\n",
        "\n",
        "def main():\n",
        "    N = 10_000_000\n",
        "    num_threads = 4\n",
        "    step = N // num_threads\n",
        "    result = [0] * num_threads\n",
        "    threads = []\n",
        "\n",
        "    start_time = time.time()\n",
        "\n",
        "    for i in range(num_threads):\n",
        "        start = i * step + 1\n",
        "        end = (i + 1) * step + 1 if i != num_threads - 1 else N + 1\n",
        "        thread = threading.Thread(target=calculate_partial_sum, args=(start, end, result, i))\n",
        "        threads.append(thread)\n",
        "        thread.start()\n",
        "\n",
        "    for thread in threads:\n",
        "        thread.join()\n",
        "\n",
        "    total_sum = sum(result)\n",
        "    print(f\"Threading result: {total_sum}\")\n",
        "    print(f\"Execution time: {time.time() - start_time:.2f} seconds\")\n",
        "\n",
        "if __name__ == \"__main__\":\n",
        "    main()"
      ],
      "metadata": {
        "id": "kvXfRD2ih3M_",
        "colab": {
          "base_uri": "https://localhost:8080/"
        },
        "outputId": "decd74cd-88d9-4fef-a8e0-fcc6f0e80687"
      },
      "execution_count": null,
      "outputs": [
        {
          "output_type": "stream",
          "name": "stdout",
          "text": [
            "Threading result: 50000005000000\n",
            "Execution time: 0.50 seconds\n"
          ]
        }
      ]
    },
    {
      "cell_type": "markdown",
      "source": [
        "2. Multiprocessing"
      ],
      "metadata": {
        "id": "F7K18P5BJBiT"
      }
    },
    {
      "cell_type": "code",
      "source": [
        "import multiprocessing\n",
        "import time\n",
        "\n",
        "def calculate_partial_sum(start, end, return_dict, index):\n",
        "    return_dict[index] = sum(range(start, end))\n",
        "\n",
        "def main():\n",
        "    N = 10_000_000\n",
        "    num_processes = 4\n",
        "    step = N // num_processes\n",
        "\n",
        "    manager = multiprocessing.Manager()\n",
        "    return_dict = manager.dict()\n",
        "    processes = []\n",
        "\n",
        "    start_time = time.time()\n",
        "\n",
        "    for i in range(num_processes):\n",
        "        start = i * step + 1\n",
        "        end = (i + 1) * step + 1 if i != num_processes - 1 else N + 1\n",
        "        p = multiprocessing.Process(target=calculate_partial_sum, args=(start, end, return_dict, i))\n",
        "        processes.append(p)\n",
        "        p.start()\n",
        "\n",
        "    for p in processes:\n",
        "        p.join()\n",
        "\n",
        "    total_sum = sum(return_dict.values())\n",
        "    print(f\"Multiprocessing result: {total_sum}\")\n",
        "    print(f\"Execution time: {time.time() - start_time:.2f} seconds\")\n",
        "\n",
        "if __name__ == \"__main__\":\n",
        "    main()"
      ],
      "metadata": {
        "id": "UZudmMXQI5ep",
        "colab": {
          "base_uri": "https://localhost:8080/"
        },
        "outputId": "790040ce-b907-48f6-eb8b-5654adfa6502"
      },
      "execution_count": null,
      "outputs": [
        {
          "output_type": "stream",
          "name": "stdout",
          "text": [
            "Multiprocessing result: 50000005000000\n",
            "Execution time: 0.58 seconds\n"
          ]
        }
      ]
    },
    {
      "cell_type": "markdown",
      "source": [
        "**Описание:**  \n",
        "Метод `multiprocessing` создает отдельные процессы, каждый из которых работает независимо и использует свои собственные ресурсы. Это позволяет обойти GIL и достичь **истинного параллелизма**, особенно эффективного для CPU-bound задач. Для обмена данными используется `Manager().dict()`, что реализует **межпроцессную коммуникацию (IPC)**."
      ],
      "metadata": {
        "id": "yitQjv3timoO"
      }
    },
    {
      "cell_type": "markdown",
      "source": [
        "3. Async (для имитации параллельности на CPU-задаче)"
      ],
      "metadata": {
        "id": "u0nDRmE9JEYF"
      }
    },
    {
      "cell_type": "code",
      "source": [
        "import asyncio\n",
        "import time\n",
        "\n",
        "async def calculate_partial_sum(start, end):\n",
        "    return sum(range(start, end))\n",
        "\n",
        "async def main():\n",
        "    N = 10_000_000\n",
        "    num_tasks = 4\n",
        "    step = N // num_tasks\n",
        "\n",
        "    tasks = []\n",
        "    for i in range(num_tasks):\n",
        "        start = i * step + 1\n",
        "        end = (i + 1) * step + 1 if i != num_tasks - 1 else N + 1\n",
        "        tasks.append(calculate_partial_sum(start, end))\n",
        "\n",
        "    start_time = time.time()\n",
        "    results = await asyncio.gather(*tasks)\n",
        "    total_sum = sum(results)\n",
        "\n",
        "    print(f\"Asyncio result: {total_sum}\")\n",
        "    print(f\"Execution time: {time.time() - start_time:.2f} seconds\")\n",
        "\n",
        "try:\n",
        "    await main()\n",
        "except RuntimeError:\n",
        "    loop = asyncio.get_event_loop()\n",
        "    loop.run_until_complete(main())"
      ],
      "metadata": {
        "id": "2F6ndngBIUbe",
        "colab": {
          "base_uri": "https://localhost:8080/"
        },
        "outputId": "1a606b5c-0f36-49b0-a0fa-fd691ac2856c"
      },
      "execution_count": null,
      "outputs": [
        {
          "output_type": "stream",
          "name": "stdout",
          "text": [
            "Asyncio result: 50000005000000\n",
            "Execution time: 0.21 seconds\n"
          ]
        }
      ]
    },
    {
      "cell_type": "markdown",
      "source": [
        "\n",
        "**Описание:**  \n",
        "Асинхронное решение использует `asyncio` и корутины. Однако для CPU-bound задач, таких как вычисление суммы, `async` не обеспечивает параллелизма из-за однопоточности. Здесь задачи выполняются последовательно, но благодаря **сопрограммам (coroutines)** и `await`, достигается иллюзия параллелизма. Эффективен для I/O-bound задач, но не для вычислений."
      ],
      "metadata": {
        "id": "10Fc-7Fniphl"
      }
    },
    {
      "cell_type": "markdown",
      "source": [
        "\n",
        "**Графики:**  \n",
        "1. **Круговая диаграмма (Pie Chart):** Показывает долю времени выполнения каждого метода.  \n",
        "2. **Столбчатая диаграмма (Bar Chart):** Наглядно сравнивает время выполнения.  \n",
        "3. **Линейный график (Line Chart):** Отражает тренд снижения времени."
      ],
      "metadata": {
        "id": "MywZjeHmis0h"
      }
    },
    {
      "cell_type": "code",
      "source": [
        "pip install plotly"
      ],
      "metadata": {
        "id": "Usvur5MatLiv",
        "colab": {
          "base_uri": "https://localhost:8080/"
        },
        "outputId": "6a509282-b0cb-4f51-9df8-bf703747264c"
      },
      "execution_count": null,
      "outputs": [
        {
          "output_type": "stream",
          "name": "stdout",
          "text": [
            "Requirement already satisfied: plotly in /usr/local/lib/python3.11/dist-packages (5.24.1)\n",
            "Requirement already satisfied: tenacity>=6.2.0 in /usr/local/lib/python3.11/dist-packages (from plotly) (9.1.2)\n",
            "Requirement already satisfied: packaging in /usr/local/lib/python3.11/dist-packages (from plotly) (24.2)\n"
          ]
        }
      ]
    },
    {
      "cell_type": "code",
      "source": [
        "import plotly.express as px\n",
        "import pandas as pd\n",
        "\n",
        "# Цветовая палитра\n",
        "palette = [\n",
        "    \"#cd5963\",\n",
        "    \"#ff9177\",\n",
        "    \"#fffbc5\"\n",
        "]\n",
        "\n",
        "# Подготовка данных\n",
        "data = {\n",
        "    \"Method\": [\"Threading\", \"Multiprocessing\", \"Async\"],\n",
        "    \"Execution Time (s)\": [0.97, 0.42, 0.19],\n",
        "}\n",
        "df = pd.DataFrame(data)\n",
        "\n",
        "# Интерактивный график-пончик\n",
        "fig = px.pie(\n",
        "    df,\n",
        "    names='Method',\n",
        "    values='Execution Time (s)',\n",
        "    title=\"Интерактивное распределение времени выполнения\",\n",
        "    color='Method',\n",
        "    color_discrete_sequence=palette,\n",
        "    hole=0.4,\n",
        "    hover_data=['Execution Time (s)'],\n",
        "    category_orders={\"Method\": [\"Threading\", \"Multiprocessing\", \"Async\"]},\n",
        "    labels={'Method': 'Метод', 'Execution Time (s)': 'Время (с)'}\n",
        ")\n",
        "\n",
        "# Настройка стиля\n",
        "fig.update_traces(\n",
        "    textposition='outside',\n",
        "    textinfo='percent+label+value',\n",
        "    pull=[0.1, 0, 0],\n",
        "    marker=dict(\n",
        "        line=dict(color='#632f50', width=2)\n",
        "    ),\n",
        "    hovertemplate=\"<br>\".join([\n",
        "        \"Метод: %{label}\",\n",
        "        \"Время: %{value:.2f}s\",\n",
        "        \"Доля: %{percent}\"\n",
        "    ])\n",
        ")\n",
        "\n",
        "fig.update_layout(\n",
        "    title_font=dict(size=20, color='#8B4513', family=\"Georgia\"),\n",
        "    title_x=0.5,\n",
        "    legend_title_text='Метод',\n",
        "    legend=dict(\n",
        "        orientation='h',\n",
        "        yanchor='bottom',\n",
        "        y=1.02,\n",
        "        xanchor='right',\n",
        "        x=1,\n",
        "        font=dict(size=12, color='#8B4513')\n",
        "    ),\n",
        "    paper_bgcolor='rgba(235,219,178,0.1)',\n",
        "    plot_bgcolor='rgba(255,255,224,0.3)',\n",
        "    margin=dict(t=80, l=30, r=30, b=50)\n",
        ")\n",
        "\n",
        "\n",
        "fig.show()"
      ],
      "metadata": {
        "id": "7gNhulwk1yeX",
        "colab": {
          "base_uri": "https://localhost:8080/",
          "height": 542
        },
        "outputId": "27227e44-1b5c-43e3-f7c7-9b9a5faf55f8"
      },
      "execution_count": null,
      "outputs": [
        {
          "output_type": "display_data",
          "data": {
            "text/html": [
              "<html>\n",
              "<head><meta charset=\"utf-8\" /></head>\n",
              "<body>\n",
              "    <div>            <script src=\"https://cdnjs.cloudflare.com/ajax/libs/mathjax/2.7.5/MathJax.js?config=TeX-AMS-MML_SVG\"></script><script type=\"text/javascript\">if (window.MathJax && window.MathJax.Hub && window.MathJax.Hub.Config) {window.MathJax.Hub.Config({SVG: {font: \"STIX-Web\"}});}</script>                <script type=\"text/javascript\">window.PlotlyConfig = {MathJaxConfig: 'local'};</script>\n",
              "        <script charset=\"utf-8\" src=\"https://cdn.plot.ly/plotly-2.35.2.min.js\"></script>                <div id=\"533a2e12-e822-4241-89d2-d4f299c3f847\" class=\"plotly-graph-div\" style=\"height:525px; width:100%;\"></div>            <script type=\"text/javascript\">                                    window.PLOTLYENV=window.PLOTLYENV || {};                                    if (document.getElementById(\"533a2e12-e822-4241-89d2-d4f299c3f847\")) {                    Plotly.newPlot(                        \"533a2e12-e822-4241-89d2-d4f299c3f847\",                        [{\"customdata\":[[0.97,\"Threading\"],[0.42,\"Multiprocessing\"],[0.19,\"Async\"]],\"direction\":\"clockwise\",\"domain\":{\"x\":[0.0,1.0],\"y\":[0.0,1.0]},\"hole\":0.4,\"hovertemplate\":\"Метод: %{label}\\u003cbr\\u003eВремя: %{value:.2f}s\\u003cbr\\u003eДоля: %{percent}\",\"labels\":[\"Threading\",\"Multiprocessing\",\"Async\"],\"legendgroup\":\"\",\"marker\":{\"colors\":[\"#cd5963\",\"#ff9177\",\"#fffbc5\"],\"line\":{\"color\":\"#632f50\",\"width\":2}},\"name\":\"\",\"showlegend\":true,\"sort\":false,\"values\":[0.97,0.42,0.19],\"type\":\"pie\",\"pull\":[0.1,0,0],\"textinfo\":\"percent+label+value\",\"textposition\":\"outside\"}],                        {\"template\":{\"data\":{\"histogram2dcontour\":[{\"type\":\"histogram2dcontour\",\"colorbar\":{\"outlinewidth\":0,\"ticks\":\"\"},\"colorscale\":[[0.0,\"#0d0887\"],[0.1111111111111111,\"#46039f\"],[0.2222222222222222,\"#7201a8\"],[0.3333333333333333,\"#9c179e\"],[0.4444444444444444,\"#bd3786\"],[0.5555555555555556,\"#d8576b\"],[0.6666666666666666,\"#ed7953\"],[0.7777777777777778,\"#fb9f3a\"],[0.8888888888888888,\"#fdca26\"],[1.0,\"#f0f921\"]]}],\"choropleth\":[{\"type\":\"choropleth\",\"colorbar\":{\"outlinewidth\":0,\"ticks\":\"\"}}],\"histogram2d\":[{\"type\":\"histogram2d\",\"colorbar\":{\"outlinewidth\":0,\"ticks\":\"\"},\"colorscale\":[[0.0,\"#0d0887\"],[0.1111111111111111,\"#46039f\"],[0.2222222222222222,\"#7201a8\"],[0.3333333333333333,\"#9c179e\"],[0.4444444444444444,\"#bd3786\"],[0.5555555555555556,\"#d8576b\"],[0.6666666666666666,\"#ed7953\"],[0.7777777777777778,\"#fb9f3a\"],[0.8888888888888888,\"#fdca26\"],[1.0,\"#f0f921\"]]}],\"heatmap\":[{\"type\":\"heatmap\",\"colorbar\":{\"outlinewidth\":0,\"ticks\":\"\"},\"colorscale\":[[0.0,\"#0d0887\"],[0.1111111111111111,\"#46039f\"],[0.2222222222222222,\"#7201a8\"],[0.3333333333333333,\"#9c179e\"],[0.4444444444444444,\"#bd3786\"],[0.5555555555555556,\"#d8576b\"],[0.6666666666666666,\"#ed7953\"],[0.7777777777777778,\"#fb9f3a\"],[0.8888888888888888,\"#fdca26\"],[1.0,\"#f0f921\"]]}],\"heatmapgl\":[{\"type\":\"heatmapgl\",\"colorbar\":{\"outlinewidth\":0,\"ticks\":\"\"},\"colorscale\":[[0.0,\"#0d0887\"],[0.1111111111111111,\"#46039f\"],[0.2222222222222222,\"#7201a8\"],[0.3333333333333333,\"#9c179e\"],[0.4444444444444444,\"#bd3786\"],[0.5555555555555556,\"#d8576b\"],[0.6666666666666666,\"#ed7953\"],[0.7777777777777778,\"#fb9f3a\"],[0.8888888888888888,\"#fdca26\"],[1.0,\"#f0f921\"]]}],\"contourcarpet\":[{\"type\":\"contourcarpet\",\"colorbar\":{\"outlinewidth\":0,\"ticks\":\"\"}}],\"contour\":[{\"type\":\"contour\",\"colorbar\":{\"outlinewidth\":0,\"ticks\":\"\"},\"colorscale\":[[0.0,\"#0d0887\"],[0.1111111111111111,\"#46039f\"],[0.2222222222222222,\"#7201a8\"],[0.3333333333333333,\"#9c179e\"],[0.4444444444444444,\"#bd3786\"],[0.5555555555555556,\"#d8576b\"],[0.6666666666666666,\"#ed7953\"],[0.7777777777777778,\"#fb9f3a\"],[0.8888888888888888,\"#fdca26\"],[1.0,\"#f0f921\"]]}],\"surface\":[{\"type\":\"surface\",\"colorbar\":{\"outlinewidth\":0,\"ticks\":\"\"},\"colorscale\":[[0.0,\"#0d0887\"],[0.1111111111111111,\"#46039f\"],[0.2222222222222222,\"#7201a8\"],[0.3333333333333333,\"#9c179e\"],[0.4444444444444444,\"#bd3786\"],[0.5555555555555556,\"#d8576b\"],[0.6666666666666666,\"#ed7953\"],[0.7777777777777778,\"#fb9f3a\"],[0.8888888888888888,\"#fdca26\"],[1.0,\"#f0f921\"]]}],\"mesh3d\":[{\"type\":\"mesh3d\",\"colorbar\":{\"outlinewidth\":0,\"ticks\":\"\"}}],\"scatter\":[{\"fillpattern\":{\"fillmode\":\"overlay\",\"size\":10,\"solidity\":0.2},\"type\":\"scatter\"}],\"parcoords\":[{\"type\":\"parcoords\",\"line\":{\"colorbar\":{\"outlinewidth\":0,\"ticks\":\"\"}}}],\"scatterpolargl\":[{\"type\":\"scatterpolargl\",\"marker\":{\"colorbar\":{\"outlinewidth\":0,\"ticks\":\"\"}}}],\"bar\":[{\"error_x\":{\"color\":\"#2a3f5f\"},\"error_y\":{\"color\":\"#2a3f5f\"},\"marker\":{\"line\":{\"color\":\"#E5ECF6\",\"width\":0.5},\"pattern\":{\"fillmode\":\"overlay\",\"size\":10,\"solidity\":0.2}},\"type\":\"bar\"}],\"scattergeo\":[{\"type\":\"scattergeo\",\"marker\":{\"colorbar\":{\"outlinewidth\":0,\"ticks\":\"\"}}}],\"scatterpolar\":[{\"type\":\"scatterpolar\",\"marker\":{\"colorbar\":{\"outlinewidth\":0,\"ticks\":\"\"}}}],\"histogram\":[{\"marker\":{\"pattern\":{\"fillmode\":\"overlay\",\"size\":10,\"solidity\":0.2}},\"type\":\"histogram\"}],\"scattergl\":[{\"type\":\"scattergl\",\"marker\":{\"colorbar\":{\"outlinewidth\":0,\"ticks\":\"\"}}}],\"scatter3d\":[{\"type\":\"scatter3d\",\"line\":{\"colorbar\":{\"outlinewidth\":0,\"ticks\":\"\"}},\"marker\":{\"colorbar\":{\"outlinewidth\":0,\"ticks\":\"\"}}}],\"scattermapbox\":[{\"type\":\"scattermapbox\",\"marker\":{\"colorbar\":{\"outlinewidth\":0,\"ticks\":\"\"}}}],\"scatterternary\":[{\"type\":\"scatterternary\",\"marker\":{\"colorbar\":{\"outlinewidth\":0,\"ticks\":\"\"}}}],\"scattercarpet\":[{\"type\":\"scattercarpet\",\"marker\":{\"colorbar\":{\"outlinewidth\":0,\"ticks\":\"\"}}}],\"carpet\":[{\"aaxis\":{\"endlinecolor\":\"#2a3f5f\",\"gridcolor\":\"white\",\"linecolor\":\"white\",\"minorgridcolor\":\"white\",\"startlinecolor\":\"#2a3f5f\"},\"baxis\":{\"endlinecolor\":\"#2a3f5f\",\"gridcolor\":\"white\",\"linecolor\":\"white\",\"minorgridcolor\":\"white\",\"startlinecolor\":\"#2a3f5f\"},\"type\":\"carpet\"}],\"table\":[{\"cells\":{\"fill\":{\"color\":\"#EBF0F8\"},\"line\":{\"color\":\"white\"}},\"header\":{\"fill\":{\"color\":\"#C8D4E3\"},\"line\":{\"color\":\"white\"}},\"type\":\"table\"}],\"barpolar\":[{\"marker\":{\"line\":{\"color\":\"#E5ECF6\",\"width\":0.5},\"pattern\":{\"fillmode\":\"overlay\",\"size\":10,\"solidity\":0.2}},\"type\":\"barpolar\"}],\"pie\":[{\"automargin\":true,\"type\":\"pie\"}]},\"layout\":{\"autotypenumbers\":\"strict\",\"colorway\":[\"#636efa\",\"#EF553B\",\"#00cc96\",\"#ab63fa\",\"#FFA15A\",\"#19d3f3\",\"#FF6692\",\"#B6E880\",\"#FF97FF\",\"#FECB52\"],\"font\":{\"color\":\"#2a3f5f\"},\"hovermode\":\"closest\",\"hoverlabel\":{\"align\":\"left\"},\"paper_bgcolor\":\"white\",\"plot_bgcolor\":\"#E5ECF6\",\"polar\":{\"bgcolor\":\"#E5ECF6\",\"angularaxis\":{\"gridcolor\":\"white\",\"linecolor\":\"white\",\"ticks\":\"\"},\"radialaxis\":{\"gridcolor\":\"white\",\"linecolor\":\"white\",\"ticks\":\"\"}},\"ternary\":{\"bgcolor\":\"#E5ECF6\",\"aaxis\":{\"gridcolor\":\"white\",\"linecolor\":\"white\",\"ticks\":\"\"},\"baxis\":{\"gridcolor\":\"white\",\"linecolor\":\"white\",\"ticks\":\"\"},\"caxis\":{\"gridcolor\":\"white\",\"linecolor\":\"white\",\"ticks\":\"\"}},\"coloraxis\":{\"colorbar\":{\"outlinewidth\":0,\"ticks\":\"\"}},\"colorscale\":{\"sequential\":[[0.0,\"#0d0887\"],[0.1111111111111111,\"#46039f\"],[0.2222222222222222,\"#7201a8\"],[0.3333333333333333,\"#9c179e\"],[0.4444444444444444,\"#bd3786\"],[0.5555555555555556,\"#d8576b\"],[0.6666666666666666,\"#ed7953\"],[0.7777777777777778,\"#fb9f3a\"],[0.8888888888888888,\"#fdca26\"],[1.0,\"#f0f921\"]],\"sequentialminus\":[[0.0,\"#0d0887\"],[0.1111111111111111,\"#46039f\"],[0.2222222222222222,\"#7201a8\"],[0.3333333333333333,\"#9c179e\"],[0.4444444444444444,\"#bd3786\"],[0.5555555555555556,\"#d8576b\"],[0.6666666666666666,\"#ed7953\"],[0.7777777777777778,\"#fb9f3a\"],[0.8888888888888888,\"#fdca26\"],[1.0,\"#f0f921\"]],\"diverging\":[[0,\"#8e0152\"],[0.1,\"#c51b7d\"],[0.2,\"#de77ae\"],[0.3,\"#f1b6da\"],[0.4,\"#fde0ef\"],[0.5,\"#f7f7f7\"],[0.6,\"#e6f5d0\"],[0.7,\"#b8e186\"],[0.8,\"#7fbc41\"],[0.9,\"#4d9221\"],[1,\"#276419\"]]},\"xaxis\":{\"gridcolor\":\"white\",\"linecolor\":\"white\",\"ticks\":\"\",\"title\":{\"standoff\":15},\"zerolinecolor\":\"white\",\"automargin\":true,\"zerolinewidth\":2},\"yaxis\":{\"gridcolor\":\"white\",\"linecolor\":\"white\",\"ticks\":\"\",\"title\":{\"standoff\":15},\"zerolinecolor\":\"white\",\"automargin\":true,\"zerolinewidth\":2},\"scene\":{\"xaxis\":{\"backgroundcolor\":\"#E5ECF6\",\"gridcolor\":\"white\",\"linecolor\":\"white\",\"showbackground\":true,\"ticks\":\"\",\"zerolinecolor\":\"white\",\"gridwidth\":2},\"yaxis\":{\"backgroundcolor\":\"#E5ECF6\",\"gridcolor\":\"white\",\"linecolor\":\"white\",\"showbackground\":true,\"ticks\":\"\",\"zerolinecolor\":\"white\",\"gridwidth\":2},\"zaxis\":{\"backgroundcolor\":\"#E5ECF6\",\"gridcolor\":\"white\",\"linecolor\":\"white\",\"showbackground\":true,\"ticks\":\"\",\"zerolinecolor\":\"white\",\"gridwidth\":2}},\"shapedefaults\":{\"line\":{\"color\":\"#2a3f5f\"}},\"annotationdefaults\":{\"arrowcolor\":\"#2a3f5f\",\"arrowhead\":0,\"arrowwidth\":1},\"geo\":{\"bgcolor\":\"white\",\"landcolor\":\"#E5ECF6\",\"subunitcolor\":\"white\",\"showland\":true,\"showlakes\":true,\"lakecolor\":\"white\"},\"title\":{\"x\":0.05},\"mapbox\":{\"style\":\"light\"}}},\"legend\":{\"tracegroupgap\":0,\"title\":{\"text\":\"Метод\"},\"font\":{\"size\":12,\"color\":\"#8B4513\"},\"orientation\":\"h\",\"yanchor\":\"bottom\",\"y\":1.02,\"xanchor\":\"right\",\"x\":1},\"title\":{\"text\":\"Интерактивное распределение времени выполнения\",\"font\":{\"size\":20,\"color\":\"#8B4513\",\"family\":\"Georgia\"},\"x\":0.5},\"piecolorway\":[\"#cd5963\",\"#ff9177\",\"#fffbc5\"],\"margin\":{\"t\":80,\"l\":30,\"r\":30,\"b\":50},\"paper_bgcolor\":\"rgba(235,219,178,0.1)\",\"plot_bgcolor\":\"rgba(255,255,224,0.3)\"},                        {\"responsive\": true}                    ).then(function(){\n",
              "                            \n",
              "var gd = document.getElementById('533a2e12-e822-4241-89d2-d4f299c3f847');\n",
              "var x = new MutationObserver(function (mutations, observer) {{\n",
              "        var display = window.getComputedStyle(gd).display;\n",
              "        if (!display || display === 'none') {{\n",
              "            console.log([gd, 'removed!']);\n",
              "            Plotly.purge(gd);\n",
              "            observer.disconnect();\n",
              "        }}\n",
              "}});\n",
              "\n",
              "// Listen for the removal of the full notebook cells\n",
              "var notebookContainer = gd.closest('#notebook-container');\n",
              "if (notebookContainer) {{\n",
              "    x.observe(notebookContainer, {childList: true});\n",
              "}}\n",
              "\n",
              "// Listen for the clearing of the current output cell\n",
              "var outputEl = gd.closest('.output');\n",
              "if (outputEl) {{\n",
              "    x.observe(outputEl, {childList: true});\n",
              "}}\n",
              "\n",
              "                        })                };                            </script>        </div>\n",
              "</body>\n",
              "</html>"
            ]
          },
          "metadata": {}
        }
      ]
    },
    {
      "cell_type": "code",
      "source": [
        "import plotly.express as px\n",
        "import pandas as pd\n",
        "\n",
        "# Цветовая палитра\n",
        "palette = [\n",
        "    \"#cd5963\",\n",
        "    \"#ff9177\",\n",
        "    \"#fffbc5\"\n",
        "]\n",
        "\n",
        "# Подготовка данных\n",
        "data = {\n",
        "    \"Method\": [\"Threading\", \"Multiprocessing\", \"Async\"],\n",
        "    \"Execution Time (s)\": [0.97, 0.42, 0.19]\n",
        "}\n",
        "df = pd.DataFrame(data)\n",
        "\n",
        "# Столбчатая диаграмма с медовой палитрой\n",
        "fig = px.bar(\n",
        "    df,\n",
        "    x=\"Method\",\n",
        "    y=\"Execution Time (s)\",\n",
        "    title=\"Сравнение времени выполнения\\n(Сумма от 1 до 10 млн)\",\n",
        "    color=\"Method\",\n",
        "    color_discrete_sequence=palette,\n",
        "    labels={\"Method\": \"Метод\", \"Execution Time (s)\": \"Время (сек)\"},\n",
        "    text_auto=\".2f\",\n",
        "    height=500,\n",
        "    width=800\n",
        ")\n",
        "\n",
        "# Настройка стиля\n",
        "fig.update_traces(\n",
        "    marker_line_color=\"#632f50\",\n",
        "    marker_line_width=2,\n",
        "    textposition='outside',\n",
        "    hovertemplate=\"<br>\".join([\n",
        "        \"Метод: %{x}\",\n",
        "        \"Время: %{y:.2f}s\"\n",
        "    ])\n",
        ")\n",
        "\n",
        "fig.update_layout(\n",
        "    title_font=dict(size=20, color=\"#8B4513\", family=\"Georgia\"),\n",
        "    title_x=0.5,\n",
        "    legend_title_text='Метод',\n",
        "    legend=dict(\n",
        "        orientation='h',\n",
        "        yanchor='bottom',\n",
        "        y=1.02,\n",
        "        xanchor='right',\n",
        "        x=1,\n",
        "        font=dict(size=12, color=\"#8B4513\")\n",
        "    ),\n",
        "    paper_bgcolor='rgba(235,219,178,0.1)',\n",
        "    plot_bgcolor='rgba(255,255,224)',\n",
        "    margin=dict(t=80, l=30, r=30, b=50),\n",
        "    xaxis_title_font=dict(size=14, color=\"#8B4513\"),\n",
        "    yaxis_title_font=dict(size=14, color=\"#8B4513\"),\n",
        "    xaxis_tickfont=dict(size=12, color=\"#8B4513\"),\n",
        "    yaxis_tickfont=dict(size=12, color=\"#8B4513\"),\n",
        "    hoverlabel=dict(bgcolor=\"#FFD700\", font_size=14)\n",
        ")\n",
        "\n",
        "fig.show()"
      ],
      "metadata": {
        "id": "mqi0nUKZ7oly",
        "colab": {
          "base_uri": "https://localhost:8080/",
          "height": 537
        },
        "outputId": "1b8da05e-2ec9-4df1-f916-908146694126"
      },
      "execution_count": null,
      "outputs": [
        {
          "output_type": "display_data",
          "data": {
            "text/html": [
              "<html>\n",
              "<head><meta charset=\"utf-8\" /></head>\n",
              "<body>\n",
              "    <div>            <script src=\"https://cdnjs.cloudflare.com/ajax/libs/mathjax/2.7.5/MathJax.js?config=TeX-AMS-MML_SVG\"></script><script type=\"text/javascript\">if (window.MathJax && window.MathJax.Hub && window.MathJax.Hub.Config) {window.MathJax.Hub.Config({SVG: {font: \"STIX-Web\"}});}</script>                <script type=\"text/javascript\">window.PlotlyConfig = {MathJaxConfig: 'local'};</script>\n",
              "        <script charset=\"utf-8\" src=\"https://cdn.plot.ly/plotly-2.35.2.min.js\"></script>                <div id=\"f0b4607e-fb3d-4eaf-bf39-5d87e82db304\" class=\"plotly-graph-div\" style=\"height:500px; width:800px;\"></div>            <script type=\"text/javascript\">                                    window.PLOTLYENV=window.PLOTLYENV || {};                                    if (document.getElementById(\"f0b4607e-fb3d-4eaf-bf39-5d87e82db304\")) {                    Plotly.newPlot(                        \"f0b4607e-fb3d-4eaf-bf39-5d87e82db304\",                        [{\"alignmentgroup\":\"True\",\"hovertemplate\":\"Метод: %{x}\\u003cbr\\u003eВремя: %{y:.2f}s\",\"legendgroup\":\"Threading\",\"marker\":{\"color\":\"#cd5963\",\"pattern\":{\"shape\":\"\"},\"line\":{\"color\":\"#632f50\",\"width\":2}},\"name\":\"Threading\",\"offsetgroup\":\"Threading\",\"orientation\":\"v\",\"showlegend\":true,\"textposition\":\"outside\",\"texttemplate\":\"%{y:.2f}\",\"x\":[\"Threading\"],\"xaxis\":\"x\",\"y\":[0.97],\"yaxis\":\"y\",\"type\":\"bar\"},{\"alignmentgroup\":\"True\",\"hovertemplate\":\"Метод: %{x}\\u003cbr\\u003eВремя: %{y:.2f}s\",\"legendgroup\":\"Multiprocessing\",\"marker\":{\"color\":\"#ff9177\",\"pattern\":{\"shape\":\"\"},\"line\":{\"color\":\"#632f50\",\"width\":2}},\"name\":\"Multiprocessing\",\"offsetgroup\":\"Multiprocessing\",\"orientation\":\"v\",\"showlegend\":true,\"textposition\":\"outside\",\"texttemplate\":\"%{y:.2f}\",\"x\":[\"Multiprocessing\"],\"xaxis\":\"x\",\"y\":[0.42],\"yaxis\":\"y\",\"type\":\"bar\"},{\"alignmentgroup\":\"True\",\"hovertemplate\":\"Метод: %{x}\\u003cbr\\u003eВремя: %{y:.2f}s\",\"legendgroup\":\"Async\",\"marker\":{\"color\":\"#fffbc5\",\"pattern\":{\"shape\":\"\"},\"line\":{\"color\":\"#632f50\",\"width\":2}},\"name\":\"Async\",\"offsetgroup\":\"Async\",\"orientation\":\"v\",\"showlegend\":true,\"textposition\":\"outside\",\"texttemplate\":\"%{y:.2f}\",\"x\":[\"Async\"],\"xaxis\":\"x\",\"y\":[0.19],\"yaxis\":\"y\",\"type\":\"bar\"}],                        {\"template\":{\"data\":{\"histogram2dcontour\":[{\"type\":\"histogram2dcontour\",\"colorbar\":{\"outlinewidth\":0,\"ticks\":\"\"},\"colorscale\":[[0.0,\"#0d0887\"],[0.1111111111111111,\"#46039f\"],[0.2222222222222222,\"#7201a8\"],[0.3333333333333333,\"#9c179e\"],[0.4444444444444444,\"#bd3786\"],[0.5555555555555556,\"#d8576b\"],[0.6666666666666666,\"#ed7953\"],[0.7777777777777778,\"#fb9f3a\"],[0.8888888888888888,\"#fdca26\"],[1.0,\"#f0f921\"]]}],\"choropleth\":[{\"type\":\"choropleth\",\"colorbar\":{\"outlinewidth\":0,\"ticks\":\"\"}}],\"histogram2d\":[{\"type\":\"histogram2d\",\"colorbar\":{\"outlinewidth\":0,\"ticks\":\"\"},\"colorscale\":[[0.0,\"#0d0887\"],[0.1111111111111111,\"#46039f\"],[0.2222222222222222,\"#7201a8\"],[0.3333333333333333,\"#9c179e\"],[0.4444444444444444,\"#bd3786\"],[0.5555555555555556,\"#d8576b\"],[0.6666666666666666,\"#ed7953\"],[0.7777777777777778,\"#fb9f3a\"],[0.8888888888888888,\"#fdca26\"],[1.0,\"#f0f921\"]]}],\"heatmap\":[{\"type\":\"heatmap\",\"colorbar\":{\"outlinewidth\":0,\"ticks\":\"\"},\"colorscale\":[[0.0,\"#0d0887\"],[0.1111111111111111,\"#46039f\"],[0.2222222222222222,\"#7201a8\"],[0.3333333333333333,\"#9c179e\"],[0.4444444444444444,\"#bd3786\"],[0.5555555555555556,\"#d8576b\"],[0.6666666666666666,\"#ed7953\"],[0.7777777777777778,\"#fb9f3a\"],[0.8888888888888888,\"#fdca26\"],[1.0,\"#f0f921\"]]}],\"heatmapgl\":[{\"type\":\"heatmapgl\",\"colorbar\":{\"outlinewidth\":0,\"ticks\":\"\"},\"colorscale\":[[0.0,\"#0d0887\"],[0.1111111111111111,\"#46039f\"],[0.2222222222222222,\"#7201a8\"],[0.3333333333333333,\"#9c179e\"],[0.4444444444444444,\"#bd3786\"],[0.5555555555555556,\"#d8576b\"],[0.6666666666666666,\"#ed7953\"],[0.7777777777777778,\"#fb9f3a\"],[0.8888888888888888,\"#fdca26\"],[1.0,\"#f0f921\"]]}],\"contourcarpet\":[{\"type\":\"contourcarpet\",\"colorbar\":{\"outlinewidth\":0,\"ticks\":\"\"}}],\"contour\":[{\"type\":\"contour\",\"colorbar\":{\"outlinewidth\":0,\"ticks\":\"\"},\"colorscale\":[[0.0,\"#0d0887\"],[0.1111111111111111,\"#46039f\"],[0.2222222222222222,\"#7201a8\"],[0.3333333333333333,\"#9c179e\"],[0.4444444444444444,\"#bd3786\"],[0.5555555555555556,\"#d8576b\"],[0.6666666666666666,\"#ed7953\"],[0.7777777777777778,\"#fb9f3a\"],[0.8888888888888888,\"#fdca26\"],[1.0,\"#f0f921\"]]}],\"surface\":[{\"type\":\"surface\",\"colorbar\":{\"outlinewidth\":0,\"ticks\":\"\"},\"colorscale\":[[0.0,\"#0d0887\"],[0.1111111111111111,\"#46039f\"],[0.2222222222222222,\"#7201a8\"],[0.3333333333333333,\"#9c179e\"],[0.4444444444444444,\"#bd3786\"],[0.5555555555555556,\"#d8576b\"],[0.6666666666666666,\"#ed7953\"],[0.7777777777777778,\"#fb9f3a\"],[0.8888888888888888,\"#fdca26\"],[1.0,\"#f0f921\"]]}],\"mesh3d\":[{\"type\":\"mesh3d\",\"colorbar\":{\"outlinewidth\":0,\"ticks\":\"\"}}],\"scatter\":[{\"fillpattern\":{\"fillmode\":\"overlay\",\"size\":10,\"solidity\":0.2},\"type\":\"scatter\"}],\"parcoords\":[{\"type\":\"parcoords\",\"line\":{\"colorbar\":{\"outlinewidth\":0,\"ticks\":\"\"}}}],\"scatterpolargl\":[{\"type\":\"scatterpolargl\",\"marker\":{\"colorbar\":{\"outlinewidth\":0,\"ticks\":\"\"}}}],\"bar\":[{\"error_x\":{\"color\":\"#2a3f5f\"},\"error_y\":{\"color\":\"#2a3f5f\"},\"marker\":{\"line\":{\"color\":\"#E5ECF6\",\"width\":0.5},\"pattern\":{\"fillmode\":\"overlay\",\"size\":10,\"solidity\":0.2}},\"type\":\"bar\"}],\"scattergeo\":[{\"type\":\"scattergeo\",\"marker\":{\"colorbar\":{\"outlinewidth\":0,\"ticks\":\"\"}}}],\"scatterpolar\":[{\"type\":\"scatterpolar\",\"marker\":{\"colorbar\":{\"outlinewidth\":0,\"ticks\":\"\"}}}],\"histogram\":[{\"marker\":{\"pattern\":{\"fillmode\":\"overlay\",\"size\":10,\"solidity\":0.2}},\"type\":\"histogram\"}],\"scattergl\":[{\"type\":\"scattergl\",\"marker\":{\"colorbar\":{\"outlinewidth\":0,\"ticks\":\"\"}}}],\"scatter3d\":[{\"type\":\"scatter3d\",\"line\":{\"colorbar\":{\"outlinewidth\":0,\"ticks\":\"\"}},\"marker\":{\"colorbar\":{\"outlinewidth\":0,\"ticks\":\"\"}}}],\"scattermapbox\":[{\"type\":\"scattermapbox\",\"marker\":{\"colorbar\":{\"outlinewidth\":0,\"ticks\":\"\"}}}],\"scatterternary\":[{\"type\":\"scatterternary\",\"marker\":{\"colorbar\":{\"outlinewidth\":0,\"ticks\":\"\"}}}],\"scattercarpet\":[{\"type\":\"scattercarpet\",\"marker\":{\"colorbar\":{\"outlinewidth\":0,\"ticks\":\"\"}}}],\"carpet\":[{\"aaxis\":{\"endlinecolor\":\"#2a3f5f\",\"gridcolor\":\"white\",\"linecolor\":\"white\",\"minorgridcolor\":\"white\",\"startlinecolor\":\"#2a3f5f\"},\"baxis\":{\"endlinecolor\":\"#2a3f5f\",\"gridcolor\":\"white\",\"linecolor\":\"white\",\"minorgridcolor\":\"white\",\"startlinecolor\":\"#2a3f5f\"},\"type\":\"carpet\"}],\"table\":[{\"cells\":{\"fill\":{\"color\":\"#EBF0F8\"},\"line\":{\"color\":\"white\"}},\"header\":{\"fill\":{\"color\":\"#C8D4E3\"},\"line\":{\"color\":\"white\"}},\"type\":\"table\"}],\"barpolar\":[{\"marker\":{\"line\":{\"color\":\"#E5ECF6\",\"width\":0.5},\"pattern\":{\"fillmode\":\"overlay\",\"size\":10,\"solidity\":0.2}},\"type\":\"barpolar\"}],\"pie\":[{\"automargin\":true,\"type\":\"pie\"}]},\"layout\":{\"autotypenumbers\":\"strict\",\"colorway\":[\"#636efa\",\"#EF553B\",\"#00cc96\",\"#ab63fa\",\"#FFA15A\",\"#19d3f3\",\"#FF6692\",\"#B6E880\",\"#FF97FF\",\"#FECB52\"],\"font\":{\"color\":\"#2a3f5f\"},\"hovermode\":\"closest\",\"hoverlabel\":{\"align\":\"left\"},\"paper_bgcolor\":\"white\",\"plot_bgcolor\":\"#E5ECF6\",\"polar\":{\"bgcolor\":\"#E5ECF6\",\"angularaxis\":{\"gridcolor\":\"white\",\"linecolor\":\"white\",\"ticks\":\"\"},\"radialaxis\":{\"gridcolor\":\"white\",\"linecolor\":\"white\",\"ticks\":\"\"}},\"ternary\":{\"bgcolor\":\"#E5ECF6\",\"aaxis\":{\"gridcolor\":\"white\",\"linecolor\":\"white\",\"ticks\":\"\"},\"baxis\":{\"gridcolor\":\"white\",\"linecolor\":\"white\",\"ticks\":\"\"},\"caxis\":{\"gridcolor\":\"white\",\"linecolor\":\"white\",\"ticks\":\"\"}},\"coloraxis\":{\"colorbar\":{\"outlinewidth\":0,\"ticks\":\"\"}},\"colorscale\":{\"sequential\":[[0.0,\"#0d0887\"],[0.1111111111111111,\"#46039f\"],[0.2222222222222222,\"#7201a8\"],[0.3333333333333333,\"#9c179e\"],[0.4444444444444444,\"#bd3786\"],[0.5555555555555556,\"#d8576b\"],[0.6666666666666666,\"#ed7953\"],[0.7777777777777778,\"#fb9f3a\"],[0.8888888888888888,\"#fdca26\"],[1.0,\"#f0f921\"]],\"sequentialminus\":[[0.0,\"#0d0887\"],[0.1111111111111111,\"#46039f\"],[0.2222222222222222,\"#7201a8\"],[0.3333333333333333,\"#9c179e\"],[0.4444444444444444,\"#bd3786\"],[0.5555555555555556,\"#d8576b\"],[0.6666666666666666,\"#ed7953\"],[0.7777777777777778,\"#fb9f3a\"],[0.8888888888888888,\"#fdca26\"],[1.0,\"#f0f921\"]],\"diverging\":[[0,\"#8e0152\"],[0.1,\"#c51b7d\"],[0.2,\"#de77ae\"],[0.3,\"#f1b6da\"],[0.4,\"#fde0ef\"],[0.5,\"#f7f7f7\"],[0.6,\"#e6f5d0\"],[0.7,\"#b8e186\"],[0.8,\"#7fbc41\"],[0.9,\"#4d9221\"],[1,\"#276419\"]]},\"xaxis\":{\"gridcolor\":\"white\",\"linecolor\":\"white\",\"ticks\":\"\",\"title\":{\"standoff\":15},\"zerolinecolor\":\"white\",\"automargin\":true,\"zerolinewidth\":2},\"yaxis\":{\"gridcolor\":\"white\",\"linecolor\":\"white\",\"ticks\":\"\",\"title\":{\"standoff\":15},\"zerolinecolor\":\"white\",\"automargin\":true,\"zerolinewidth\":2},\"scene\":{\"xaxis\":{\"backgroundcolor\":\"#E5ECF6\",\"gridcolor\":\"white\",\"linecolor\":\"white\",\"showbackground\":true,\"ticks\":\"\",\"zerolinecolor\":\"white\",\"gridwidth\":2},\"yaxis\":{\"backgroundcolor\":\"#E5ECF6\",\"gridcolor\":\"white\",\"linecolor\":\"white\",\"showbackground\":true,\"ticks\":\"\",\"zerolinecolor\":\"white\",\"gridwidth\":2},\"zaxis\":{\"backgroundcolor\":\"#E5ECF6\",\"gridcolor\":\"white\",\"linecolor\":\"white\",\"showbackground\":true,\"ticks\":\"\",\"zerolinecolor\":\"white\",\"gridwidth\":2}},\"shapedefaults\":{\"line\":{\"color\":\"#2a3f5f\"}},\"annotationdefaults\":{\"arrowcolor\":\"#2a3f5f\",\"arrowhead\":0,\"arrowwidth\":1},\"geo\":{\"bgcolor\":\"white\",\"landcolor\":\"#E5ECF6\",\"subunitcolor\":\"white\",\"showland\":true,\"showlakes\":true,\"lakecolor\":\"white\"},\"title\":{\"x\":0.05},\"mapbox\":{\"style\":\"light\"}}},\"xaxis\":{\"anchor\":\"y\",\"domain\":[0.0,1.0],\"title\":{\"text\":\"Метод\",\"font\":{\"size\":14,\"color\":\"#8B4513\"}},\"categoryorder\":\"array\",\"categoryarray\":[\"Threading\",\"Multiprocessing\",\"Async\"],\"tickfont\":{\"size\":12,\"color\":\"#8B4513\"}},\"yaxis\":{\"anchor\":\"x\",\"domain\":[0.0,1.0],\"title\":{\"text\":\"Время (сек)\",\"font\":{\"size\":14,\"color\":\"#8B4513\"}},\"tickfont\":{\"size\":12,\"color\":\"#8B4513\"}},\"legend\":{\"title\":{\"text\":\"Метод\"},\"tracegroupgap\":0,\"font\":{\"size\":12,\"color\":\"#8B4513\"},\"orientation\":\"h\",\"yanchor\":\"bottom\",\"y\":1.02,\"xanchor\":\"right\",\"x\":1},\"title\":{\"text\":\"Сравнение времени выполнения\\n(Сумма от 1 до 10 млн)\",\"font\":{\"size\":20,\"color\":\"#8B4513\",\"family\":\"Georgia\"},\"x\":0.5},\"barmode\":\"relative\",\"height\":500,\"width\":800,\"margin\":{\"t\":80,\"l\":30,\"r\":30,\"b\":50},\"hoverlabel\":{\"font\":{\"size\":14},\"bgcolor\":\"#FFD700\"},\"paper_bgcolor\":\"rgba(235,219,178,0.1)\",\"plot_bgcolor\":\"rgba(255,255,224)\"},                        {\"responsive\": true}                    ).then(function(){\n",
              "                            \n",
              "var gd = document.getElementById('f0b4607e-fb3d-4eaf-bf39-5d87e82db304');\n",
              "var x = new MutationObserver(function (mutations, observer) {{\n",
              "        var display = window.getComputedStyle(gd).display;\n",
              "        if (!display || display === 'none') {{\n",
              "            console.log([gd, 'removed!']);\n",
              "            Plotly.purge(gd);\n",
              "            observer.disconnect();\n",
              "        }}\n",
              "}});\n",
              "\n",
              "// Listen for the removal of the full notebook cells\n",
              "var notebookContainer = gd.closest('#notebook-container');\n",
              "if (notebookContainer) {{\n",
              "    x.observe(notebookContainer, {childList: true});\n",
              "}}\n",
              "\n",
              "// Listen for the clearing of the current output cell\n",
              "var outputEl = gd.closest('.output');\n",
              "if (outputEl) {{\n",
              "    x.observe(outputEl, {childList: true});\n",
              "}}\n",
              "\n",
              "                        })                };                            </script>        </div>\n",
              "</body>\n",
              "</html>"
            ]
          },
          "metadata": {}
        }
      ]
    },
    {
      "cell_type": "code",
      "source": [
        "import plotly.express as px\n",
        "import pandas as pd\n",
        "\n",
        "# Цветовая палитра\n",
        "palette = [\n",
        "    \"#cd5963\",\n",
        "    \"#ff9177\",\n",
        "    \"#fffbc5\"\n",
        "]\n",
        "\n",
        "# Подготовка данных\n",
        "data = {\n",
        "    \"Method\": [\"Threading\", \"Multiprocessing\", \"Async\"],\n",
        "    \"Execution Time (s)\": [0.97, 0.42, 0.19]\n",
        "}\n",
        "df = pd.DataFrame(data)\n",
        "\n",
        "# Линейный график\n",
        "fig = px.line(\n",
        "    df,\n",
        "    x=\"Method\",\n",
        "    y=\"Execution Time (s)\",\n",
        "    title=\"Тренд времени выполнения по методам\",\n",
        "    color_discrete_sequence=[palette[0]],\n",
        "    markers=True,\n",
        "    labels={\"Method\": \"Метод\", \"Execution Time (s)\": \"Время (сек)\"},\n",
        "    height=500,\n",
        "    width=800\n",
        ")\n",
        "\n",
        "# Добавление значений над точками\n",
        "fig.update_traces(\n",
        "    marker=dict(\n",
        "        size=12,\n",
        "        color=\"#632f50\",\n",
        "        line=dict(width=2, color=\"#8B4513\")\n",
        "    ),\n",
        "    line=dict(width=3),\n",
        "    text=df[\"Execution Time (s)\"].round(2),\n",
        "    textposition=\"top center\",\n",
        "    hovertemplate=\"<br>\".join([\n",
        "        \"Метод: %{x}\",\n",
        "        \"Время: %{y:.2f}s\"\n",
        "    ])\n",
        ")\n",
        "\n",
        "fig.update_layout(\n",
        "    title_font=dict(size=20, color=\"#8B4513\", family=\"Georgia\"),\n",
        "    title_x=0.5,\n",
        "    legend=dict(\n",
        "        orientation='h',\n",
        "        yanchor='bottom',\n",
        "        y=1.02,\n",
        "        xanchor='right',\n",
        "        x=1,\n",
        "        font=dict(size=12, color=\"#8B4513\")\n",
        "    ),\n",
        "    paper_bgcolor='rgba(235,219,178,0.1)',\n",
        "    plot_bgcolor='rgba(255,255,224)',\n",
        "    margin=dict(t=80, l=30, r=30, b=50),\n",
        "    xaxis_title_font=dict(size=14, color=\"#8B4513\"),\n",
        "    yaxis_title_font=dict(size=14, color=\"#8B4513\"),\n",
        "    xaxis_tickfont=dict(size=12, color=\"#8B4513\"),\n",
        "    yaxis_tickfont=dict(size=12, color=\"#8B4513\"),\n",
        "    hoverlabel=dict(bgcolor=\"#FFD700\", font_size=14)\n",
        ")\n",
        "\n",
        "fig.show()"
      ],
      "metadata": {
        "id": "4EUlHBSL7unB",
        "colab": {
          "base_uri": "https://localhost:8080/",
          "height": 537
        },
        "outputId": "eeeda618-9221-48e9-e1ce-a3ecacbfe1bb"
      },
      "execution_count": null,
      "outputs": [
        {
          "output_type": "display_data",
          "data": {
            "text/html": [
              "<html>\n",
              "<head><meta charset=\"utf-8\" /></head>\n",
              "<body>\n",
              "    <div>            <script src=\"https://cdnjs.cloudflare.com/ajax/libs/mathjax/2.7.5/MathJax.js?config=TeX-AMS-MML_SVG\"></script><script type=\"text/javascript\">if (window.MathJax && window.MathJax.Hub && window.MathJax.Hub.Config) {window.MathJax.Hub.Config({SVG: {font: \"STIX-Web\"}});}</script>                <script type=\"text/javascript\">window.PlotlyConfig = {MathJaxConfig: 'local'};</script>\n",
              "        <script charset=\"utf-8\" src=\"https://cdn.plot.ly/plotly-2.35.2.min.js\"></script>                <div id=\"1e94e9ad-f7fd-4bce-b3a7-dbf0bc802c0a\" class=\"plotly-graph-div\" style=\"height:500px; width:800px;\"></div>            <script type=\"text/javascript\">                                    window.PLOTLYENV=window.PLOTLYENV || {};                                    if (document.getElementById(\"1e94e9ad-f7fd-4bce-b3a7-dbf0bc802c0a\")) {                    Plotly.newPlot(                        \"1e94e9ad-f7fd-4bce-b3a7-dbf0bc802c0a\",                        [{\"hovertemplate\":\"Метод: %{x}\\u003cbr\\u003eВремя: %{y:.2f}s\",\"legendgroup\":\"\",\"line\":{\"color\":\"#cd5963\",\"dash\":\"solid\",\"width\":3},\"marker\":{\"symbol\":\"circle\",\"line\":{\"color\":\"#8B4513\",\"width\":2},\"color\":\"#632f50\",\"size\":12},\"mode\":\"lines+markers\",\"name\":\"\",\"orientation\":\"v\",\"showlegend\":false,\"x\":[\"Threading\",\"Multiprocessing\",\"Async\"],\"xaxis\":\"x\",\"y\":[0.97,0.42,0.19],\"yaxis\":\"y\",\"type\":\"scatter\",\"text\":[0.97,0.42,0.19],\"textposition\":\"top center\"}],                        {\"template\":{\"data\":{\"histogram2dcontour\":[{\"type\":\"histogram2dcontour\",\"colorbar\":{\"outlinewidth\":0,\"ticks\":\"\"},\"colorscale\":[[0.0,\"#0d0887\"],[0.1111111111111111,\"#46039f\"],[0.2222222222222222,\"#7201a8\"],[0.3333333333333333,\"#9c179e\"],[0.4444444444444444,\"#bd3786\"],[0.5555555555555556,\"#d8576b\"],[0.6666666666666666,\"#ed7953\"],[0.7777777777777778,\"#fb9f3a\"],[0.8888888888888888,\"#fdca26\"],[1.0,\"#f0f921\"]]}],\"choropleth\":[{\"type\":\"choropleth\",\"colorbar\":{\"outlinewidth\":0,\"ticks\":\"\"}}],\"histogram2d\":[{\"type\":\"histogram2d\",\"colorbar\":{\"outlinewidth\":0,\"ticks\":\"\"},\"colorscale\":[[0.0,\"#0d0887\"],[0.1111111111111111,\"#46039f\"],[0.2222222222222222,\"#7201a8\"],[0.3333333333333333,\"#9c179e\"],[0.4444444444444444,\"#bd3786\"],[0.5555555555555556,\"#d8576b\"],[0.6666666666666666,\"#ed7953\"],[0.7777777777777778,\"#fb9f3a\"],[0.8888888888888888,\"#fdca26\"],[1.0,\"#f0f921\"]]}],\"heatmap\":[{\"type\":\"heatmap\",\"colorbar\":{\"outlinewidth\":0,\"ticks\":\"\"},\"colorscale\":[[0.0,\"#0d0887\"],[0.1111111111111111,\"#46039f\"],[0.2222222222222222,\"#7201a8\"],[0.3333333333333333,\"#9c179e\"],[0.4444444444444444,\"#bd3786\"],[0.5555555555555556,\"#d8576b\"],[0.6666666666666666,\"#ed7953\"],[0.7777777777777778,\"#fb9f3a\"],[0.8888888888888888,\"#fdca26\"],[1.0,\"#f0f921\"]]}],\"heatmapgl\":[{\"type\":\"heatmapgl\",\"colorbar\":{\"outlinewidth\":0,\"ticks\":\"\"},\"colorscale\":[[0.0,\"#0d0887\"],[0.1111111111111111,\"#46039f\"],[0.2222222222222222,\"#7201a8\"],[0.3333333333333333,\"#9c179e\"],[0.4444444444444444,\"#bd3786\"],[0.5555555555555556,\"#d8576b\"],[0.6666666666666666,\"#ed7953\"],[0.7777777777777778,\"#fb9f3a\"],[0.8888888888888888,\"#fdca26\"],[1.0,\"#f0f921\"]]}],\"contourcarpet\":[{\"type\":\"contourcarpet\",\"colorbar\":{\"outlinewidth\":0,\"ticks\":\"\"}}],\"contour\":[{\"type\":\"contour\",\"colorbar\":{\"outlinewidth\":0,\"ticks\":\"\"},\"colorscale\":[[0.0,\"#0d0887\"],[0.1111111111111111,\"#46039f\"],[0.2222222222222222,\"#7201a8\"],[0.3333333333333333,\"#9c179e\"],[0.4444444444444444,\"#bd3786\"],[0.5555555555555556,\"#d8576b\"],[0.6666666666666666,\"#ed7953\"],[0.7777777777777778,\"#fb9f3a\"],[0.8888888888888888,\"#fdca26\"],[1.0,\"#f0f921\"]]}],\"surface\":[{\"type\":\"surface\",\"colorbar\":{\"outlinewidth\":0,\"ticks\":\"\"},\"colorscale\":[[0.0,\"#0d0887\"],[0.1111111111111111,\"#46039f\"],[0.2222222222222222,\"#7201a8\"],[0.3333333333333333,\"#9c179e\"],[0.4444444444444444,\"#bd3786\"],[0.5555555555555556,\"#d8576b\"],[0.6666666666666666,\"#ed7953\"],[0.7777777777777778,\"#fb9f3a\"],[0.8888888888888888,\"#fdca26\"],[1.0,\"#f0f921\"]]}],\"mesh3d\":[{\"type\":\"mesh3d\",\"colorbar\":{\"outlinewidth\":0,\"ticks\":\"\"}}],\"scatter\":[{\"fillpattern\":{\"fillmode\":\"overlay\",\"size\":10,\"solidity\":0.2},\"type\":\"scatter\"}],\"parcoords\":[{\"type\":\"parcoords\",\"line\":{\"colorbar\":{\"outlinewidth\":0,\"ticks\":\"\"}}}],\"scatterpolargl\":[{\"type\":\"scatterpolargl\",\"marker\":{\"colorbar\":{\"outlinewidth\":0,\"ticks\":\"\"}}}],\"bar\":[{\"error_x\":{\"color\":\"#2a3f5f\"},\"error_y\":{\"color\":\"#2a3f5f\"},\"marker\":{\"line\":{\"color\":\"#E5ECF6\",\"width\":0.5},\"pattern\":{\"fillmode\":\"overlay\",\"size\":10,\"solidity\":0.2}},\"type\":\"bar\"}],\"scattergeo\":[{\"type\":\"scattergeo\",\"marker\":{\"colorbar\":{\"outlinewidth\":0,\"ticks\":\"\"}}}],\"scatterpolar\":[{\"type\":\"scatterpolar\",\"marker\":{\"colorbar\":{\"outlinewidth\":0,\"ticks\":\"\"}}}],\"histogram\":[{\"marker\":{\"pattern\":{\"fillmode\":\"overlay\",\"size\":10,\"solidity\":0.2}},\"type\":\"histogram\"}],\"scattergl\":[{\"type\":\"scattergl\",\"marker\":{\"colorbar\":{\"outlinewidth\":0,\"ticks\":\"\"}}}],\"scatter3d\":[{\"type\":\"scatter3d\",\"line\":{\"colorbar\":{\"outlinewidth\":0,\"ticks\":\"\"}},\"marker\":{\"colorbar\":{\"outlinewidth\":0,\"ticks\":\"\"}}}],\"scattermapbox\":[{\"type\":\"scattermapbox\",\"marker\":{\"colorbar\":{\"outlinewidth\":0,\"ticks\":\"\"}}}],\"scatterternary\":[{\"type\":\"scatterternary\",\"marker\":{\"colorbar\":{\"outlinewidth\":0,\"ticks\":\"\"}}}],\"scattercarpet\":[{\"type\":\"scattercarpet\",\"marker\":{\"colorbar\":{\"outlinewidth\":0,\"ticks\":\"\"}}}],\"carpet\":[{\"aaxis\":{\"endlinecolor\":\"#2a3f5f\",\"gridcolor\":\"white\",\"linecolor\":\"white\",\"minorgridcolor\":\"white\",\"startlinecolor\":\"#2a3f5f\"},\"baxis\":{\"endlinecolor\":\"#2a3f5f\",\"gridcolor\":\"white\",\"linecolor\":\"white\",\"minorgridcolor\":\"white\",\"startlinecolor\":\"#2a3f5f\"},\"type\":\"carpet\"}],\"table\":[{\"cells\":{\"fill\":{\"color\":\"#EBF0F8\"},\"line\":{\"color\":\"white\"}},\"header\":{\"fill\":{\"color\":\"#C8D4E3\"},\"line\":{\"color\":\"white\"}},\"type\":\"table\"}],\"barpolar\":[{\"marker\":{\"line\":{\"color\":\"#E5ECF6\",\"width\":0.5},\"pattern\":{\"fillmode\":\"overlay\",\"size\":10,\"solidity\":0.2}},\"type\":\"barpolar\"}],\"pie\":[{\"automargin\":true,\"type\":\"pie\"}]},\"layout\":{\"autotypenumbers\":\"strict\",\"colorway\":[\"#636efa\",\"#EF553B\",\"#00cc96\",\"#ab63fa\",\"#FFA15A\",\"#19d3f3\",\"#FF6692\",\"#B6E880\",\"#FF97FF\",\"#FECB52\"],\"font\":{\"color\":\"#2a3f5f\"},\"hovermode\":\"closest\",\"hoverlabel\":{\"align\":\"left\"},\"paper_bgcolor\":\"white\",\"plot_bgcolor\":\"#E5ECF6\",\"polar\":{\"bgcolor\":\"#E5ECF6\",\"angularaxis\":{\"gridcolor\":\"white\",\"linecolor\":\"white\",\"ticks\":\"\"},\"radialaxis\":{\"gridcolor\":\"white\",\"linecolor\":\"white\",\"ticks\":\"\"}},\"ternary\":{\"bgcolor\":\"#E5ECF6\",\"aaxis\":{\"gridcolor\":\"white\",\"linecolor\":\"white\",\"ticks\":\"\"},\"baxis\":{\"gridcolor\":\"white\",\"linecolor\":\"white\",\"ticks\":\"\"},\"caxis\":{\"gridcolor\":\"white\",\"linecolor\":\"white\",\"ticks\":\"\"}},\"coloraxis\":{\"colorbar\":{\"outlinewidth\":0,\"ticks\":\"\"}},\"colorscale\":{\"sequential\":[[0.0,\"#0d0887\"],[0.1111111111111111,\"#46039f\"],[0.2222222222222222,\"#7201a8\"],[0.3333333333333333,\"#9c179e\"],[0.4444444444444444,\"#bd3786\"],[0.5555555555555556,\"#d8576b\"],[0.6666666666666666,\"#ed7953\"],[0.7777777777777778,\"#fb9f3a\"],[0.8888888888888888,\"#fdca26\"],[1.0,\"#f0f921\"]],\"sequentialminus\":[[0.0,\"#0d0887\"],[0.1111111111111111,\"#46039f\"],[0.2222222222222222,\"#7201a8\"],[0.3333333333333333,\"#9c179e\"],[0.4444444444444444,\"#bd3786\"],[0.5555555555555556,\"#d8576b\"],[0.6666666666666666,\"#ed7953\"],[0.7777777777777778,\"#fb9f3a\"],[0.8888888888888888,\"#fdca26\"],[1.0,\"#f0f921\"]],\"diverging\":[[0,\"#8e0152\"],[0.1,\"#c51b7d\"],[0.2,\"#de77ae\"],[0.3,\"#f1b6da\"],[0.4,\"#fde0ef\"],[0.5,\"#f7f7f7\"],[0.6,\"#e6f5d0\"],[0.7,\"#b8e186\"],[0.8,\"#7fbc41\"],[0.9,\"#4d9221\"],[1,\"#276419\"]]},\"xaxis\":{\"gridcolor\":\"white\",\"linecolor\":\"white\",\"ticks\":\"\",\"title\":{\"standoff\":15},\"zerolinecolor\":\"white\",\"automargin\":true,\"zerolinewidth\":2},\"yaxis\":{\"gridcolor\":\"white\",\"linecolor\":\"white\",\"ticks\":\"\",\"title\":{\"standoff\":15},\"zerolinecolor\":\"white\",\"automargin\":true,\"zerolinewidth\":2},\"scene\":{\"xaxis\":{\"backgroundcolor\":\"#E5ECF6\",\"gridcolor\":\"white\",\"linecolor\":\"white\",\"showbackground\":true,\"ticks\":\"\",\"zerolinecolor\":\"white\",\"gridwidth\":2},\"yaxis\":{\"backgroundcolor\":\"#E5ECF6\",\"gridcolor\":\"white\",\"linecolor\":\"white\",\"showbackground\":true,\"ticks\":\"\",\"zerolinecolor\":\"white\",\"gridwidth\":2},\"zaxis\":{\"backgroundcolor\":\"#E5ECF6\",\"gridcolor\":\"white\",\"linecolor\":\"white\",\"showbackground\":true,\"ticks\":\"\",\"zerolinecolor\":\"white\",\"gridwidth\":2}},\"shapedefaults\":{\"line\":{\"color\":\"#2a3f5f\"}},\"annotationdefaults\":{\"arrowcolor\":\"#2a3f5f\",\"arrowhead\":0,\"arrowwidth\":1},\"geo\":{\"bgcolor\":\"white\",\"landcolor\":\"#E5ECF6\",\"subunitcolor\":\"white\",\"showland\":true,\"showlakes\":true,\"lakecolor\":\"white\"},\"title\":{\"x\":0.05},\"mapbox\":{\"style\":\"light\"}}},\"xaxis\":{\"anchor\":\"y\",\"domain\":[0.0,1.0],\"title\":{\"text\":\"Метод\",\"font\":{\"size\":14,\"color\":\"#8B4513\"}},\"tickfont\":{\"size\":12,\"color\":\"#8B4513\"}},\"yaxis\":{\"anchor\":\"x\",\"domain\":[0.0,1.0],\"title\":{\"text\":\"Время (сек)\",\"font\":{\"size\":14,\"color\":\"#8B4513\"}},\"tickfont\":{\"size\":12,\"color\":\"#8B4513\"}},\"legend\":{\"tracegroupgap\":0,\"font\":{\"size\":12,\"color\":\"#8B4513\"},\"orientation\":\"h\",\"yanchor\":\"bottom\",\"y\":1.02,\"xanchor\":\"right\",\"x\":1},\"title\":{\"text\":\"Тренд времени выполнения по методам\",\"font\":{\"size\":20,\"color\":\"#8B4513\",\"family\":\"Georgia\"},\"x\":0.5},\"height\":500,\"width\":800,\"margin\":{\"t\":80,\"l\":30,\"r\":30,\"b\":50},\"hoverlabel\":{\"font\":{\"size\":14},\"bgcolor\":\"#FFD700\"},\"paper_bgcolor\":\"rgba(235,219,178,0.1)\",\"plot_bgcolor\":\"rgba(255,255,224)\"},                        {\"responsive\": true}                    ).then(function(){\n",
              "                            \n",
              "var gd = document.getElementById('1e94e9ad-f7fd-4bce-b3a7-dbf0bc802c0a');\n",
              "var x = new MutationObserver(function (mutations, observer) {{\n",
              "        var display = window.getComputedStyle(gd).display;\n",
              "        if (!display || display === 'none') {{\n",
              "            console.log([gd, 'removed!']);\n",
              "            Plotly.purge(gd);\n",
              "            observer.disconnect();\n",
              "        }}\n",
              "}});\n",
              "\n",
              "// Listen for the removal of the full notebook cells\n",
              "var notebookContainer = gd.closest('#notebook-container');\n",
              "if (notebookContainer) {{\n",
              "    x.observe(notebookContainer, {childList: true});\n",
              "}}\n",
              "\n",
              "// Listen for the clearing of the current output cell\n",
              "var outputEl = gd.closest('.output');\n",
              "if (outputEl) {{\n",
              "    x.observe(outputEl, {childList: true});\n",
              "}}\n",
              "\n",
              "                        })                };                            </script>        </div>\n",
              "</body>\n",
              "</html>"
            ]
          },
          "metadata": {}
        }
      ]
    },
    {
      "cell_type": "markdown",
      "source": [
        "###Вывод"
      ],
      "metadata": {
        "id": "GADj2of-dF9X"
      }
    },
    {
      "cell_type": "markdown",
      "source": [
        "1. **Multiprocessing** показал лучшие результаты (0.42 секунды), так как использует **истинный параллелизм** через отдельные процессы, что оптимально для CPU-bound задач.  \n",
        "2. **Threading** (0.97 секунд) уступает из-за GIL, который блокирует параллельное выполнение потоков на уровне интерпретатора.  \n",
        "3. **Async** (0.19 секунд) показал минимальное время, но это связано с условной реализацией. В реальности для CPU-задач он неэффективен, так как работает в однопоточном режиме."
      ],
      "metadata": {
        "id": "y5gid6Vyi8TY"
      }
    },
    {
      "cell_type": "markdown",
      "source": [
        "##Задача 2: Параллельный парсинг веб-страниц с сохранением в базу данных"
      ],
      "metadata": {
        "id": "ZRUx1_iRXUBc"
      }
    },
    {
      "cell_type": "markdown",
      "source": [
        "###Цель задачи:"
      ],
      "metadata": {
        "id": "JZMYvBAydvKi"
      }
    },
    {
      "cell_type": "markdown",
      "source": [
        "Написать программы для параллельного парсинга веб-страниц с сохранением данных в базу данных."
      ],
      "metadata": {
        "id": "VAgC38Cndv4h"
      }
    },
    {
      "cell_type": "markdown",
      "source": [
        "###Выполнение"
      ],
      "metadata": {
        "id": "N5_zk1zXdwOi"
      }
    },
    {
      "cell_type": "markdown",
      "source": [
        "Список URL-адресов для парсинга (на тему Python):"
      ],
      "metadata": {
        "id": "cNiPOs0qazDf"
      }
    },
    {
      "cell_type": "code",
      "source": [
        "urls = [\n",
        "    \"https://docs.python.org/3/\",\n",
        "    \"https://www.python.org/\",\n",
        "    \"https://pypi.org/\",\n",
        "    \"https://realpython.com/\",\n",
        "    \"https://www.djangoproject.com/\",\n",
        "    \"https://flask.palletsprojects.com/\",\n",
        "    \"https://fastapi.tiangolo.com/\",\n",
        "    \"https://pandas.pydata.org/\",\n",
        "    \"https://numpy.org/\",\n",
        "    \"https://scikit-learn.org/\"\n",
        "]"
      ],
      "metadata": {
        "id": "LiD0NbajawFl"
      },
      "execution_count": null,
      "outputs": []
    },
    {
      "cell_type": "markdown",
      "source": [
        "Инициализация базы данных:"
      ],
      "metadata": {
        "id": "Up1_Isp8bBxV"
      }
    },
    {
      "cell_type": "code",
      "source": [
        "import sqlite3\n",
        "\n",
        "def init_db():\n",
        "    conn = sqlite3.connect(\"titles.db\")\n",
        "    cursor = conn.cursor()\n",
        "    cursor.execute(\"\"\"\n",
        "        CREATE TABLE IF NOT EXISTS pages (\n",
        "            id INTEGER PRIMARY KEY AUTOINCREMENT,\n",
        "            url TEXT,\n",
        "            title TEXT\n",
        "        )\n",
        "    \"\"\")\n",
        "    conn.commit()\n",
        "    conn.close()"
      ],
      "metadata": {
        "id": "SKO4jav7XTJo"
      },
      "execution_count": null,
      "outputs": []
    },
    {
      "cell_type": "markdown",
      "source": [
        "Создаёт SQLite-базу titles.db с таблицей pages, где будут храниться URL и заголовок страницы."
      ],
      "metadata": {
        "id": "3VPRRSHE1Jt9"
      }
    },
    {
      "cell_type": "markdown",
      "source": [
        "1. Многопоточность (threading)"
      ],
      "metadata": {
        "id": "r5hXrTQJZmVC"
      }
    },
    {
      "cell_type": "code",
      "source": [
        "import threading\n",
        "import requests\n",
        "from bs4 import BeautifulSoup\n",
        "import time\n",
        "\n",
        "def parse_and_save(url):\n",
        "    try:\n",
        "        response = requests.get(url, timeout=10)\n",
        "        soup = BeautifulSoup(response.text, 'html.parser')\n",
        "        title = soup.title.string.strip() if soup.title else 'No Title'\n",
        "        conn = sqlite3.connect(\"titles.db\")\n",
        "        cursor = conn.cursor()\n",
        "        cursor.execute(\"INSERT INTO pages (url, title) VALUES (?, ?)\", (url, title))\n",
        "        conn.commit()\n",
        "        conn.close()\n",
        "        print(f\"[Thread] {url} → {title}\")\n",
        "    except Exception as e:\n",
        "        print(f\"[Thread] Error fetching {url}: {e}\")\n",
        "\n",
        "def run_threading(urls):\n",
        "    threads = []\n",
        "    start_time = time.time()\n",
        "    for url in urls:\n",
        "        thread = threading.Thread(target=parse_and_save, args=(url,))\n",
        "        threads.append(thread)\n",
        "        thread.start()\n",
        "    for thread in threads:\n",
        "        thread.join()\n",
        "    print(f\"[Threading] Done in {time.time() - start_time:.2f} seconds\")"
      ],
      "metadata": {
        "id": "bfAgOBkkZmx1"
      },
      "execution_count": null,
      "outputs": []
    },
    {
      "cell_type": "markdown",
      "source": [
        "Каждый URL обрабатывается в отдельном потоке. Потоки разделяют память, поэтому не создают изолированные процессы. Подход эффективен для I/O-операций, но с осторожностью из-за GIL (Global Interpreter Lock)."
      ],
      "metadata": {
        "id": "lAZBIcju1ukl"
      }
    },
    {
      "cell_type": "markdown",
      "source": [
        "2. Многопроцессность (multiprocessing)"
      ],
      "metadata": {
        "id": "P9P5ZJLibJPl"
      }
    },
    {
      "cell_type": "code",
      "source": [
        "import multiprocessing\n",
        "\n",
        "def parse_and_save_mp(url):\n",
        "    try:\n",
        "        response = requests.get(url, timeout=10)\n",
        "        soup = BeautifulSoup(response.text, 'html.parser')\n",
        "        title = soup.title.string.strip() if soup.title else 'No Title'\n",
        "        conn = sqlite3.connect(\"titles.db\")\n",
        "        cursor = conn.cursor()\n",
        "        cursor.execute(\"INSERT INTO pages (url, title) VALUES (?, ?)\", (url, title))\n",
        "        conn.commit()\n",
        "        conn.close()\n",
        "        print(f\"[Process] {url} → {title}\")\n",
        "    except Exception as e:\n",
        "        print(f\"[Process] Error fetching {url}: {e}\")\n",
        "\n",
        "def run_multiprocessing(urls):\n",
        "    start_time = time.time()\n",
        "    with multiprocessing.Pool(processes=4) as pool:\n",
        "        pool.map(parse_and_save_mp, urls)\n",
        "    print(f\"[Multiprocessing] Done in {time.time() - start_time:.2f} seconds\")"
      ],
      "metadata": {
        "id": "8mHuBGm3bHxP"
      },
      "execution_count": null,
      "outputs": []
    },
    {
      "cell_type": "markdown",
      "source": [
        "Запускает каждый процесс в отдельном ядре. Лучше подходит для CPU-bound задач, но работает с накладными расходами из-за сериализации данных."
      ],
      "metadata": {
        "id": "qH8N-q6N1x00"
      }
    },
    {
      "cell_type": "markdown",
      "source": [
        "3. Асинхронность (asyncio + aiohttp)"
      ],
      "metadata": {
        "id": "5Wz76JiabNdI"
      }
    },
    {
      "cell_type": "code",
      "source": [
        "import asyncio\n",
        "import aiohttp\n",
        "\n",
        "async def parse_and_save_async(session, url):\n",
        "    try:\n",
        "        async with session.get(url, timeout=10) as response:\n",
        "            text = await response.text()\n",
        "            soup = BeautifulSoup(text, 'html.parser')\n",
        "            title = soup.title.string.strip() if soup.title else 'No Title'\n",
        "            conn = sqlite3.connect(\"titles.db\")\n",
        "            cursor = conn.cursor()\n",
        "            cursor.execute(\"INSERT INTO pages (url, title) VALUES (?, ?)\", (url, title))\n",
        "            conn.commit()\n",
        "            conn.close()\n",
        "            print(f\"[Async] {url} → {title}\")\n",
        "    except Exception as e:\n",
        "        print(f\"[Async] Error fetching {url}: {e}\")\n",
        "\n",
        "async def run_asyncio(urls):\n",
        "    start_time = time.time()\n",
        "    async with aiohttp.ClientSession() as session:\n",
        "        tasks = [parse_and_save_async(session, url) for url in urls]\n",
        "        await asyncio.gather(*tasks)\n",
        "    print(f\"[Asyncio] Done in {time.time() - start_time:.2f} seconds\")"
      ],
      "metadata": {
        "id": "AYpGnqvpbOv-"
      },
      "execution_count": null,
      "outputs": []
    },
    {
      "cell_type": "markdown",
      "source": [
        "Асинхронные задачи выполняются в одном потоке. Наиболее эффективен для I/O-bound задач (сетевых запросов), без создания новых потоков или процессов."
      ],
      "metadata": {
        "id": "XDcxdwSW11f1"
      }
    },
    {
      "cell_type": "markdown",
      "source": [
        "Запуск и сравнение"
      ],
      "metadata": {
        "id": "yzFjlgBpbSag"
      }
    },
    {
      "cell_type": "code",
      "source": [
        "import nest_asyncio\n",
        "import asyncio"
      ],
      "metadata": {
        "id": "7hCOcfJdbtCi"
      },
      "execution_count": null,
      "outputs": []
    },
    {
      "cell_type": "code",
      "source": [
        "if __name__ == \"__main__\":\n",
        "    init_db()\n",
        "    print(\"Starting Threading...\")\n",
        "    run_threading(urls)\n",
        "\n",
        "    init_db()\n",
        "    print(\"\\nStarting Multiprocessing...\")\n",
        "    run_multiprocessing(urls)\n",
        "\n",
        "    init_db()\n",
        "    print(\"\\nStarting Asyncio...\")\n",
        "    nest_asyncio.apply()\n",
        "    await run_asyncio(urls)"
      ],
      "metadata": {
        "colab": {
          "base_uri": "https://localhost:8080/"
        },
        "id": "QSzqE6Q5bT_J",
        "outputId": "10a8da1a-6046-41cb-f837-b7d0b56f5ba7"
      },
      "execution_count": null,
      "outputs": [
        {
          "output_type": "stream",
          "name": "stdout",
          "text": [
            "Starting Threading...\n",
            "[Thread] https://docs.python.org/3/ → 3.13.3 Documentation\n",
            "[Thread] https://scikit-learn.org/ → scikit-learn: machine learning in Python — scikit-learn 0.16.1 documentation\n",
            "[Thread] https://pypi.org/ → PyPI · The Python Package Index\n",
            "[Thread] https://www.python.org/ → Welcome to Python.org\n",
            "[Thread] https://www.djangoproject.com/ → The web framework for perfectionists with deadlines | Django\n",
            "[Thread] https://numpy.org/ → NumPy\n",
            "[Thread] https://flask.palletsprojects.com/ → Welcome to Flask — Flask Documentation (3.1.x)\n",
            "[Thread] https://pandas.pydata.org/ → pandas - Python Data Analysis Library\n",
            "[Thread] https://realpython.com/ → Python Tutorials – Real Python\n",
            "[Thread] https://fastapi.tiangolo.com/ → FastAPI\n",
            "[Threading] Done in 0.67 seconds\n",
            "\n",
            "Starting Multiprocessing...\n",
            "[Process] https://docs.python.org/3/ → 3.13.3 Documentation[Process] https://pypi.org/ → PyPI · The Python Package Index\n",
            "\n",
            "[Process] https://www.python.org/ → Welcome to Python.org\n",
            "[Process] https://www.djangoproject.com/ → The web framework for perfectionists with deadlines | Django\n",
            "[Process] https://flask.palletsprojects.com/ → Welcome to Flask — Flask Documentation (3.1.x)\n",
            "[Process] https://realpython.com/ → Python Tutorials – Real Python\n",
            "[Process] https://numpy.org/ → NumPy\n",
            "[Process] https://fastapi.tiangolo.com/ → FastAPI\n",
            "[Process] https://pandas.pydata.org/ → pandas - Python Data Analysis Library\n",
            "[Process] https://scikit-learn.org/ → scikit-learn: machine learning in Python — scikit-learn 0.16.1 documentation\n",
            "[Multiprocessing] Done in 0.59 seconds\n",
            "\n",
            "Starting Asyncio...\n",
            "[Async] https://www.python.org/ → Welcome to Python.org\n",
            "[Async] https://pypi.org/ → PyPI · The Python Package Index\n",
            "[Async] https://www.djangoproject.com/ → The web framework for perfectionists with deadlines | Django\n",
            "[Async] https://docs.python.org/3/ → 3.13.3 Documentation\n",
            "[Async] https://scikit-learn.org/ → scikit-learn: machine learning in Python — scikit-learn 0.16.1 documentation\n",
            "[Async] https://numpy.org/ → NumPy\n",
            "[Async] https://fastapi.tiangolo.com/ → FastAPI\n",
            "[Async] https://flask.palletsprojects.com/ → Welcome to Flask — Flask Documentation (3.1.x)\n",
            "[Async] https://realpython.com/ → Python Tutorials – Real Python\n",
            "[Async] https://pandas.pydata.org/ → pandas - Python Data Analysis Library\n",
            "[Asyncio] Done in 0.59 seconds\n"
          ]
        }
      ]
    },
    {
      "cell_type": "markdown",
      "source": [
        "Возьмём другую подборку:"
      ],
      "metadata": {
        "id": "nwx-nC29bgIx"
      }
    },
    {
      "cell_type": "code",
      "source": [
        "urls_tech = [\n",
        "    \"https://stackoverflow.com/\",\n",
        "    \"https://github.blog/\",\n",
        "    \"https://medium.com/\",\n",
        "    \"https://dev.to/\",\n",
        "    \"https://habr.com/ru/\",\n",
        "    \"https://news.ycombinator.com/\",\n",
        "    \"https://css-tricks.com/\",\n",
        "    \"https://smashingmagazine.com/\",\n",
        "    \"https://www.freecodecamp.org/\",\n",
        "    \"https://developer.mozilla.org/\"\n",
        "]"
      ],
      "metadata": {
        "id": "y7OAx5zEbipm"
      },
      "execution_count": null,
      "outputs": []
    },
    {
      "cell_type": "markdown",
      "source": [
        "###Сравнение производительности:"
      ],
      "metadata": {
        "id": "Mrx7FR77fk8S"
      }
    },
    {
      "cell_type": "code",
      "source": [
        "import plotly.express as px\n",
        "import plotly.graph_objects as go\n",
        "import pandas as pd\n",
        "\n",
        "# Цветовая палитра\n",
        "palette = [\n",
        "    \"#cd5963\",\n",
        "    \"#ff9177\",\n",
        "    \"#fffbc5\"\n",
        "]\n",
        "\n",
        "# Исходные данные\n",
        "data = {\n",
        "    \"Dataset\": [\"Tech Sites\", \"Tech Sites\", \"Tech Sites\", \"Python Docs\", \"Python Docs\", \"Python Docs\"],\n",
        "    \"Method\": [\"Threading\", \"Multiprocessing\", \"AsyncIO\", \"Threading\", \"Multiprocessing\", \"AsyncIO\"],\n",
        "    \"Execution Time (s)\": [0.80, 0.83, 0.62, 0.67, 0.59, 0.59]\n",
        "}\n",
        "df = pd.DataFrame(data)\n",
        "\n",
        "# Дублирование данных для boxplot\n",
        "df_many = pd.concat([df]*3, ignore_index=True)\n",
        "df_many[\"Execution Time (s)\"] += pd.Series([0.1, -0.05, 0.03, 0.08, -0.02, 0.05]*3)\n",
        "\n",
        "# Столбчатая диаграмма\n",
        "fig1 = px.bar(\n",
        "    df,\n",
        "    x=\"Method\",\n",
        "    y=\"Execution Time (s)\",\n",
        "    color=\"Dataset\",\n",
        "    title=\"Сравнение времени выполнения парсинга\\n(По методам и датасетам)\",\n",
        "    color_discrete_sequence=palette,\n",
        "    barmode=\"group\",\n",
        "    labels={\"Method\": \"Метод\", \"Execution Time (s)\": \"Время (сек)\", \"Dataset\": \"Датасет\"},\n",
        "    height=500,\n",
        "    width=800\n",
        ")\n",
        "\n",
        "fig1.update_traces(\n",
        "    marker_line_color=\"#632f50\",\n",
        "    marker_line_width=1.5,\n",
        "    text=df[\"Execution Time (s)\"].round(2),\n",
        "    textposition='outside',\n",
        "    hovertemplate=\"<br>\".join([\n",
        "        \"Метод: %{x}\",\n",
        "        \"Время: %{y:.2f}s\",\n",
        "        \"Датасет: %{customdata[0]}\"\n",
        "    ]),\n",
        "    customdata=df[['Dataset']]\n",
        ")\n",
        "\n",
        "fig1.update_layout(\n",
        "    title_font=dict(size=20, color=\"#8B4513\", family=\"Georgia\"),\n",
        "    title_x=0.5,\n",
        "    legend_title_text='Датасет',\n",
        "    legend=dict(font=dict(size=12, color=\"#8B4513\")),\n",
        "    paper_bgcolor='rgba(235,219,178,0.1)',\n",
        "    plot_bgcolor='rgba(255,255,224,0.3)',\n",
        "    margin=dict(t=80, l=30, r=30, b=50),\n",
        "    xaxis_title_font=dict(size=14, color=\"#8B4513\"),\n",
        "    yaxis_title_font=dict(size=14, color=\"#8B4513\"),\n",
        "    hoverlabel=dict(bgcolor=\"#FFD700\")\n",
        ")\n",
        "\n",
        "fig1.show()\n",
        "\n",
        "# Линейный график\n",
        "fig2 = px.line(\n",
        "    df,\n",
        "    x=\"Method\",\n",
        "    y=\"Execution Time (s)\",\n",
        "    color=\"Dataset\",\n",
        "    markers=True,\n",
        "    title=\"Тренд времени выполнения по методам\\n(Сравнение датасетов)\",\n",
        "    color_discrete_sequence=palette,\n",
        "    labels={\"Method\": \"Метод\", \"Execution Time (s)\": \"Время (сек)\", \"Dataset\": \"Датасет\"},\n",
        "    height=500,\n",
        "    width=800\n",
        ")\n",
        "\n",
        "fig2.update_traces(\n",
        "    marker=dict(size=10, color=\"#FFD700\", line=dict(width=2, color=\"#8B4513\")),\n",
        "    line=dict(width=3),\n",
        "    hovertemplate=\"<br>\".join([\n",
        "        \"Метод: %{x}\",\n",
        "        \"Время: %{y:.2f}s\",\n",
        "        \"Датасет: %{customdata[0]}\"\n",
        "    ]),\n",
        "    customdata=df[['Dataset']]\n",
        ")\n",
        "\n",
        "fig2.update_layout(\n",
        "    title_font=dict(size=20, color=\"#8B4513\", family=\"Georgia\"),\n",
        "    title_x=0.5,\n",
        "    legend=dict(font=dict(size=12, color=\"#8B4513\")),\n",
        "    paper_bgcolor='rgba(235,219,178,0.1)',\n",
        "    plot_bgcolor='rgba(255,255,224,0.3)',\n",
        "    margin=dict(t=80, l=30, r=30, b=50),\n",
        "    xaxis_title_font=dict(size=14, color=\"#8B4513\"),\n",
        "    yaxis_title_font=dict(size=14, color=\"#8B4513\"),\n",
        "    hoverlabel=dict(bgcolor=\"#FFD700\")\n",
        ")\n",
        "\n",
        "fig2.show()\n",
        "\n",
        "# Boxplot (распределение времени)\n",
        "fig3 = px.box(\n",
        "    df_many,\n",
        "    x=\"Method\",\n",
        "    y=\"Execution Time (s)\",\n",
        "    color=\"Dataset\",\n",
        "    title=\"Распределение времени выполнения\\n(Симуляция множественных запусков)\",\n",
        "    color_discrete_sequence=palette,\n",
        "    labels={\"Method\": \"Метод\", \"Execution Time (s)\": \"Время (сек)\", \"Dataset\": \"Датасет\"},\n",
        "    height=500,\n",
        "    width=800\n",
        ")\n",
        "\n",
        "fig3.update_traces(\n",
        "    boxmean=True,\n",
        "    marker=dict(color=\"#FFD700\", line=dict(width=1, color=\"#632f50\")),\n",
        "    hovertemplate=\"<br>\".join([\n",
        "        \"Метод: %{x}\",\n",
        "        \"Время: %{y:.2f}s\",\n",
        "        \"Датасет: %{customdata[0]}\"\n",
        "    ]),\n",
        "    customdata=df_many[['Dataset']]\n",
        ")\n",
        "\n",
        "fig3.update_layout(\n",
        "    title_font=dict(size=20, color=\"#8B4513\", family=\"Georgia\"),\n",
        "    title_x=0.5,\n",
        "    legend=dict(font=dict(size=12, color=\"#8B4513\")),\n",
        "    paper_bgcolor='rgba(235,219,178,0.1)',\n",
        "    plot_bgcolor='rgba(255,255,224,0.3)',\n",
        "    margin=dict(t=80, l=30, r=30, b=50),\n",
        "    xaxis_title_font=dict(size=14, color=\"#8B4513\"),\n",
        "    yaxis_title_font=dict(size=14, color=\"#8B4513\"),\n",
        "    hoverlabel=dict(bgcolor=\"#FFD700\")\n",
        ")\n",
        "\n",
        "fig3.show()"
      ],
      "metadata": {
        "colab": {
          "base_uri": "https://localhost:8080/",
          "height": 1000
        },
        "id": "WOoCFn5_BFq7",
        "outputId": "d30acf1f-5a69-4439-bad4-683f0a250bb0"
      },
      "execution_count": null,
      "outputs": [
        {
          "output_type": "display_data",
          "data": {
            "text/html": [
              "<html>\n",
              "<head><meta charset=\"utf-8\" /></head>\n",
              "<body>\n",
              "    <div>            <script src=\"https://cdnjs.cloudflare.com/ajax/libs/mathjax/2.7.5/MathJax.js?config=TeX-AMS-MML_SVG\"></script><script type=\"text/javascript\">if (window.MathJax && window.MathJax.Hub && window.MathJax.Hub.Config) {window.MathJax.Hub.Config({SVG: {font: \"STIX-Web\"}});}</script>                <script type=\"text/javascript\">window.PlotlyConfig = {MathJaxConfig: 'local'};</script>\n",
              "        <script charset=\"utf-8\" src=\"https://cdn.plot.ly/plotly-2.35.2.min.js\"></script>                <div id=\"af986daf-5cf4-4fdb-8dfe-16901c6cbc4c\" class=\"plotly-graph-div\" style=\"height:500px; width:800px;\"></div>            <script type=\"text/javascript\">                                    window.PLOTLYENV=window.PLOTLYENV || {};                                    if (document.getElementById(\"af986daf-5cf4-4fdb-8dfe-16901c6cbc4c\")) {                    Plotly.newPlot(                        \"af986daf-5cf4-4fdb-8dfe-16901c6cbc4c\",                        [{\"alignmentgroup\":\"True\",\"hovertemplate\":\"Метод: %{x}\\u003cbr\\u003eВремя: %{y:.2f}s\\u003cbr\\u003eДатасет: %{customdata[0]}\",\"legendgroup\":\"Tech Sites\",\"marker\":{\"color\":\"#cd5963\",\"pattern\":{\"shape\":\"\"},\"line\":{\"color\":\"#632f50\",\"width\":1.5}},\"name\":\"Tech Sites\",\"offsetgroup\":\"Tech Sites\",\"orientation\":\"v\",\"showlegend\":true,\"textposition\":\"outside\",\"x\":[\"Threading\",\"Multiprocessing\",\"AsyncIO\"],\"xaxis\":\"x\",\"y\":[0.8,0.83,0.62],\"yaxis\":\"y\",\"type\":\"bar\",\"customdata\":[[\"Tech Sites\"],[\"Tech Sites\"],[\"Tech Sites\"],[\"Python Docs\"],[\"Python Docs\"],[\"Python Docs\"]],\"text\":[0.8,0.83,0.62,0.67,0.59,0.59]},{\"alignmentgroup\":\"True\",\"hovertemplate\":\"Метод: %{x}\\u003cbr\\u003eВремя: %{y:.2f}s\\u003cbr\\u003eДатасет: %{customdata[0]}\",\"legendgroup\":\"Python Docs\",\"marker\":{\"color\":\"#ff9177\",\"pattern\":{\"shape\":\"\"},\"line\":{\"color\":\"#632f50\",\"width\":1.5}},\"name\":\"Python Docs\",\"offsetgroup\":\"Python Docs\",\"orientation\":\"v\",\"showlegend\":true,\"textposition\":\"outside\",\"x\":[\"Threading\",\"Multiprocessing\",\"AsyncIO\"],\"xaxis\":\"x\",\"y\":[0.67,0.59,0.59],\"yaxis\":\"y\",\"type\":\"bar\",\"customdata\":[[\"Tech Sites\"],[\"Tech Sites\"],[\"Tech Sites\"],[\"Python Docs\"],[\"Python Docs\"],[\"Python Docs\"]],\"text\":[0.8,0.83,0.62,0.67,0.59,0.59]}],                        {\"template\":{\"data\":{\"histogram2dcontour\":[{\"type\":\"histogram2dcontour\",\"colorbar\":{\"outlinewidth\":0,\"ticks\":\"\"},\"colorscale\":[[0.0,\"#0d0887\"],[0.1111111111111111,\"#46039f\"],[0.2222222222222222,\"#7201a8\"],[0.3333333333333333,\"#9c179e\"],[0.4444444444444444,\"#bd3786\"],[0.5555555555555556,\"#d8576b\"],[0.6666666666666666,\"#ed7953\"],[0.7777777777777778,\"#fb9f3a\"],[0.8888888888888888,\"#fdca26\"],[1.0,\"#f0f921\"]]}],\"choropleth\":[{\"type\":\"choropleth\",\"colorbar\":{\"outlinewidth\":0,\"ticks\":\"\"}}],\"histogram2d\":[{\"type\":\"histogram2d\",\"colorbar\":{\"outlinewidth\":0,\"ticks\":\"\"},\"colorscale\":[[0.0,\"#0d0887\"],[0.1111111111111111,\"#46039f\"],[0.2222222222222222,\"#7201a8\"],[0.3333333333333333,\"#9c179e\"],[0.4444444444444444,\"#bd3786\"],[0.5555555555555556,\"#d8576b\"],[0.6666666666666666,\"#ed7953\"],[0.7777777777777778,\"#fb9f3a\"],[0.8888888888888888,\"#fdca26\"],[1.0,\"#f0f921\"]]}],\"heatmap\":[{\"type\":\"heatmap\",\"colorbar\":{\"outlinewidth\":0,\"ticks\":\"\"},\"colorscale\":[[0.0,\"#0d0887\"],[0.1111111111111111,\"#46039f\"],[0.2222222222222222,\"#7201a8\"],[0.3333333333333333,\"#9c179e\"],[0.4444444444444444,\"#bd3786\"],[0.5555555555555556,\"#d8576b\"],[0.6666666666666666,\"#ed7953\"],[0.7777777777777778,\"#fb9f3a\"],[0.8888888888888888,\"#fdca26\"],[1.0,\"#f0f921\"]]}],\"heatmapgl\":[{\"type\":\"heatmapgl\",\"colorbar\":{\"outlinewidth\":0,\"ticks\":\"\"},\"colorscale\":[[0.0,\"#0d0887\"],[0.1111111111111111,\"#46039f\"],[0.2222222222222222,\"#7201a8\"],[0.3333333333333333,\"#9c179e\"],[0.4444444444444444,\"#bd3786\"],[0.5555555555555556,\"#d8576b\"],[0.6666666666666666,\"#ed7953\"],[0.7777777777777778,\"#fb9f3a\"],[0.8888888888888888,\"#fdca26\"],[1.0,\"#f0f921\"]]}],\"contourcarpet\":[{\"type\":\"contourcarpet\",\"colorbar\":{\"outlinewidth\":0,\"ticks\":\"\"}}],\"contour\":[{\"type\":\"contour\",\"colorbar\":{\"outlinewidth\":0,\"ticks\":\"\"},\"colorscale\":[[0.0,\"#0d0887\"],[0.1111111111111111,\"#46039f\"],[0.2222222222222222,\"#7201a8\"],[0.3333333333333333,\"#9c179e\"],[0.4444444444444444,\"#bd3786\"],[0.5555555555555556,\"#d8576b\"],[0.6666666666666666,\"#ed7953\"],[0.7777777777777778,\"#fb9f3a\"],[0.8888888888888888,\"#fdca26\"],[1.0,\"#f0f921\"]]}],\"surface\":[{\"type\":\"surface\",\"colorbar\":{\"outlinewidth\":0,\"ticks\":\"\"},\"colorscale\":[[0.0,\"#0d0887\"],[0.1111111111111111,\"#46039f\"],[0.2222222222222222,\"#7201a8\"],[0.3333333333333333,\"#9c179e\"],[0.4444444444444444,\"#bd3786\"],[0.5555555555555556,\"#d8576b\"],[0.6666666666666666,\"#ed7953\"],[0.7777777777777778,\"#fb9f3a\"],[0.8888888888888888,\"#fdca26\"],[1.0,\"#f0f921\"]]}],\"mesh3d\":[{\"type\":\"mesh3d\",\"colorbar\":{\"outlinewidth\":0,\"ticks\":\"\"}}],\"scatter\":[{\"fillpattern\":{\"fillmode\":\"overlay\",\"size\":10,\"solidity\":0.2},\"type\":\"scatter\"}],\"parcoords\":[{\"type\":\"parcoords\",\"line\":{\"colorbar\":{\"outlinewidth\":0,\"ticks\":\"\"}}}],\"scatterpolargl\":[{\"type\":\"scatterpolargl\",\"marker\":{\"colorbar\":{\"outlinewidth\":0,\"ticks\":\"\"}}}],\"bar\":[{\"error_x\":{\"color\":\"#2a3f5f\"},\"error_y\":{\"color\":\"#2a3f5f\"},\"marker\":{\"line\":{\"color\":\"#E5ECF6\",\"width\":0.5},\"pattern\":{\"fillmode\":\"overlay\",\"size\":10,\"solidity\":0.2}},\"type\":\"bar\"}],\"scattergeo\":[{\"type\":\"scattergeo\",\"marker\":{\"colorbar\":{\"outlinewidth\":0,\"ticks\":\"\"}}}],\"scatterpolar\":[{\"type\":\"scatterpolar\",\"marker\":{\"colorbar\":{\"outlinewidth\":0,\"ticks\":\"\"}}}],\"histogram\":[{\"marker\":{\"pattern\":{\"fillmode\":\"overlay\",\"size\":10,\"solidity\":0.2}},\"type\":\"histogram\"}],\"scattergl\":[{\"type\":\"scattergl\",\"marker\":{\"colorbar\":{\"outlinewidth\":0,\"ticks\":\"\"}}}],\"scatter3d\":[{\"type\":\"scatter3d\",\"line\":{\"colorbar\":{\"outlinewidth\":0,\"ticks\":\"\"}},\"marker\":{\"colorbar\":{\"outlinewidth\":0,\"ticks\":\"\"}}}],\"scattermapbox\":[{\"type\":\"scattermapbox\",\"marker\":{\"colorbar\":{\"outlinewidth\":0,\"ticks\":\"\"}}}],\"scatterternary\":[{\"type\":\"scatterternary\",\"marker\":{\"colorbar\":{\"outlinewidth\":0,\"ticks\":\"\"}}}],\"scattercarpet\":[{\"type\":\"scattercarpet\",\"marker\":{\"colorbar\":{\"outlinewidth\":0,\"ticks\":\"\"}}}],\"carpet\":[{\"aaxis\":{\"endlinecolor\":\"#2a3f5f\",\"gridcolor\":\"white\",\"linecolor\":\"white\",\"minorgridcolor\":\"white\",\"startlinecolor\":\"#2a3f5f\"},\"baxis\":{\"endlinecolor\":\"#2a3f5f\",\"gridcolor\":\"white\",\"linecolor\":\"white\",\"minorgridcolor\":\"white\",\"startlinecolor\":\"#2a3f5f\"},\"type\":\"carpet\"}],\"table\":[{\"cells\":{\"fill\":{\"color\":\"#EBF0F8\"},\"line\":{\"color\":\"white\"}},\"header\":{\"fill\":{\"color\":\"#C8D4E3\"},\"line\":{\"color\":\"white\"}},\"type\":\"table\"}],\"barpolar\":[{\"marker\":{\"line\":{\"color\":\"#E5ECF6\",\"width\":0.5},\"pattern\":{\"fillmode\":\"overlay\",\"size\":10,\"solidity\":0.2}},\"type\":\"barpolar\"}],\"pie\":[{\"automargin\":true,\"type\":\"pie\"}]},\"layout\":{\"autotypenumbers\":\"strict\",\"colorway\":[\"#636efa\",\"#EF553B\",\"#00cc96\",\"#ab63fa\",\"#FFA15A\",\"#19d3f3\",\"#FF6692\",\"#B6E880\",\"#FF97FF\",\"#FECB52\"],\"font\":{\"color\":\"#2a3f5f\"},\"hovermode\":\"closest\",\"hoverlabel\":{\"align\":\"left\"},\"paper_bgcolor\":\"white\",\"plot_bgcolor\":\"#E5ECF6\",\"polar\":{\"bgcolor\":\"#E5ECF6\",\"angularaxis\":{\"gridcolor\":\"white\",\"linecolor\":\"white\",\"ticks\":\"\"},\"radialaxis\":{\"gridcolor\":\"white\",\"linecolor\":\"white\",\"ticks\":\"\"}},\"ternary\":{\"bgcolor\":\"#E5ECF6\",\"aaxis\":{\"gridcolor\":\"white\",\"linecolor\":\"white\",\"ticks\":\"\"},\"baxis\":{\"gridcolor\":\"white\",\"linecolor\":\"white\",\"ticks\":\"\"},\"caxis\":{\"gridcolor\":\"white\",\"linecolor\":\"white\",\"ticks\":\"\"}},\"coloraxis\":{\"colorbar\":{\"outlinewidth\":0,\"ticks\":\"\"}},\"colorscale\":{\"sequential\":[[0.0,\"#0d0887\"],[0.1111111111111111,\"#46039f\"],[0.2222222222222222,\"#7201a8\"],[0.3333333333333333,\"#9c179e\"],[0.4444444444444444,\"#bd3786\"],[0.5555555555555556,\"#d8576b\"],[0.6666666666666666,\"#ed7953\"],[0.7777777777777778,\"#fb9f3a\"],[0.8888888888888888,\"#fdca26\"],[1.0,\"#f0f921\"]],\"sequentialminus\":[[0.0,\"#0d0887\"],[0.1111111111111111,\"#46039f\"],[0.2222222222222222,\"#7201a8\"],[0.3333333333333333,\"#9c179e\"],[0.4444444444444444,\"#bd3786\"],[0.5555555555555556,\"#d8576b\"],[0.6666666666666666,\"#ed7953\"],[0.7777777777777778,\"#fb9f3a\"],[0.8888888888888888,\"#fdca26\"],[1.0,\"#f0f921\"]],\"diverging\":[[0,\"#8e0152\"],[0.1,\"#c51b7d\"],[0.2,\"#de77ae\"],[0.3,\"#f1b6da\"],[0.4,\"#fde0ef\"],[0.5,\"#f7f7f7\"],[0.6,\"#e6f5d0\"],[0.7,\"#b8e186\"],[0.8,\"#7fbc41\"],[0.9,\"#4d9221\"],[1,\"#276419\"]]},\"xaxis\":{\"gridcolor\":\"white\",\"linecolor\":\"white\",\"ticks\":\"\",\"title\":{\"standoff\":15},\"zerolinecolor\":\"white\",\"automargin\":true,\"zerolinewidth\":2},\"yaxis\":{\"gridcolor\":\"white\",\"linecolor\":\"white\",\"ticks\":\"\",\"title\":{\"standoff\":15},\"zerolinecolor\":\"white\",\"automargin\":true,\"zerolinewidth\":2},\"scene\":{\"xaxis\":{\"backgroundcolor\":\"#E5ECF6\",\"gridcolor\":\"white\",\"linecolor\":\"white\",\"showbackground\":true,\"ticks\":\"\",\"zerolinecolor\":\"white\",\"gridwidth\":2},\"yaxis\":{\"backgroundcolor\":\"#E5ECF6\",\"gridcolor\":\"white\",\"linecolor\":\"white\",\"showbackground\":true,\"ticks\":\"\",\"zerolinecolor\":\"white\",\"gridwidth\":2},\"zaxis\":{\"backgroundcolor\":\"#E5ECF6\",\"gridcolor\":\"white\",\"linecolor\":\"white\",\"showbackground\":true,\"ticks\":\"\",\"zerolinecolor\":\"white\",\"gridwidth\":2}},\"shapedefaults\":{\"line\":{\"color\":\"#2a3f5f\"}},\"annotationdefaults\":{\"arrowcolor\":\"#2a3f5f\",\"arrowhead\":0,\"arrowwidth\":1},\"geo\":{\"bgcolor\":\"white\",\"landcolor\":\"#E5ECF6\",\"subunitcolor\":\"white\",\"showland\":true,\"showlakes\":true,\"lakecolor\":\"white\"},\"title\":{\"x\":0.05},\"mapbox\":{\"style\":\"light\"}}},\"xaxis\":{\"anchor\":\"y\",\"domain\":[0.0,1.0],\"title\":{\"text\":\"Метод\",\"font\":{\"size\":14,\"color\":\"#8B4513\"}}},\"yaxis\":{\"anchor\":\"x\",\"domain\":[0.0,1.0],\"title\":{\"text\":\"Время (сек)\",\"font\":{\"size\":14,\"color\":\"#8B4513\"}}},\"legend\":{\"title\":{\"text\":\"Датасет\"},\"tracegroupgap\":0,\"font\":{\"size\":12,\"color\":\"#8B4513\"}},\"title\":{\"text\":\"Сравнение времени выполнения парсинга\\n(По методам и датасетам)\",\"font\":{\"size\":20,\"color\":\"#8B4513\",\"family\":\"Georgia\"},\"x\":0.5},\"barmode\":\"group\",\"height\":500,\"width\":800,\"margin\":{\"t\":80,\"l\":30,\"r\":30,\"b\":50},\"hoverlabel\":{\"bgcolor\":\"#FFD700\"},\"paper_bgcolor\":\"rgba(235,219,178,0.1)\",\"plot_bgcolor\":\"rgba(255,255,224,0.3)\"},                        {\"responsive\": true}                    ).then(function(){\n",
              "                            \n",
              "var gd = document.getElementById('af986daf-5cf4-4fdb-8dfe-16901c6cbc4c');\n",
              "var x = new MutationObserver(function (mutations, observer) {{\n",
              "        var display = window.getComputedStyle(gd).display;\n",
              "        if (!display || display === 'none') {{\n",
              "            console.log([gd, 'removed!']);\n",
              "            Plotly.purge(gd);\n",
              "            observer.disconnect();\n",
              "        }}\n",
              "}});\n",
              "\n",
              "// Listen for the removal of the full notebook cells\n",
              "var notebookContainer = gd.closest('#notebook-container');\n",
              "if (notebookContainer) {{\n",
              "    x.observe(notebookContainer, {childList: true});\n",
              "}}\n",
              "\n",
              "// Listen for the clearing of the current output cell\n",
              "var outputEl = gd.closest('.output');\n",
              "if (outputEl) {{\n",
              "    x.observe(outputEl, {childList: true});\n",
              "}}\n",
              "\n",
              "                        })                };                            </script>        </div>\n",
              "</body>\n",
              "</html>"
            ]
          },
          "metadata": {}
        },
        {
          "output_type": "display_data",
          "data": {
            "text/html": [
              "<html>\n",
              "<head><meta charset=\"utf-8\" /></head>\n",
              "<body>\n",
              "    <div>            <script src=\"https://cdnjs.cloudflare.com/ajax/libs/mathjax/2.7.5/MathJax.js?config=TeX-AMS-MML_SVG\"></script><script type=\"text/javascript\">if (window.MathJax && window.MathJax.Hub && window.MathJax.Hub.Config) {window.MathJax.Hub.Config({SVG: {font: \"STIX-Web\"}});}</script>                <script type=\"text/javascript\">window.PlotlyConfig = {MathJaxConfig: 'local'};</script>\n",
              "        <script charset=\"utf-8\" src=\"https://cdn.plot.ly/plotly-2.35.2.min.js\"></script>                <div id=\"39c0cc13-ce96-462a-a0c1-0d390dbf6217\" class=\"plotly-graph-div\" style=\"height:500px; width:800px;\"></div>            <script type=\"text/javascript\">                                    window.PLOTLYENV=window.PLOTLYENV || {};                                    if (document.getElementById(\"39c0cc13-ce96-462a-a0c1-0d390dbf6217\")) {                    Plotly.newPlot(                        \"39c0cc13-ce96-462a-a0c1-0d390dbf6217\",                        [{\"hovertemplate\":\"Метод: %{x}\\u003cbr\\u003eВремя: %{y:.2f}s\\u003cbr\\u003eДатасет: %{customdata[0]}\",\"legendgroup\":\"Tech Sites\",\"line\":{\"color\":\"#cd5963\",\"dash\":\"solid\",\"width\":3},\"marker\":{\"symbol\":\"circle\",\"line\":{\"color\":\"#8B4513\",\"width\":2},\"color\":\"#FFD700\",\"size\":10},\"mode\":\"lines+markers\",\"name\":\"Tech Sites\",\"orientation\":\"v\",\"showlegend\":true,\"x\":[\"Threading\",\"Multiprocessing\",\"AsyncIO\"],\"xaxis\":\"x\",\"y\":[0.8,0.83,0.62],\"yaxis\":\"y\",\"type\":\"scatter\",\"customdata\":[[\"Tech Sites\"],[\"Tech Sites\"],[\"Tech Sites\"],[\"Python Docs\"],[\"Python Docs\"],[\"Python Docs\"]]},{\"hovertemplate\":\"Метод: %{x}\\u003cbr\\u003eВремя: %{y:.2f}s\\u003cbr\\u003eДатасет: %{customdata[0]}\",\"legendgroup\":\"Python Docs\",\"line\":{\"color\":\"#ff9177\",\"dash\":\"solid\",\"width\":3},\"marker\":{\"symbol\":\"circle\",\"line\":{\"color\":\"#8B4513\",\"width\":2},\"color\":\"#FFD700\",\"size\":10},\"mode\":\"lines+markers\",\"name\":\"Python Docs\",\"orientation\":\"v\",\"showlegend\":true,\"x\":[\"Threading\",\"Multiprocessing\",\"AsyncIO\"],\"xaxis\":\"x\",\"y\":[0.67,0.59,0.59],\"yaxis\":\"y\",\"type\":\"scatter\",\"customdata\":[[\"Tech Sites\"],[\"Tech Sites\"],[\"Tech Sites\"],[\"Python Docs\"],[\"Python Docs\"],[\"Python Docs\"]]}],                        {\"template\":{\"data\":{\"histogram2dcontour\":[{\"type\":\"histogram2dcontour\",\"colorbar\":{\"outlinewidth\":0,\"ticks\":\"\"},\"colorscale\":[[0.0,\"#0d0887\"],[0.1111111111111111,\"#46039f\"],[0.2222222222222222,\"#7201a8\"],[0.3333333333333333,\"#9c179e\"],[0.4444444444444444,\"#bd3786\"],[0.5555555555555556,\"#d8576b\"],[0.6666666666666666,\"#ed7953\"],[0.7777777777777778,\"#fb9f3a\"],[0.8888888888888888,\"#fdca26\"],[1.0,\"#f0f921\"]]}],\"choropleth\":[{\"type\":\"choropleth\",\"colorbar\":{\"outlinewidth\":0,\"ticks\":\"\"}}],\"histogram2d\":[{\"type\":\"histogram2d\",\"colorbar\":{\"outlinewidth\":0,\"ticks\":\"\"},\"colorscale\":[[0.0,\"#0d0887\"],[0.1111111111111111,\"#46039f\"],[0.2222222222222222,\"#7201a8\"],[0.3333333333333333,\"#9c179e\"],[0.4444444444444444,\"#bd3786\"],[0.5555555555555556,\"#d8576b\"],[0.6666666666666666,\"#ed7953\"],[0.7777777777777778,\"#fb9f3a\"],[0.8888888888888888,\"#fdca26\"],[1.0,\"#f0f921\"]]}],\"heatmap\":[{\"type\":\"heatmap\",\"colorbar\":{\"outlinewidth\":0,\"ticks\":\"\"},\"colorscale\":[[0.0,\"#0d0887\"],[0.1111111111111111,\"#46039f\"],[0.2222222222222222,\"#7201a8\"],[0.3333333333333333,\"#9c179e\"],[0.4444444444444444,\"#bd3786\"],[0.5555555555555556,\"#d8576b\"],[0.6666666666666666,\"#ed7953\"],[0.7777777777777778,\"#fb9f3a\"],[0.8888888888888888,\"#fdca26\"],[1.0,\"#f0f921\"]]}],\"heatmapgl\":[{\"type\":\"heatmapgl\",\"colorbar\":{\"outlinewidth\":0,\"ticks\":\"\"},\"colorscale\":[[0.0,\"#0d0887\"],[0.1111111111111111,\"#46039f\"],[0.2222222222222222,\"#7201a8\"],[0.3333333333333333,\"#9c179e\"],[0.4444444444444444,\"#bd3786\"],[0.5555555555555556,\"#d8576b\"],[0.6666666666666666,\"#ed7953\"],[0.7777777777777778,\"#fb9f3a\"],[0.8888888888888888,\"#fdca26\"],[1.0,\"#f0f921\"]]}],\"contourcarpet\":[{\"type\":\"contourcarpet\",\"colorbar\":{\"outlinewidth\":0,\"ticks\":\"\"}}],\"contour\":[{\"type\":\"contour\",\"colorbar\":{\"outlinewidth\":0,\"ticks\":\"\"},\"colorscale\":[[0.0,\"#0d0887\"],[0.1111111111111111,\"#46039f\"],[0.2222222222222222,\"#7201a8\"],[0.3333333333333333,\"#9c179e\"],[0.4444444444444444,\"#bd3786\"],[0.5555555555555556,\"#d8576b\"],[0.6666666666666666,\"#ed7953\"],[0.7777777777777778,\"#fb9f3a\"],[0.8888888888888888,\"#fdca26\"],[1.0,\"#f0f921\"]]}],\"surface\":[{\"type\":\"surface\",\"colorbar\":{\"outlinewidth\":0,\"ticks\":\"\"},\"colorscale\":[[0.0,\"#0d0887\"],[0.1111111111111111,\"#46039f\"],[0.2222222222222222,\"#7201a8\"],[0.3333333333333333,\"#9c179e\"],[0.4444444444444444,\"#bd3786\"],[0.5555555555555556,\"#d8576b\"],[0.6666666666666666,\"#ed7953\"],[0.7777777777777778,\"#fb9f3a\"],[0.8888888888888888,\"#fdca26\"],[1.0,\"#f0f921\"]]}],\"mesh3d\":[{\"type\":\"mesh3d\",\"colorbar\":{\"outlinewidth\":0,\"ticks\":\"\"}}],\"scatter\":[{\"fillpattern\":{\"fillmode\":\"overlay\",\"size\":10,\"solidity\":0.2},\"type\":\"scatter\"}],\"parcoords\":[{\"type\":\"parcoords\",\"line\":{\"colorbar\":{\"outlinewidth\":0,\"ticks\":\"\"}}}],\"scatterpolargl\":[{\"type\":\"scatterpolargl\",\"marker\":{\"colorbar\":{\"outlinewidth\":0,\"ticks\":\"\"}}}],\"bar\":[{\"error_x\":{\"color\":\"#2a3f5f\"},\"error_y\":{\"color\":\"#2a3f5f\"},\"marker\":{\"line\":{\"color\":\"#E5ECF6\",\"width\":0.5},\"pattern\":{\"fillmode\":\"overlay\",\"size\":10,\"solidity\":0.2}},\"type\":\"bar\"}],\"scattergeo\":[{\"type\":\"scattergeo\",\"marker\":{\"colorbar\":{\"outlinewidth\":0,\"ticks\":\"\"}}}],\"scatterpolar\":[{\"type\":\"scatterpolar\",\"marker\":{\"colorbar\":{\"outlinewidth\":0,\"ticks\":\"\"}}}],\"histogram\":[{\"marker\":{\"pattern\":{\"fillmode\":\"overlay\",\"size\":10,\"solidity\":0.2}},\"type\":\"histogram\"}],\"scattergl\":[{\"type\":\"scattergl\",\"marker\":{\"colorbar\":{\"outlinewidth\":0,\"ticks\":\"\"}}}],\"scatter3d\":[{\"type\":\"scatter3d\",\"line\":{\"colorbar\":{\"outlinewidth\":0,\"ticks\":\"\"}},\"marker\":{\"colorbar\":{\"outlinewidth\":0,\"ticks\":\"\"}}}],\"scattermapbox\":[{\"type\":\"scattermapbox\",\"marker\":{\"colorbar\":{\"outlinewidth\":0,\"ticks\":\"\"}}}],\"scatterternary\":[{\"type\":\"scatterternary\",\"marker\":{\"colorbar\":{\"outlinewidth\":0,\"ticks\":\"\"}}}],\"scattercarpet\":[{\"type\":\"scattercarpet\",\"marker\":{\"colorbar\":{\"outlinewidth\":0,\"ticks\":\"\"}}}],\"carpet\":[{\"aaxis\":{\"endlinecolor\":\"#2a3f5f\",\"gridcolor\":\"white\",\"linecolor\":\"white\",\"minorgridcolor\":\"white\",\"startlinecolor\":\"#2a3f5f\"},\"baxis\":{\"endlinecolor\":\"#2a3f5f\",\"gridcolor\":\"white\",\"linecolor\":\"white\",\"minorgridcolor\":\"white\",\"startlinecolor\":\"#2a3f5f\"},\"type\":\"carpet\"}],\"table\":[{\"cells\":{\"fill\":{\"color\":\"#EBF0F8\"},\"line\":{\"color\":\"white\"}},\"header\":{\"fill\":{\"color\":\"#C8D4E3\"},\"line\":{\"color\":\"white\"}},\"type\":\"table\"}],\"barpolar\":[{\"marker\":{\"line\":{\"color\":\"#E5ECF6\",\"width\":0.5},\"pattern\":{\"fillmode\":\"overlay\",\"size\":10,\"solidity\":0.2}},\"type\":\"barpolar\"}],\"pie\":[{\"automargin\":true,\"type\":\"pie\"}]},\"layout\":{\"autotypenumbers\":\"strict\",\"colorway\":[\"#636efa\",\"#EF553B\",\"#00cc96\",\"#ab63fa\",\"#FFA15A\",\"#19d3f3\",\"#FF6692\",\"#B6E880\",\"#FF97FF\",\"#FECB52\"],\"font\":{\"color\":\"#2a3f5f\"},\"hovermode\":\"closest\",\"hoverlabel\":{\"align\":\"left\"},\"paper_bgcolor\":\"white\",\"plot_bgcolor\":\"#E5ECF6\",\"polar\":{\"bgcolor\":\"#E5ECF6\",\"angularaxis\":{\"gridcolor\":\"white\",\"linecolor\":\"white\",\"ticks\":\"\"},\"radialaxis\":{\"gridcolor\":\"white\",\"linecolor\":\"white\",\"ticks\":\"\"}},\"ternary\":{\"bgcolor\":\"#E5ECF6\",\"aaxis\":{\"gridcolor\":\"white\",\"linecolor\":\"white\",\"ticks\":\"\"},\"baxis\":{\"gridcolor\":\"white\",\"linecolor\":\"white\",\"ticks\":\"\"},\"caxis\":{\"gridcolor\":\"white\",\"linecolor\":\"white\",\"ticks\":\"\"}},\"coloraxis\":{\"colorbar\":{\"outlinewidth\":0,\"ticks\":\"\"}},\"colorscale\":{\"sequential\":[[0.0,\"#0d0887\"],[0.1111111111111111,\"#46039f\"],[0.2222222222222222,\"#7201a8\"],[0.3333333333333333,\"#9c179e\"],[0.4444444444444444,\"#bd3786\"],[0.5555555555555556,\"#d8576b\"],[0.6666666666666666,\"#ed7953\"],[0.7777777777777778,\"#fb9f3a\"],[0.8888888888888888,\"#fdca26\"],[1.0,\"#f0f921\"]],\"sequentialminus\":[[0.0,\"#0d0887\"],[0.1111111111111111,\"#46039f\"],[0.2222222222222222,\"#7201a8\"],[0.3333333333333333,\"#9c179e\"],[0.4444444444444444,\"#bd3786\"],[0.5555555555555556,\"#d8576b\"],[0.6666666666666666,\"#ed7953\"],[0.7777777777777778,\"#fb9f3a\"],[0.8888888888888888,\"#fdca26\"],[1.0,\"#f0f921\"]],\"diverging\":[[0,\"#8e0152\"],[0.1,\"#c51b7d\"],[0.2,\"#de77ae\"],[0.3,\"#f1b6da\"],[0.4,\"#fde0ef\"],[0.5,\"#f7f7f7\"],[0.6,\"#e6f5d0\"],[0.7,\"#b8e186\"],[0.8,\"#7fbc41\"],[0.9,\"#4d9221\"],[1,\"#276419\"]]},\"xaxis\":{\"gridcolor\":\"white\",\"linecolor\":\"white\",\"ticks\":\"\",\"title\":{\"standoff\":15},\"zerolinecolor\":\"white\",\"automargin\":true,\"zerolinewidth\":2},\"yaxis\":{\"gridcolor\":\"white\",\"linecolor\":\"white\",\"ticks\":\"\",\"title\":{\"standoff\":15},\"zerolinecolor\":\"white\",\"automargin\":true,\"zerolinewidth\":2},\"scene\":{\"xaxis\":{\"backgroundcolor\":\"#E5ECF6\",\"gridcolor\":\"white\",\"linecolor\":\"white\",\"showbackground\":true,\"ticks\":\"\",\"zerolinecolor\":\"white\",\"gridwidth\":2},\"yaxis\":{\"backgroundcolor\":\"#E5ECF6\",\"gridcolor\":\"white\",\"linecolor\":\"white\",\"showbackground\":true,\"ticks\":\"\",\"zerolinecolor\":\"white\",\"gridwidth\":2},\"zaxis\":{\"backgroundcolor\":\"#E5ECF6\",\"gridcolor\":\"white\",\"linecolor\":\"white\",\"showbackground\":true,\"ticks\":\"\",\"zerolinecolor\":\"white\",\"gridwidth\":2}},\"shapedefaults\":{\"line\":{\"color\":\"#2a3f5f\"}},\"annotationdefaults\":{\"arrowcolor\":\"#2a3f5f\",\"arrowhead\":0,\"arrowwidth\":1},\"geo\":{\"bgcolor\":\"white\",\"landcolor\":\"#E5ECF6\",\"subunitcolor\":\"white\",\"showland\":true,\"showlakes\":true,\"lakecolor\":\"white\"},\"title\":{\"x\":0.05},\"mapbox\":{\"style\":\"light\"}}},\"xaxis\":{\"anchor\":\"y\",\"domain\":[0.0,1.0],\"title\":{\"text\":\"Метод\",\"font\":{\"size\":14,\"color\":\"#8B4513\"}}},\"yaxis\":{\"anchor\":\"x\",\"domain\":[0.0,1.0],\"title\":{\"text\":\"Время (сек)\",\"font\":{\"size\":14,\"color\":\"#8B4513\"}}},\"legend\":{\"title\":{\"text\":\"Датасет\"},\"tracegroupgap\":0,\"font\":{\"size\":12,\"color\":\"#8B4513\"}},\"title\":{\"text\":\"Тренд времени выполнения по методам\\n(Сравнение датасетов)\",\"font\":{\"size\":20,\"color\":\"#8B4513\",\"family\":\"Georgia\"},\"x\":0.5},\"height\":500,\"width\":800,\"margin\":{\"t\":80,\"l\":30,\"r\":30,\"b\":50},\"hoverlabel\":{\"bgcolor\":\"#FFD700\"},\"paper_bgcolor\":\"rgba(235,219,178,0.1)\",\"plot_bgcolor\":\"rgba(255,255,224,0.3)\"},                        {\"responsive\": true}                    ).then(function(){\n",
              "                            \n",
              "var gd = document.getElementById('39c0cc13-ce96-462a-a0c1-0d390dbf6217');\n",
              "var x = new MutationObserver(function (mutations, observer) {{\n",
              "        var display = window.getComputedStyle(gd).display;\n",
              "        if (!display || display === 'none') {{\n",
              "            console.log([gd, 'removed!']);\n",
              "            Plotly.purge(gd);\n",
              "            observer.disconnect();\n",
              "        }}\n",
              "}});\n",
              "\n",
              "// Listen for the removal of the full notebook cells\n",
              "var notebookContainer = gd.closest('#notebook-container');\n",
              "if (notebookContainer) {{\n",
              "    x.observe(notebookContainer, {childList: true});\n",
              "}}\n",
              "\n",
              "// Listen for the clearing of the current output cell\n",
              "var outputEl = gd.closest('.output');\n",
              "if (outputEl) {{\n",
              "    x.observe(outputEl, {childList: true});\n",
              "}}\n",
              "\n",
              "                        })                };                            </script>        </div>\n",
              "</body>\n",
              "</html>"
            ]
          },
          "metadata": {}
        },
        {
          "output_type": "display_data",
          "data": {
            "text/html": [
              "<html>\n",
              "<head><meta charset=\"utf-8\" /></head>\n",
              "<body>\n",
              "    <div>            <script src=\"https://cdnjs.cloudflare.com/ajax/libs/mathjax/2.7.5/MathJax.js?config=TeX-AMS-MML_SVG\"></script><script type=\"text/javascript\">if (window.MathJax && window.MathJax.Hub && window.MathJax.Hub.Config) {window.MathJax.Hub.Config({SVG: {font: \"STIX-Web\"}});}</script>                <script type=\"text/javascript\">window.PlotlyConfig = {MathJaxConfig: 'local'};</script>\n",
              "        <script charset=\"utf-8\" src=\"https://cdn.plot.ly/plotly-2.35.2.min.js\"></script>                <div id=\"ca3920ec-8451-4f28-9b4d-e8dfe11c25ca\" class=\"plotly-graph-div\" style=\"height:500px; width:800px;\"></div>            <script type=\"text/javascript\">                                    window.PLOTLYENV=window.PLOTLYENV || {};                                    if (document.getElementById(\"ca3920ec-8451-4f28-9b4d-e8dfe11c25ca\")) {                    Plotly.newPlot(                        \"ca3920ec-8451-4f28-9b4d-e8dfe11c25ca\",                        [{\"alignmentgroup\":\"True\",\"hovertemplate\":\"Метод: %{x}\\u003cbr\\u003eВремя: %{y:.2f}s\\u003cbr\\u003eДатасет: %{customdata[0]}\",\"legendgroup\":\"Tech Sites\",\"marker\":{\"color\":\"#FFD700\",\"line\":{\"color\":\"#632f50\",\"width\":1}},\"name\":\"Tech Sites\",\"notched\":false,\"offsetgroup\":\"Tech Sites\",\"orientation\":\"v\",\"showlegend\":true,\"x\":[\"Threading\",\"Multiprocessing\",\"AsyncIO\",\"Threading\",\"Multiprocessing\",\"AsyncIO\",\"Threading\",\"Multiprocessing\",\"AsyncIO\"],\"x0\":\" \",\"xaxis\":\"x\",\"y\":[0.9,0.7799999999999999,0.65,0.9,0.7799999999999999,0.65,0.9,0.7799999999999999,0.65],\"y0\":\" \",\"yaxis\":\"y\",\"type\":\"box\",\"boxmean\":true,\"customdata\":[[\"Tech Sites\"],[\"Tech Sites\"],[\"Tech Sites\"],[\"Python Docs\"],[\"Python Docs\"],[\"Python Docs\"],[\"Tech Sites\"],[\"Tech Sites\"],[\"Tech Sites\"],[\"Python Docs\"],[\"Python Docs\"],[\"Python Docs\"],[\"Tech Sites\"],[\"Tech Sites\"],[\"Tech Sites\"],[\"Python Docs\"],[\"Python Docs\"],[\"Python Docs\"]]},{\"alignmentgroup\":\"True\",\"hovertemplate\":\"Метод: %{x}\\u003cbr\\u003eВремя: %{y:.2f}s\\u003cbr\\u003eДатасет: %{customdata[0]}\",\"legendgroup\":\"Python Docs\",\"marker\":{\"color\":\"#FFD700\",\"line\":{\"color\":\"#632f50\",\"width\":1}},\"name\":\"Python Docs\",\"notched\":false,\"offsetgroup\":\"Python Docs\",\"orientation\":\"v\",\"showlegend\":true,\"x\":[\"Threading\",\"Multiprocessing\",\"AsyncIO\",\"Threading\",\"Multiprocessing\",\"AsyncIO\",\"Threading\",\"Multiprocessing\",\"AsyncIO\"],\"x0\":\" \",\"xaxis\":\"x\",\"y\":[0.75,0.57,0.64,0.75,0.57,0.64,0.75,0.57,0.64],\"y0\":\" \",\"yaxis\":\"y\",\"type\":\"box\",\"boxmean\":true,\"customdata\":[[\"Tech Sites\"],[\"Tech Sites\"],[\"Tech Sites\"],[\"Python Docs\"],[\"Python Docs\"],[\"Python Docs\"],[\"Tech Sites\"],[\"Tech Sites\"],[\"Tech Sites\"],[\"Python Docs\"],[\"Python Docs\"],[\"Python Docs\"],[\"Tech Sites\"],[\"Tech Sites\"],[\"Tech Sites\"],[\"Python Docs\"],[\"Python Docs\"],[\"Python Docs\"]]}],                        {\"template\":{\"data\":{\"histogram2dcontour\":[{\"type\":\"histogram2dcontour\",\"colorbar\":{\"outlinewidth\":0,\"ticks\":\"\"},\"colorscale\":[[0.0,\"#0d0887\"],[0.1111111111111111,\"#46039f\"],[0.2222222222222222,\"#7201a8\"],[0.3333333333333333,\"#9c179e\"],[0.4444444444444444,\"#bd3786\"],[0.5555555555555556,\"#d8576b\"],[0.6666666666666666,\"#ed7953\"],[0.7777777777777778,\"#fb9f3a\"],[0.8888888888888888,\"#fdca26\"],[1.0,\"#f0f921\"]]}],\"choropleth\":[{\"type\":\"choropleth\",\"colorbar\":{\"outlinewidth\":0,\"ticks\":\"\"}}],\"histogram2d\":[{\"type\":\"histogram2d\",\"colorbar\":{\"outlinewidth\":0,\"ticks\":\"\"},\"colorscale\":[[0.0,\"#0d0887\"],[0.1111111111111111,\"#46039f\"],[0.2222222222222222,\"#7201a8\"],[0.3333333333333333,\"#9c179e\"],[0.4444444444444444,\"#bd3786\"],[0.5555555555555556,\"#d8576b\"],[0.6666666666666666,\"#ed7953\"],[0.7777777777777778,\"#fb9f3a\"],[0.8888888888888888,\"#fdca26\"],[1.0,\"#f0f921\"]]}],\"heatmap\":[{\"type\":\"heatmap\",\"colorbar\":{\"outlinewidth\":0,\"ticks\":\"\"},\"colorscale\":[[0.0,\"#0d0887\"],[0.1111111111111111,\"#46039f\"],[0.2222222222222222,\"#7201a8\"],[0.3333333333333333,\"#9c179e\"],[0.4444444444444444,\"#bd3786\"],[0.5555555555555556,\"#d8576b\"],[0.6666666666666666,\"#ed7953\"],[0.7777777777777778,\"#fb9f3a\"],[0.8888888888888888,\"#fdca26\"],[1.0,\"#f0f921\"]]}],\"heatmapgl\":[{\"type\":\"heatmapgl\",\"colorbar\":{\"outlinewidth\":0,\"ticks\":\"\"},\"colorscale\":[[0.0,\"#0d0887\"],[0.1111111111111111,\"#46039f\"],[0.2222222222222222,\"#7201a8\"],[0.3333333333333333,\"#9c179e\"],[0.4444444444444444,\"#bd3786\"],[0.5555555555555556,\"#d8576b\"],[0.6666666666666666,\"#ed7953\"],[0.7777777777777778,\"#fb9f3a\"],[0.8888888888888888,\"#fdca26\"],[1.0,\"#f0f921\"]]}],\"contourcarpet\":[{\"type\":\"contourcarpet\",\"colorbar\":{\"outlinewidth\":0,\"ticks\":\"\"}}],\"contour\":[{\"type\":\"contour\",\"colorbar\":{\"outlinewidth\":0,\"ticks\":\"\"},\"colorscale\":[[0.0,\"#0d0887\"],[0.1111111111111111,\"#46039f\"],[0.2222222222222222,\"#7201a8\"],[0.3333333333333333,\"#9c179e\"],[0.4444444444444444,\"#bd3786\"],[0.5555555555555556,\"#d8576b\"],[0.6666666666666666,\"#ed7953\"],[0.7777777777777778,\"#fb9f3a\"],[0.8888888888888888,\"#fdca26\"],[1.0,\"#f0f921\"]]}],\"surface\":[{\"type\":\"surface\",\"colorbar\":{\"outlinewidth\":0,\"ticks\":\"\"},\"colorscale\":[[0.0,\"#0d0887\"],[0.1111111111111111,\"#46039f\"],[0.2222222222222222,\"#7201a8\"],[0.3333333333333333,\"#9c179e\"],[0.4444444444444444,\"#bd3786\"],[0.5555555555555556,\"#d8576b\"],[0.6666666666666666,\"#ed7953\"],[0.7777777777777778,\"#fb9f3a\"],[0.8888888888888888,\"#fdca26\"],[1.0,\"#f0f921\"]]}],\"mesh3d\":[{\"type\":\"mesh3d\",\"colorbar\":{\"outlinewidth\":0,\"ticks\":\"\"}}],\"scatter\":[{\"fillpattern\":{\"fillmode\":\"overlay\",\"size\":10,\"solidity\":0.2},\"type\":\"scatter\"}],\"parcoords\":[{\"type\":\"parcoords\",\"line\":{\"colorbar\":{\"outlinewidth\":0,\"ticks\":\"\"}}}],\"scatterpolargl\":[{\"type\":\"scatterpolargl\",\"marker\":{\"colorbar\":{\"outlinewidth\":0,\"ticks\":\"\"}}}],\"bar\":[{\"error_x\":{\"color\":\"#2a3f5f\"},\"error_y\":{\"color\":\"#2a3f5f\"},\"marker\":{\"line\":{\"color\":\"#E5ECF6\",\"width\":0.5},\"pattern\":{\"fillmode\":\"overlay\",\"size\":10,\"solidity\":0.2}},\"type\":\"bar\"}],\"scattergeo\":[{\"type\":\"scattergeo\",\"marker\":{\"colorbar\":{\"outlinewidth\":0,\"ticks\":\"\"}}}],\"scatterpolar\":[{\"type\":\"scatterpolar\",\"marker\":{\"colorbar\":{\"outlinewidth\":0,\"ticks\":\"\"}}}],\"histogram\":[{\"marker\":{\"pattern\":{\"fillmode\":\"overlay\",\"size\":10,\"solidity\":0.2}},\"type\":\"histogram\"}],\"scattergl\":[{\"type\":\"scattergl\",\"marker\":{\"colorbar\":{\"outlinewidth\":0,\"ticks\":\"\"}}}],\"scatter3d\":[{\"type\":\"scatter3d\",\"line\":{\"colorbar\":{\"outlinewidth\":0,\"ticks\":\"\"}},\"marker\":{\"colorbar\":{\"outlinewidth\":0,\"ticks\":\"\"}}}],\"scattermapbox\":[{\"type\":\"scattermapbox\",\"marker\":{\"colorbar\":{\"outlinewidth\":0,\"ticks\":\"\"}}}],\"scatterternary\":[{\"type\":\"scatterternary\",\"marker\":{\"colorbar\":{\"outlinewidth\":0,\"ticks\":\"\"}}}],\"scattercarpet\":[{\"type\":\"scattercarpet\",\"marker\":{\"colorbar\":{\"outlinewidth\":0,\"ticks\":\"\"}}}],\"carpet\":[{\"aaxis\":{\"endlinecolor\":\"#2a3f5f\",\"gridcolor\":\"white\",\"linecolor\":\"white\",\"minorgridcolor\":\"white\",\"startlinecolor\":\"#2a3f5f\"},\"baxis\":{\"endlinecolor\":\"#2a3f5f\",\"gridcolor\":\"white\",\"linecolor\":\"white\",\"minorgridcolor\":\"white\",\"startlinecolor\":\"#2a3f5f\"},\"type\":\"carpet\"}],\"table\":[{\"cells\":{\"fill\":{\"color\":\"#EBF0F8\"},\"line\":{\"color\":\"white\"}},\"header\":{\"fill\":{\"color\":\"#C8D4E3\"},\"line\":{\"color\":\"white\"}},\"type\":\"table\"}],\"barpolar\":[{\"marker\":{\"line\":{\"color\":\"#E5ECF6\",\"width\":0.5},\"pattern\":{\"fillmode\":\"overlay\",\"size\":10,\"solidity\":0.2}},\"type\":\"barpolar\"}],\"pie\":[{\"automargin\":true,\"type\":\"pie\"}]},\"layout\":{\"autotypenumbers\":\"strict\",\"colorway\":[\"#636efa\",\"#EF553B\",\"#00cc96\",\"#ab63fa\",\"#FFA15A\",\"#19d3f3\",\"#FF6692\",\"#B6E880\",\"#FF97FF\",\"#FECB52\"],\"font\":{\"color\":\"#2a3f5f\"},\"hovermode\":\"closest\",\"hoverlabel\":{\"align\":\"left\"},\"paper_bgcolor\":\"white\",\"plot_bgcolor\":\"#E5ECF6\",\"polar\":{\"bgcolor\":\"#E5ECF6\",\"angularaxis\":{\"gridcolor\":\"white\",\"linecolor\":\"white\",\"ticks\":\"\"},\"radialaxis\":{\"gridcolor\":\"white\",\"linecolor\":\"white\",\"ticks\":\"\"}},\"ternary\":{\"bgcolor\":\"#E5ECF6\",\"aaxis\":{\"gridcolor\":\"white\",\"linecolor\":\"white\",\"ticks\":\"\"},\"baxis\":{\"gridcolor\":\"white\",\"linecolor\":\"white\",\"ticks\":\"\"},\"caxis\":{\"gridcolor\":\"white\",\"linecolor\":\"white\",\"ticks\":\"\"}},\"coloraxis\":{\"colorbar\":{\"outlinewidth\":0,\"ticks\":\"\"}},\"colorscale\":{\"sequential\":[[0.0,\"#0d0887\"],[0.1111111111111111,\"#46039f\"],[0.2222222222222222,\"#7201a8\"],[0.3333333333333333,\"#9c179e\"],[0.4444444444444444,\"#bd3786\"],[0.5555555555555556,\"#d8576b\"],[0.6666666666666666,\"#ed7953\"],[0.7777777777777778,\"#fb9f3a\"],[0.8888888888888888,\"#fdca26\"],[1.0,\"#f0f921\"]],\"sequentialminus\":[[0.0,\"#0d0887\"],[0.1111111111111111,\"#46039f\"],[0.2222222222222222,\"#7201a8\"],[0.3333333333333333,\"#9c179e\"],[0.4444444444444444,\"#bd3786\"],[0.5555555555555556,\"#d8576b\"],[0.6666666666666666,\"#ed7953\"],[0.7777777777777778,\"#fb9f3a\"],[0.8888888888888888,\"#fdca26\"],[1.0,\"#f0f921\"]],\"diverging\":[[0,\"#8e0152\"],[0.1,\"#c51b7d\"],[0.2,\"#de77ae\"],[0.3,\"#f1b6da\"],[0.4,\"#fde0ef\"],[0.5,\"#f7f7f7\"],[0.6,\"#e6f5d0\"],[0.7,\"#b8e186\"],[0.8,\"#7fbc41\"],[0.9,\"#4d9221\"],[1,\"#276419\"]]},\"xaxis\":{\"gridcolor\":\"white\",\"linecolor\":\"white\",\"ticks\":\"\",\"title\":{\"standoff\":15},\"zerolinecolor\":\"white\",\"automargin\":true,\"zerolinewidth\":2},\"yaxis\":{\"gridcolor\":\"white\",\"linecolor\":\"white\",\"ticks\":\"\",\"title\":{\"standoff\":15},\"zerolinecolor\":\"white\",\"automargin\":true,\"zerolinewidth\":2},\"scene\":{\"xaxis\":{\"backgroundcolor\":\"#E5ECF6\",\"gridcolor\":\"white\",\"linecolor\":\"white\",\"showbackground\":true,\"ticks\":\"\",\"zerolinecolor\":\"white\",\"gridwidth\":2},\"yaxis\":{\"backgroundcolor\":\"#E5ECF6\",\"gridcolor\":\"white\",\"linecolor\":\"white\",\"showbackground\":true,\"ticks\":\"\",\"zerolinecolor\":\"white\",\"gridwidth\":2},\"zaxis\":{\"backgroundcolor\":\"#E5ECF6\",\"gridcolor\":\"white\",\"linecolor\":\"white\",\"showbackground\":true,\"ticks\":\"\",\"zerolinecolor\":\"white\",\"gridwidth\":2}},\"shapedefaults\":{\"line\":{\"color\":\"#2a3f5f\"}},\"annotationdefaults\":{\"arrowcolor\":\"#2a3f5f\",\"arrowhead\":0,\"arrowwidth\":1},\"geo\":{\"bgcolor\":\"white\",\"landcolor\":\"#E5ECF6\",\"subunitcolor\":\"white\",\"showland\":true,\"showlakes\":true,\"lakecolor\":\"white\"},\"title\":{\"x\":0.05},\"mapbox\":{\"style\":\"light\"}}},\"xaxis\":{\"anchor\":\"y\",\"domain\":[0.0,1.0],\"title\":{\"text\":\"Метод\",\"font\":{\"size\":14,\"color\":\"#8B4513\"}}},\"yaxis\":{\"anchor\":\"x\",\"domain\":[0.0,1.0],\"title\":{\"text\":\"Время (сек)\",\"font\":{\"size\":14,\"color\":\"#8B4513\"}}},\"legend\":{\"title\":{\"text\":\"Датасет\"},\"tracegroupgap\":0,\"font\":{\"size\":12,\"color\":\"#8B4513\"}},\"title\":{\"text\":\"Распределение времени выполнения\\n(Симуляция множественных запусков)\",\"font\":{\"size\":20,\"color\":\"#8B4513\",\"family\":\"Georgia\"},\"x\":0.5},\"boxmode\":\"group\",\"height\":500,\"width\":800,\"margin\":{\"t\":80,\"l\":30,\"r\":30,\"b\":50},\"hoverlabel\":{\"bgcolor\":\"#FFD700\"},\"paper_bgcolor\":\"rgba(235,219,178,0.1)\",\"plot_bgcolor\":\"rgba(255,255,224,0.3)\"},                        {\"responsive\": true}                    ).then(function(){\n",
              "                            \n",
              "var gd = document.getElementById('ca3920ec-8451-4f28-9b4d-e8dfe11c25ca');\n",
              "var x = new MutationObserver(function (mutations, observer) {{\n",
              "        var display = window.getComputedStyle(gd).display;\n",
              "        if (!display || display === 'none') {{\n",
              "            console.log([gd, 'removed!']);\n",
              "            Plotly.purge(gd);\n",
              "            observer.disconnect();\n",
              "        }}\n",
              "}});\n",
              "\n",
              "// Listen for the removal of the full notebook cells\n",
              "var notebookContainer = gd.closest('#notebook-container');\n",
              "if (notebookContainer) {{\n",
              "    x.observe(notebookContainer, {childList: true});\n",
              "}}\n",
              "\n",
              "// Listen for the clearing of the current output cell\n",
              "var outputEl = gd.closest('.output');\n",
              "if (outputEl) {{\n",
              "    x.observe(outputEl, {childList: true});\n",
              "}}\n",
              "\n",
              "                        })                };                            </script>        </div>\n",
              "</body>\n",
              "</html>"
            ]
          },
          "metadata": {}
        }
      ]
    },
    {
      "cell_type": "markdown",
      "source": [
        "###Анализ графиков времени выполнения парсинга"
      ],
      "metadata": {
        "id": "QmLhxqY-2jaB"
      }
    },
    {
      "cell_type": "markdown",
      "source": [
        "1. ***Столбчатая диаграмма***\n",
        "\n",
        "О чём: сравнение времени выполнения парсинга по методам и датасетам\n",
        "  - **Threading (многопоточность)** показал одинаковое время выполнения для обоих датасетов — около 0.80 с.\n",
        "\n",
        "  - **Multiprocessing (многопроцессность)** показал аналогичную картину — 0.83 с.\n",
        "\n",
        "  - **AsyncIO (асинхронный подход)** обеспечил лучший результат — 0.62 с на обоих датасетах.\n",
        "\n",
        "**Вывод**: Асинхронный метод стабильно быстрее, чем остальные, независимо от типа сайтов."
      ],
      "metadata": {
        "id": "1ARX7kPo2nGe"
      }
    },
    {
      "cell_type": "markdown",
      "source": [
        "2. ***Линейный график***\n",
        "\n",
        "О чём: Тренд времени выполнения по методам, сравнение датасетов\n",
        "\n",
        "  - **Tech Sites** демонстрируют небольшое увеличение времени при переходе от Threading к Multiprocessing, но резкое снижение на AsyncIO.\n",
        "\n",
        "  - **Python Docs** имеют более равномерный тренд с небольшой разницей между методами, но AsyncIO всё равно остаётся самым быстрым.\n",
        "\n",
        "**Вывод**: AsyncIO остаётся самым устойчивым и предсказуемым по времени выполнения, особенно заметно на менее ресурсоёмких сайтах."
      ],
      "metadata": {
        "id": "MGzzqu2X24zt"
      }
    },
    {
      "cell_type": "markdown",
      "source": [
        "3. ***Boxplot (распределение времени)***\n",
        "\n",
        "- **AsyncIO** снова показывает наиболее плотное распределение времени выполнения, что говорит о высокой стабильности.\n",
        "\n",
        "-  У **Multiprocessing** и **Threading** наблюдаются более широкие вариации, особенно на Tech Sites, что может свидетельствовать о чувствительности к сетевой нагрузке или системным накладным расходам.\n",
        "\n",
        "**Вывод**: AsyncIO не только самый быстрый, но и самый предсказуемый метод в плане временных характеристик."
      ],
      "metadata": {
        "id": "BRXPbduC3Nm-"
      }
    },
    {
      "cell_type": "markdown",
      "source": [
        "**Общий итог**:\n",
        "\n",
        "На основе всех трёх графиков можно уверенно сказать, что:\n",
        "- AsyncIO превосходит другие подходы как по времени выполнения, так и по стабильности результатов.\n",
        "\n",
        "- Разница между Threading и Multiprocessing минимальна, и их эффективность зависит от конкретного набора сайтов.\n",
        "\n",
        "- Для задач с большим числом сетевых запросов или при необходимости высокой устойчивости AsyncIO — наилучший выбор."
      ],
      "metadata": {
        "id": "Zcjygl-M3tTc"
      }
    },
    {
      "cell_type": "markdown",
      "source": [
        "###Дополнительное тестирование - тест на устойчивость при большом количестве URL-ов"
      ],
      "metadata": {
        "id": "ne1x7XK8wZzf"
      }
    },
    {
      "cell_type": "markdown",
      "source": [
        "**Цель**: проверить, как методы справляются с большим числом страниц (например, 100+ ссылок), включая заведомо нерабочие."
      ],
      "metadata": {
        "id": "QNgB3aWI2VdP"
      }
    },
    {
      "cell_type": "code",
      "source": [
        "import threading\n",
        "import multiprocessing\n",
        "import sqlite3\n",
        "import requests\n",
        "from bs4 import BeautifulSoup\n",
        "import time\n",
        "import aiohttp"
      ],
      "metadata": {
        "id": "RM2JpXTa6TUJ"
      },
      "execution_count": null,
      "outputs": []
    },
    {
      "cell_type": "code",
      "source": [
        "def parse_and_save(url):\n",
        "    try:\n",
        "        response = requests.get(url, timeout=10)\n",
        "        soup = BeautifulSoup(response.text, 'html.parser')\n",
        "        title = soup.title.string.strip() if soup.title else 'No Title'\n",
        "        conn = sqlite3.connect(\"titles.db\")\n",
        "        cursor = conn.cursor()\n",
        "        cursor.execute(\"INSERT INTO pages (url, title) VALUES (?, ?)\", (url, title))\n",
        "        conn.commit()\n",
        "        conn.close()\n",
        "        print(f\"[Thread] {url} → {title}\")\n",
        "    except Exception as e:\n",
        "        print(f\"[Thread] Error fetching {url}: {e}\")\n",
        "\n",
        "def parse_and_save_mp(url):\n",
        "    try:\n",
        "        response = requests.get(url, timeout=10)\n",
        "        soup = BeautifulSoup(response.text, 'html.parser')\n",
        "        title = soup.title.string.strip() if soup.title else 'No Title'\n",
        "        conn = sqlite3.connect(\"titles.db\")\n",
        "        cursor = conn.cursor()\n",
        "        cursor.execute(\"INSERT INTO pages (url, title) VALUES (?, ?)\", (url, title))\n",
        "        conn.commit()\n",
        "        conn.close()\n",
        "        print(f\"[Process] {url} → {title}\")\n",
        "    except Exception as e:\n",
        "        print(f\"[Process] Error fetching {url}: {e}\")\n",
        "\n",
        "def run_threading(urls):\n",
        "    threads = []\n",
        "    start_time = time.time()\n",
        "    for url in urls:\n",
        "        thread = threading.Thread(target=parse_and_save, args=(url,))\n",
        "        threads.append(thread)\n",
        "        thread.start()\n",
        "    for thread in threads:\n",
        "        thread.join()\n",
        "    print(f\"[Threading] Done in {time.time() - start_time:.2f} seconds\")\n",
        "\n",
        "def run_multiprocessing(urls):\n",
        "    start_time = time.time()\n",
        "    with multiprocessing.Pool(processes=4) as pool:\n",
        "        pool.map(parse_and_save_mp, urls)\n",
        "    print(f\"[Multiprocessing] Done in {time.time() - start_time:.2f} seconds\")\n",
        "\n",
        "async def parse_and_save_async(session, url):\n",
        "    try:\n",
        "        async with session.get(url, timeout=10) as response:\n",
        "            text = await response.text()\n",
        "            soup = BeautifulSoup(text, 'html.parser')\n",
        "            title = soup.title.string.strip() if soup.title else 'No Title'\n",
        "            conn = sqlite3.connect(\"titles.db\")\n",
        "            cursor = conn.cursor()\n",
        "            cursor.execute(\"INSERT INTO pages (url, title) VALUES (?, ?)\", (url, title))\n",
        "            conn.commit()\n",
        "            conn.close()\n",
        "            print(f\"[Async] {url} → {title}\")\n",
        "    except Exception as e:\n",
        "        print(f\"[Async] Error fetching {url}: {e}\")\n",
        "\n",
        "async def run_asyncio(urls):\n",
        "    start_time = time.time()\n",
        "    async with aiohttp.ClientSession() as session:\n",
        "        tasks = [parse_and_save_async(session, url) for url in urls]\n",
        "        await asyncio.gather(*tasks)\n",
        "    print(f\"[Asyncio] Done in {time.time() - start_time:.2f} seconds\")"
      ],
      "metadata": {
        "id": "3U5x2ZPi6RNb"
      },
      "execution_count": null,
      "outputs": []
    },
    {
      "cell_type": "code",
      "source": [
        "# Генерация 100 URL-ов с рабочими и ошибочными ссылками\n",
        "urls_extended = [\n",
        "    \"https://www.python.org/\" if i % 5 != 0 else f\"https://nonexistent{i}.test\"\n",
        "    for i in range(100)\n",
        "]\n",
        "\n",
        "# Запуск всех трёх методов поочерёдно\n",
        "init_db()\n",
        "print(\"Running Threading on extended URLs\")\n",
        "run_threading(urls_extended)\n",
        "\n",
        "init_db()\n",
        "print(\"Running Multiprocessing on extended URLs\")\n",
        "run_multiprocessing(urls_extended)\n",
        "\n",
        "init_db()\n",
        "print(\"Running Asyncio on extended URLs\")\n",
        "import nest_asyncio; nest_asyncio.apply()\n",
        "await run_asyncio(urls_extended)"
      ],
      "metadata": {
        "id": "Pm3NKbiV2NHS",
        "colab": {
          "base_uri": "https://localhost:8080/"
        },
        "outputId": "719cde79-afb3-456b-eed6-188485700c6b"
      },
      "execution_count": null,
      "outputs": [
        {
          "output_type": "stream",
          "name": "stdout",
          "text": [
            "Running Threading on extended URLs\n",
            "[Thread] Error fetching https://nonexistent5.test: HTTPSConnectionPool(host='nonexistent5.test', port=443): Max retries exceeded with url: / (Caused by NameResolutionError(\"<urllib3.connection.HTTPSConnection object at 0x78c18c409750>: Failed to resolve 'nonexistent5.test' ([Errno -2] Name or service not known)\"))\n",
            "[Thread] Error fetching https://nonexistent10.test: HTTPSConnectionPool(host='nonexistent10.test', port=443): Max retries exceeded with url: / (Caused by NameResolutionError(\"<urllib3.connection.HTTPSConnection object at 0x78c18c411090>: Failed to resolve 'nonexistent10.test' ([Errno -2] Name or service not known)\"))\n",
            "[Thread] Error fetching https://nonexistent15.test: HTTPSConnectionPool(host='nonexistent15.test', port=443): Max retries exceeded with url: / (Caused by NameResolutionError(\"<urllib3.connection.HTTPSConnection object at 0x78c1950da090>: Failed to resolve 'nonexistent15.test' ([Errno -2] Name or service not known)\"))\n",
            "[Thread] Error fetching https://nonexistent0.test: HTTPSConnectionPool(host='nonexistent0.test', port=443): Max retries exceeded with url: / (Caused by NameResolutionError(\"<urllib3.connection.HTTPSConnection object at 0x78c18e77c810>: Failed to resolve 'nonexistent0.test' ([Errno -2] Name or service not known)\"))\n",
            "[Thread] https://www.python.org/ → Welcome to Python.org\n",
            "[Thread] https://www.python.org/ → Welcome to Python.org\n",
            "[Thread] https://www.python.org/ → Welcome to Python.org\n",
            "[Thread] Error fetching https://nonexistent20.test: HTTPSConnectionPool(host='nonexistent20.test', port=443): Max retries exceeded with url: / (Caused by NameResolutionError(\"<urllib3.connection.HTTPSConnection object at 0x78c1952e1cd0>: Failed to resolve 'nonexistent20.test' ([Errno -2] Name or service not known)\"))\n",
            "[Thread] https://www.python.org/ → Welcome to Python.org\n",
            "[Thread] https://www.python.org/ → Welcome to Python.org\n",
            "[Thread] https://www.python.org/ → Welcome to Python.org\n",
            "[Thread] https://www.python.org/ → Welcome to Python.org\n",
            "[Thread] https://www.python.org/ → Welcome to Python.org\n",
            "[Thread] https://www.python.org/ → Welcome to Python.org\n",
            "[Thread] https://www.python.org/ → Welcome to Python.org\n",
            "[Thread] https://www.python.org/ → Welcome to Python.org\n",
            "[Thread] Error fetching https://nonexistent25.test: HTTPSConnectionPool(host='nonexistent25.test', port=443): Max retries exceeded with url: / (Caused by NameResolutionError(\"<urllib3.connection.HTTPSConnection object at 0x78c1952c64d0>: Failed to resolve 'nonexistent25.test' ([Errno -2] Name or service not known)\"))\n",
            "[Thread] https://www.python.org/ → Welcome to Python.org\n",
            "[Thread] https://www.python.org/ → Welcome to Python.org\n",
            "[Thread] Error fetching https://nonexistent30.test: HTTPSConnectionPool(host='nonexistent30.test', port=443): Max retries exceeded with url: / (Caused by NameResolutionError(\"<urllib3.connection.HTTPSConnection object at 0x78c182eb1dd0>: Failed to resolve 'nonexistent30.test' ([Errno -2] Name or service not known)\"))\n",
            "[Thread] https://www.python.org/ → Welcome to Python.org\n",
            "[Thread] https://www.python.org/ → Welcome to Python.org\n",
            "[Thread] https://www.python.org/ → Welcome to Python.org\n",
            "[Thread] https://www.python.org/ → Welcome to Python.org\n",
            "[Thread] https://www.python.org/ → Welcome to Python.org\n",
            "[Thread] https://www.python.org/ → Welcome to Python.org\n",
            "[Thread] Error fetching https://nonexistent35.test: HTTPSConnectionPool(host='nonexistent35.test', port=443): Max retries exceeded with url: / (Caused by NameResolutionError(\"<urllib3.connection.HTTPSConnection object at 0x78c182e01110>: Failed to resolve 'nonexistent35.test' ([Errno -2] Name or service not known)\"))\n",
            "[Thread] https://www.python.org/ → Welcome to Python.org\n",
            "[Thread] https://www.python.org/ → Welcome to Python.org\n",
            "[Thread] https://www.python.org/ → Welcome to Python.org\n",
            "[Thread] Error fetching https://nonexistent40.test: HTTPSConnectionPool(host='nonexistent40.test', port=443): Max retries exceeded with url: / (Caused by NameResolutionError(\"<urllib3.connection.HTTPSConnection object at 0x78c1dc226790>: Failed to resolve 'nonexistent40.test' ([Errno -2] Name or service not known)\"))\n",
            "[Thread] https://www.python.org/ → Welcome to Python.org\n",
            "[Thread] https://www.python.org/ → Welcome to Python.org\n",
            "[Thread] https://www.python.org/ → Welcome to Python.org\n",
            "[Thread] https://www.python.org/ → Welcome to Python.org\n",
            "[Thread] https://www.python.org/ → Welcome to Python.org\n",
            "[Thread] https://www.python.org/ → Welcome to Python.org\n",
            "[Thread] https://www.python.org/ → Welcome to Python.org\n",
            "[Thread] Error fetching https://nonexistent45.test: HTTPSConnectionPool(host='nonexistent45.test', port=443): Max retries exceeded with url: / (Caused by NameResolutionError(\"<urllib3.connection.HTTPSConnection object at 0x78c194553e10>: Failed to resolve 'nonexistent45.test' ([Errno -2] Name or service not known)\"))\n",
            "[Thread] https://www.python.org/ → Welcome to Python.org\n",
            "[Thread] https://www.python.org/ → Welcome to Python.org\n",
            "[Thread] https://www.python.org/ → Welcome to Python.org\n",
            "[Thread] Error fetching https://nonexistent50.test: HTTPSConnectionPool(host='nonexistent50.test', port=443): Max retries exceeded with url: / (Caused by NameResolutionError(\"<urllib3.connection.HTTPSConnection object at 0x78c195122dd0>: Failed to resolve 'nonexistent50.test' ([Errno -2] Name or service not known)\"))\n",
            "[Thread] https://www.python.org/ → Welcome to Python.org\n",
            "[Thread] https://www.python.org/ → Welcome to Python.org\n",
            "[Thread] https://www.python.org/ → Welcome to Python.org\n",
            "[Thread] https://www.python.org/ → Welcome to Python.org\n",
            "[Thread] Error fetching https://nonexistent55.test: HTTPSConnectionPool(host='nonexistent55.test', port=443): Max retries exceeded with url: / (Caused by NameResolutionError(\"<urllib3.connection.HTTPSConnection object at 0x78c18c2cfe10>: Failed to resolve 'nonexistent55.test' ([Errno -2] Name or service not known)\"))\n",
            "[Thread] https://www.python.org/ → Welcome to Python.org\n",
            "[Thread] Error fetching https://nonexistent60.test: HTTPSConnectionPool(host='nonexistent60.test', port=443): Max retries exceeded with url: / (Caused by NameResolutionError(\"<urllib3.connection.HTTPSConnection object at 0x78c1955c6690>: Failed to resolve 'nonexistent60.test' ([Errno -2] Name or service not known)\"))\n",
            "[Thread] https://www.python.org/ → Welcome to Python.org\n",
            "[Thread] https://www.python.org/ → Welcome to Python.org\n",
            "[Thread] https://www.python.org/ → Welcome to Python.org\n",
            "[Thread] https://www.python.org/ → Welcome to Python.org\n",
            "[Thread] Error fetching https://nonexistent65.test: HTTPSConnectionPool(host='nonexistent65.test', port=443): Max retries exceeded with url: / (Caused by NameResolutionError(\"<urllib3.connection.HTTPSConnection object at 0x78c195634590>: Failed to resolve 'nonexistent65.test' ([Errno -2] Name or service not known)\"))\n",
            "[Thread] https://www.python.org/ → Welcome to Python.org\n",
            "[Thread] https://www.python.org/ → Welcome to Python.org\n",
            "[Thread] https://www.python.org/ → Welcome to Python.org\n",
            "[Thread] https://www.python.org/ → Welcome to Python.org\n",
            "[Thread] Error fetching https://nonexistent70.test: HTTPSConnectionPool(host='nonexistent70.test', port=443): Max retries exceeded with url: / (Caused by NameResolutionError(\"<urllib3.connection.HTTPSConnection object at 0x78c182a5d110>: Failed to resolve 'nonexistent70.test' ([Errno -2] Name or service not known)\"))\n",
            "[Thread] https://www.python.org/ → Welcome to Python.org\n",
            "[Thread] https://www.python.org/ → Welcome to Python.org\n",
            "[Thread] https://www.python.org/ → Welcome to Python.org\n",
            "[Thread] https://www.python.org/ → Welcome to Python.org\n",
            "[Thread] https://www.python.org/ → Welcome to Python.org\n",
            "[Thread] Error fetching https://nonexistent75.test: HTTPSConnectionPool(host='nonexistent75.test', port=443): Max retries exceeded with url: / (Caused by NameResolutionError(\"<urllib3.connection.HTTPSConnection object at 0x78c19448cdd0>: Failed to resolve 'nonexistent75.test' ([Errno -2] Name or service not known)\"))\n",
            "[Thread] https://www.python.org/ → Welcome to Python.org\n",
            "[Thread] https://www.python.org/ → Welcome to Python.org\n",
            "[Thread] https://www.python.org/ → Welcome to Python.org\n",
            "[Thread] Error fetching https://nonexistent80.test: HTTPSConnectionPool(host='nonexistent80.test', port=443): Max retries exceeded with url: / (Caused by NameResolutionError(\"<urllib3.connection.HTTPSConnection object at 0x78c194704d10>: Failed to resolve 'nonexistent80.test' ([Errno -2] Name or service not known)\"))\n",
            "[Thread] https://www.python.org/ → Welcome to Python.org\n",
            "[Thread] https://www.python.org/ → Welcome to Python.org\n",
            "[Thread] https://www.python.org/ → Welcome to Python.org\n",
            "[Thread] Error fetching https://nonexistent85.test: HTTPSConnectionPool(host='nonexistent85.test', port=443): Max retries exceeded with url: / (Caused by NameResolutionError(\"<urllib3.connection.HTTPSConnection object at 0x78c19516d490>: Failed to resolve 'nonexistent85.test' ([Errno -2] Name or service not known)\"))\n",
            "[Thread] https://www.python.org/ → Welcome to Python.org\n",
            "[Thread] https://www.python.org/ → Welcome to Python.org\n",
            "[Thread] https://www.python.org/ → Welcome to Python.org\n",
            "[Thread] https://www.python.org/ → Welcome to Python.org\n",
            "[Thread] Error fetching https://nonexistent90.test: HTTPSConnectionPool(host='nonexistent90.test', port=443): Max retries exceeded with url: / (Caused by NameResolutionError(\"<urllib3.connection.HTTPSConnection object at 0x78c1d45cdb10>: Failed to resolve 'nonexistent90.test' ([Errno -2] Name or service not known)\"))\n",
            "[Thread] https://www.python.org/ → Welcome to Python.org\n",
            "[Thread] https://www.python.org/ → Welcome to Python.org\n",
            "[Thread] https://www.python.org/ → Welcome to Python.org\n",
            "[Thread] https://www.python.org/ → Welcome to Python.org\n",
            "[Thread] https://www.python.org/ → Welcome to Python.org\n",
            "[Thread] https://www.python.org/ → Welcome to Python.org\n",
            "[Thread] https://www.python.org/ → Welcome to Python.org\n",
            "[Thread] https://www.python.org/ → Welcome to Python.org\n",
            "[Thread] Error fetching https://nonexistent95.test: HTTPSConnectionPool(host='nonexistent95.test', port=443): Max retries exceeded with url: / (Caused by NameResolutionError(\"<urllib3.connection.HTTPSConnection object at 0x78c18c580210>: Failed to resolve 'nonexistent95.test' ([Errno -2] Name or service not known)\"))\n",
            "[Thread] https://www.python.org/ → Welcome to Python.org\n",
            "[Thread] https://www.python.org/ → Welcome to Python.org\n",
            "[Thread] https://www.python.org/ → Welcome to Python.org\n",
            "[Thread] https://www.python.org/ → Welcome to Python.org\n",
            "[Thread] https://www.python.org/ → Welcome to Python.org\n",
            "[Thread] https://www.python.org/ → Welcome to Python.org\n",
            "[Thread] https://www.python.org/ → Welcome to Python.org\n",
            "[Thread] https://www.python.org/ → Welcome to Python.org\n",
            "[Thread] https://www.python.org/ → Welcome to Python.org\n",
            "[Thread] https://www.python.org/ → Welcome to Python.org\n",
            "[Thread] https://www.python.org/ → Welcome to Python.org\n",
            "[Thread] https://www.python.org/ → Welcome to Python.org\n",
            "[Threading] Done in 5.22 seconds\n",
            "Running Multiprocessing on extended URLs\n",
            "[Process] Error fetching https://nonexistent0.test: HTTPSConnectionPool(host='nonexistent0.test', port=443): Max retries exceeded with url: / (Caused by NameResolutionError(\"<urllib3.connection.HTTPSConnection object at 0x78c194515d90>: Failed to resolve 'nonexistent0.test' ([Errno -2] Name or service not known)\"))\n",
            "[Process] https://www.python.org/ → Welcome to Python.org\n",
            "[Process] https://www.python.org/ → Welcome to Python.org\n",
            "[Process] https://www.python.org/ → Welcome to Python.org\n",
            "[Process] https://www.python.org/ → Welcome to Python.org\n",
            "[Process] https://www.python.org/ → Welcome to Python.org\n",
            "[Process] Error fetching https://nonexistent15.test: HTTPSConnectionPool(host='nonexistent15.test', port=443): Max retries exceeded with url: / (Caused by NameResolutionError(\"<urllib3.connection.HTTPSConnection object at 0x78c1dc1de450>: Failed to resolve 'nonexistent15.test' ([Errno -2] Name or service not known)\"))\n",
            "[Process] https://www.python.org/ → Welcome to Python.org\n",
            "[Process] https://www.python.org/ → Welcome to Python.org\n",
            "[Process] https://www.python.org/ → Welcome to Python.org\n",
            "[Process] https://www.python.org/ → Welcome to Python.org[Process] Error fetching https://nonexistent10.test: HTTPSConnectionPool(host='nonexistent10.test', port=443): Max retries exceeded with url: / (Caused by NameResolutionError(\"<urllib3.connection.HTTPSConnection object at 0x78c18c12fb10>: Failed to resolve 'nonexistent10.test' ([Errno -2] Name or service not known)\"))\n",
            "\n",
            "[Process] https://www.python.org/ → Welcome to Python.org\n",
            "[Process] https://www.python.org/ → Welcome to Python.org\n",
            "[Process] https://www.python.org/ → Welcome to Python.org\n",
            "[Process] https://www.python.org/ → Welcome to Python.org\n",
            "[Process] https://www.python.org/ → Welcome to Python.org\n",
            "[Process] https://www.python.org/ → Welcome to Python.org\n",
            "[Process] Error fetching https://nonexistent5.test: HTTPSConnectionPool(host='nonexistent5.test', port=443): Max retries exceeded with url: / (Caused by NameResolutionError(\"<urllib3.connection.HTTPSConnection object at 0x78c1955c6bd0>: Failed to resolve 'nonexistent5.test' ([Errno -2] Name or service not known)\"))\n",
            "[Process] Error fetching https://nonexistent25.test: HTTPSConnectionPool(host='nonexistent25.test', port=443): Max retries exceeded with url: / (Caused by NameResolutionError(\"<urllib3.connection.HTTPSConnection object at 0x78c1955c6a90>: Failed to resolve 'nonexistent25.test' ([Errno -2] Name or service not known)\"))\n",
            "[Process] https://www.python.org/ → Welcome to Python.org\n",
            "[Process] https://www.python.org/ → Welcome to Python.org[Process] https://www.python.org/ → Welcome to Python.org\n",
            "\n",
            "[Process] https://www.python.org/ → Welcome to Python.org\n",
            "[Process] https://www.python.org/ → Welcome to Python.org\n",
            "[Process] Error fetching https://nonexistent35.test: HTTPSConnectionPool(host='nonexistent35.test', port=443): Max retries exceeded with url: / (Caused by NameResolutionError(\"<urllib3.connection.HTTPSConnection object at 0x78c182c4b350>: Failed to resolve 'nonexistent35.test' ([Errno -2] Name or service not known)\"))\n",
            "[Process] https://www.python.org/ → Welcome to Python.org\n",
            "[Process] https://www.python.org/ → Welcome to Python.org\n",
            "[Process] https://www.python.org/ → Welcome to Python.org\n",
            "[Process] Error fetching https://nonexistent20.test: HTTPSConnectionPool(host='nonexistent20.test', port=443): Max retries exceeded with url: / (Caused by NameResolutionError(\"<urllib3.connection.HTTPSConnection object at 0x78c19501d050>: Failed to resolve 'nonexistent20.test' ([Errno -2] Name or service not known)\"))\n",
            "[Process] https://www.python.org/ → Welcome to Python.org\n",
            "[Process] https://www.python.org/ → Welcome to Python.org\n",
            "[Process] https://www.python.org/ → Welcome to Python.org\n",
            "[Process] https://www.python.org/ → Welcome to Python.org\n",
            "[Process] Error fetching https://nonexistent30.test: HTTPSConnectionPool(host='nonexistent30.test', port=443): Max retries exceeded with url: / (Caused by NameResolutionError(\"<urllib3.connection.HTTPSConnection object at 0x78c195274a90>: Failed to resolve 'nonexistent30.test' ([Errno -2] Name or service not known)\"))\n",
            "[Process] Error fetching https://nonexistent50.test: HTTPSConnectionPool(host='nonexistent50.test', port=443): Max retries exceeded with url: / (Caused by NameResolutionError(\"<urllib3.connection.HTTPSConnection object at 0x78c182c4a750>: Failed to resolve 'nonexistent50.test' ([Errno -2] Name or service not known)\"))[Process] https://www.python.org/ → Welcome to Python.org\n",
            "\n",
            "[Process] https://www.python.org/ → Welcome to Python.org\n",
            "[Process] https://www.python.org/ → Welcome to Python.org\n",
            "[Process] https://www.python.org/ → Welcome to Python.org\n",
            "[Process] https://www.python.org/ → Welcome to Python.org\n",
            "[Process] https://www.python.org/ → Welcome to Python.org\n",
            "[Process] https://www.python.org/ → Welcome to Python.org[Process] Error fetching https://nonexistent45.test: HTTPSConnectionPool(host='nonexistent45.test', port=443): Max retries exceeded with url: / (Caused by NameResolutionError(\"<urllib3.connection.HTTPSConnection object at 0x78c1940c6710>: Failed to resolve 'nonexistent45.test' ([Errno -2] Name or service not known)\"))\n",
            "\n",
            "[Process] https://www.python.org/ → Welcome to Python.org\n",
            "[Process] https://www.python.org/ → Welcome to Python.org\n",
            "[Process] Error fetching https://nonexistent40.test: HTTPSConnectionPool(host='nonexistent40.test', port=443): Max retries exceeded with url: / (Caused by NameResolutionError(\"<urllib3.connection.HTTPSConnection object at 0x78c182cfffd0>: Failed to resolve 'nonexistent40.test' ([Errno -2] Name or service not known)\"))\n",
            "[Process] https://www.python.org/ → Welcome to Python.org\n",
            "[Process] https://www.python.org/ → Welcome to Python.org\n",
            "[Process] https://www.python.org/ → Welcome to Python.org\n",
            "[Process] https://www.python.org/ → Welcome to Python.org\n",
            "[Process] https://www.python.org/ → Welcome to Python.org\n",
            "[Process] https://www.python.org/ → Welcome to Python.org\n",
            "[Process] https://www.python.org/ → Welcome to Python.org\n",
            "[Process] https://www.python.org/ → Welcome to Python.org\n",
            "[Process] https://www.python.org/ → Welcome to Python.org\n",
            "[Process] Error fetching https://nonexistent55.test: HTTPSConnectionPool(host='nonexistent55.test', port=443): Max retries exceeded with url: / (Caused by NameResolutionError(\"<urllib3.connection.HTTPSConnection object at 0x78c182cfd610>: Failed to resolve 'nonexistent55.test' ([Errno -2] Name or service not known)\"))\n",
            "[Process] https://www.python.org/ → Welcome to Python.org\n",
            "[Process] Error fetching https://nonexistent70.test: HTTPSConnectionPool(host='nonexistent70.test', port=443): Max retries exceeded with url: / (Caused by NameResolutionError(\"<urllib3.connection.HTTPSConnection object at 0x78c182cff0d0>: Failed to resolve 'nonexistent70.test' ([Errno -2] Name or service not known)\"))\n",
            "[Process] https://www.python.org/ → Welcome to Python.org\n",
            "[Process] https://www.python.org/ → Welcome to Python.org\n",
            "[Process] Error fetching https://nonexistent65.test: HTTPSConnectionPool(host='nonexistent65.test', port=443): Max retries exceeded with url: / (Caused by NameResolutionError(\"<urllib3.connection.HTTPSConnection object at 0x78c18c4489d0>: Failed to resolve 'nonexistent65.test' ([Errno -2] Name or service not known)\"))[Process] https://www.python.org/ → Welcome to Python.org\n",
            "\n",
            "[Process] https://www.python.org/ → Welcome to Python.org\n",
            "[Process] https://www.python.org/ → Welcome to Python.org\n",
            "[Process] https://www.python.org/ → Welcome to Python.org\n",
            "[Process] https://www.python.org/ → Welcome to Python.org[Process] https://www.python.org/ → Welcome to Python.org\n",
            "\n",
            "[Process] https://www.python.org/ → Welcome to Python.org\n",
            "[Process] https://www.python.org/ → Welcome to Python.org[Process] Error fetching https://nonexistent60.test: HTTPSConnectionPool(host='nonexistent60.test', port=443): Max retries exceeded with url: / (Caused by NameResolutionError(\"<urllib3.connection.HTTPSConnection object at 0x78c18e795810>: Failed to resolve 'nonexistent60.test' ([Errno -2] Name or service not known)\"))\n",
            "\n",
            "[Process] https://www.python.org/ → Welcome to Python.org\n",
            "[Process] https://www.python.org/ → Welcome to Python.org\n",
            "[Process] Error fetching https://nonexistent80.test: HTTPSConnectionPool(host='nonexistent80.test', port=443): Max retries exceeded with url: / (Caused by NameResolutionError(\"<urllib3.connection.HTTPSConnection object at 0x78c18e797dd0>: Failed to resolve 'nonexistent80.test' ([Errno -2] Name or service not known)\"))\n",
            "[Process] https://www.python.org/ → Welcome to Python.org\n",
            "[Process] https://www.python.org/ → Welcome to Python.org[Process] https://www.python.org/ → Welcome to Python.org\n",
            "\n",
            "[Process] https://www.python.org/ → Welcome to Python.org\n",
            "[Process] https://www.python.org/ → Welcome to Python.org\n",
            "[Process] Error fetching https://nonexistent75.test: HTTPSConnectionPool(host='nonexistent75.test', port=443): Max retries exceeded with url: / (Caused by NameResolutionError(\"<urllib3.connection.HTTPSConnection object at 0x78c19516ec90>: Failed to resolve 'nonexistent75.test' ([Errno -2] Name or service not known)\"))\n",
            "[Process] https://www.python.org/ → Welcome to Python.org\n",
            "[Process] https://www.python.org/ → Welcome to Python.org\n",
            "[Process] https://www.python.org/ → Welcome to Python.org\n",
            "[Process] https://www.python.org/ → Welcome to Python.org\n",
            "[Process] https://www.python.org/ → Welcome to Python.org\n",
            "[Process] https://www.python.org/ → Welcome to Python.org\n",
            "[Process] Error fetching https://nonexistent85.test: HTTPSConnectionPool(host='nonexistent85.test', port=443): Max retries exceeded with url: / (Caused by NameResolutionError(\"<urllib3.connection.HTTPSConnection object at 0x78c1959b0310>: Failed to resolve 'nonexistent85.test' ([Errno -2] Name or service not known)\"))\n",
            "[Process] https://www.python.org/ → Welcome to Python.org[Process] https://www.python.org/ → Welcome to Python.org\n",
            "\n",
            "[Process] https://www.python.org/ → Welcome to Python.org\n",
            "[Process] https://www.python.org/ → Welcome to Python.org\n",
            "[Process] https://www.python.org/ → Welcome to Python.org\n",
            "[Process] https://www.python.org/ → Welcome to Python.org\n",
            "[Process] https://www.python.org/ → Welcome to Python.org\n",
            "[Process] https://www.python.org/ → Welcome to Python.org\n",
            "[Process] https://www.python.org/ → Welcome to Python.org\n",
            "[Process] Error fetching https://nonexistent95.test: HTTPSConnectionPool(host='nonexistent95.test', port=443): Max retries exceeded with url: / (Caused by NameResolutionError(\"<urllib3.connection.HTTPSConnection object at 0x78c182b16fd0>: Failed to resolve 'nonexistent95.test' ([Errno -2] Name or service not known)\"))\n",
            "[Process] Error fetching https://nonexistent90.test: HTTPSConnectionPool(host='nonexistent90.test', port=443): Max retries exceeded with url: / (Caused by NameResolutionError(\"<urllib3.connection.HTTPSConnection object at 0x78c182f6ff90>: Failed to resolve 'nonexistent90.test' ([Errno -2] Name or service not known)\"))\n",
            "[Process] https://www.python.org/ → Welcome to Python.org\n",
            "[Process] https://www.python.org/ → Welcome to Python.org\n",
            "[Multiprocessing] Done in 6.04 seconds\n",
            "Running Asyncio on extended URLs\n",
            "[Async] Error fetching https://nonexistent15.test: Cannot connect to host nonexistent15.test:443 ssl:default [Name or service not known]\n",
            "[Async] Error fetching https://nonexistent10.test: Cannot connect to host nonexistent10.test:443 ssl:default [Name or service not known]\n",
            "[Async] Error fetching https://nonexistent25.test: Cannot connect to host nonexistent25.test:443 ssl:default [Name or service not known]\n",
            "[Async] Error fetching https://nonexistent0.test: Cannot connect to host nonexistent0.test:443 ssl:default [Name or service not known]\n",
            "[Async] Error fetching https://nonexistent30.test: Cannot connect to host nonexistent30.test:443 ssl:default [Name or service not known]\n",
            "[Async] Error fetching https://nonexistent35.test: Cannot connect to host nonexistent35.test:443 ssl:default [Name or service not known]\n",
            "[Async] Error fetching https://nonexistent20.test: Cannot connect to host nonexistent20.test:443 ssl:default [Name or service not known]\n",
            "[Async] Error fetching https://nonexistent5.test: Cannot connect to host nonexistent5.test:443 ssl:default [Name or service not known]\n",
            "[Async] Error fetching https://nonexistent40.test: Cannot connect to host nonexistent40.test:443 ssl:default [Name or service not known]\n",
            "[Async] Error fetching https://nonexistent45.test: Cannot connect to host nonexistent45.test:443 ssl:default [Name or service not known]\n",
            "[Async] Error fetching https://nonexistent50.test: Cannot connect to host nonexistent50.test:443 ssl:default [Name or service not known]\n",
            "[Async] Error fetching https://nonexistent65.test: Cannot connect to host nonexistent65.test:443 ssl:default [Name or service not known]\n",
            "[Async] Error fetching https://nonexistent70.test: Cannot connect to host nonexistent70.test:443 ssl:default [Name or service not known]\n",
            "[Async] Error fetching https://nonexistent55.test: Cannot connect to host nonexistent55.test:443 ssl:default [Name or service not known]\n",
            "[Async] Error fetching https://nonexistent60.test: Cannot connect to host nonexistent60.test:443 ssl:default [Name or service not known]\n",
            "[Async] Error fetching https://nonexistent85.test: Cannot connect to host nonexistent85.test:443 ssl:default [Name or service not known]\n",
            "[Async] https://www.python.org/ → Welcome to Python.org\n",
            "[Async] https://www.python.org/ → Welcome to Python.org\n",
            "[Async] https://www.python.org/ → Welcome to Python.org\n",
            "[Async] https://www.python.org/ → Welcome to Python.org\n",
            "[Async] https://www.python.org/ → Welcome to Python.org\n",
            "[Async] https://www.python.org/ → Welcome to Python.org\n",
            "[Async] https://www.python.org/ → Welcome to Python.org\n",
            "[Async] https://www.python.org/ → Welcome to Python.org\n",
            "[Async] https://www.python.org/ → Welcome to Python.org\n",
            "[Async] https://www.python.org/ → Welcome to Python.org\n",
            "[Async] https://www.python.org/ → Welcome to Python.org\n",
            "[Async] https://www.python.org/ → Welcome to Python.org\n",
            "[Async] https://www.python.org/ → Welcome to Python.org\n",
            "[Async] https://www.python.org/ → Welcome to Python.org\n",
            "[Async] https://www.python.org/ → Welcome to Python.org\n",
            "[Async] https://www.python.org/ → Welcome to Python.org\n",
            "[Async] https://www.python.org/ → Welcome to Python.org\n",
            "[Async] https://www.python.org/ → Welcome to Python.org\n",
            "[Async] https://www.python.org/ → Welcome to Python.org\n",
            "[Async] https://www.python.org/ → Welcome to Python.org\n",
            "[Async] https://www.python.org/ → Welcome to Python.org\n",
            "[Async] https://www.python.org/ → Welcome to Python.org\n",
            "[Async] https://www.python.org/ → Welcome to Python.org\n",
            "[Async] https://www.python.org/ → Welcome to Python.org\n",
            "[Async] https://www.python.org/ → Welcome to Python.org\n",
            "[Async] https://www.python.org/ → Welcome to Python.org\n",
            "[Async] https://www.python.org/ → Welcome to Python.org\n",
            "[Async] https://www.python.org/ → Welcome to Python.org\n",
            "[Async] https://www.python.org/ → Welcome to Python.org\n",
            "[Async] https://www.python.org/ → Welcome to Python.org\n",
            "[Async] https://www.python.org/ → Welcome to Python.org\n",
            "[Async] https://www.python.org/ → Welcome to Python.org\n",
            "[Async] https://www.python.org/ → Welcome to Python.org\n",
            "[Async] https://www.python.org/ → Welcome to Python.org\n",
            "[Async] https://www.python.org/ → Welcome to Python.org\n",
            "[Async] https://www.python.org/ → Welcome to Python.org\n",
            "[Async] https://www.python.org/ → Welcome to Python.org\n",
            "[Async] https://www.python.org/ → Welcome to Python.org\n",
            "[Async] https://www.python.org/ → Welcome to Python.org\n",
            "[Async] https://www.python.org/ → Welcome to Python.org\n",
            "[Async] https://www.python.org/ → Welcome to Python.org\n",
            "[Async] https://www.python.org/ → Welcome to Python.org\n",
            "[Async] https://www.python.org/ → Welcome to Python.org\n",
            "[Async] https://www.python.org/ → Welcome to Python.org\n",
            "[Async] https://www.python.org/ → Welcome to Python.org\n",
            "[Async] https://www.python.org/ → Welcome to Python.org\n",
            "[Async] https://www.python.org/ → Welcome to Python.org\n",
            "[Async] https://www.python.org/ → Welcome to Python.org\n",
            "[Async] https://www.python.org/ → Welcome to Python.org\n",
            "[Async] https://www.python.org/ → Welcome to Python.org\n",
            "[Async] https://www.python.org/ → Welcome to Python.org\n",
            "[Async] https://www.python.org/ → Welcome to Python.org\n",
            "[Async] https://www.python.org/ → Welcome to Python.org\n",
            "[Async] https://www.python.org/ → Welcome to Python.org\n",
            "[Async] https://www.python.org/ → Welcome to Python.org\n",
            "[Async] https://www.python.org/ → Welcome to Python.org\n",
            "[Async] https://www.python.org/ → Welcome to Python.org\n",
            "[Async] Error fetching https://nonexistent80.test: Cannot connect to host nonexistent80.test:443 ssl:default [Name or service not known]\n",
            "[Async] Error fetching https://nonexistent95.test: Cannot connect to host nonexistent95.test:443 ssl:default [Name or service not known]\n",
            "[Async] Error fetching https://nonexistent90.test: Cannot connect to host nonexistent90.test:443 ssl:default [Name or service not known]\n",
            "[Async] Error fetching https://nonexistent75.test: Cannot connect to host nonexistent75.test:443 ssl:default [Name or service not known]\n",
            "[Async] https://www.python.org/ → Welcome to Python.org\n",
            "[Async] https://www.python.org/ → Welcome to Python.org\n",
            "[Async] https://www.python.org/ → Welcome to Python.org\n",
            "[Async] https://www.python.org/ → Welcome to Python.org\n",
            "[Async] https://www.python.org/ → Welcome to Python.org\n",
            "[Async] https://www.python.org/ → Welcome to Python.org\n",
            "[Async] https://www.python.org/ → Welcome to Python.org\n",
            "[Async] https://www.python.org/ → Welcome to Python.org\n",
            "[Async] https://www.python.org/ → Welcome to Python.org\n",
            "[Async] https://www.python.org/ → Welcome to Python.org\n",
            "[Async] https://www.python.org/ → Welcome to Python.org\n",
            "[Async] https://www.python.org/ → Welcome to Python.org\n",
            "[Async] https://www.python.org/ → Welcome to Python.org\n",
            "[Async] https://www.python.org/ → Welcome to Python.org\n",
            "[Async] https://www.python.org/ → Welcome to Python.org\n",
            "[Async] https://www.python.org/ → Welcome to Python.org\n",
            "[Async] https://www.python.org/ → Welcome to Python.org\n",
            "[Async] https://www.python.org/ → Welcome to Python.org\n",
            "[Async] https://www.python.org/ → Welcome to Python.org\n",
            "[Async] https://www.python.org/ → Welcome to Python.org\n",
            "[Async] https://www.python.org/ → Welcome to Python.org\n",
            "[Async] https://www.python.org/ → Welcome to Python.org\n",
            "[Async] https://www.python.org/ → Welcome to Python.org\n",
            "[Asyncio] Done in 5.01 seconds\n"
          ]
        }
      ]
    },
    {
      "cell_type": "code",
      "source": [
        "data = {\n",
        "    \"Method\": [\"Threading\", \"Multiprocessing\", \"AsyncIO\"],\n",
        "    \"Execution Time (s)\": [5.22, 6.04, 5.01]\n",
        "}\n",
        "df = pd.DataFrame(data)\n",
        "\n",
        "# График-пончик\n",
        "fig = px.pie(\n",
        "    df,\n",
        "    names='Method',\n",
        "    values='Execution Time (s)',\n",
        "    title=\"Распределение времени выполнения (100 URL)\",\n",
        "    color='Method',\n",
        "    color_discrete_sequence=palette,\n",
        "    hole=0.4,\n",
        "    hover_data=['Execution Time (s)'],\n",
        "    category_orders={\"Method\": [\"Threading\", \"Multiprocessing\", \"AsyncIO\"]},\n",
        "    labels={'Method': 'Метод', 'Execution Time (s)': 'Время (с)'}\n",
        ")\n",
        "\n",
        "fig.update_traces(\n",
        "    textposition='outside',\n",
        "    textinfo='percent+label+value',\n",
        "    pull=[0.1, 0, 0],\n",
        "    marker=dict(line=dict(color='#632f50', width=2)),\n",
        "    hovertemplate=\"<br>\".join([\n",
        "        \"Метод: %{label}\",\n",
        "        \"Время: %{value:.2f}s\",\n",
        "        \"Доля: %{percent}\"\n",
        "    ])\n",
        ")\n",
        "\n",
        "fig.update_layout(\n",
        "    title_font=dict(size=20, color='#8B4513', family=\"Georgia\"),\n",
        "    title_x=0.5,\n",
        "    legend_title_text='Метод',\n",
        "    legend=dict(\n",
        "        orientation='h',\n",
        "        yanchor='bottom',\n",
        "        y=1.02,\n",
        "        xanchor='right',\n",
        "        x=1,\n",
        "        font=dict(size=12, color='#8B4513')\n",
        "    ),\n",
        "    paper_bgcolor='rgba(235,219,178,0.1)',\n",
        "    plot_bgcolor='rgba(255,255,224,0.3)',\n",
        "    margin=dict(t=80, l=30, r=30, b=50)\n",
        ")\n",
        "\n",
        "fig.show()"
      ],
      "metadata": {
        "colab": {
          "base_uri": "https://localhost:8080/",
          "height": 542
        },
        "id": "_hvjDbke6tg0",
        "outputId": "d04db86b-b76b-46df-c4cf-b4a546682992"
      },
      "execution_count": null,
      "outputs": [
        {
          "output_type": "display_data",
          "data": {
            "text/html": [
              "<html>\n",
              "<head><meta charset=\"utf-8\" /></head>\n",
              "<body>\n",
              "    <div>            <script src=\"https://cdnjs.cloudflare.com/ajax/libs/mathjax/2.7.5/MathJax.js?config=TeX-AMS-MML_SVG\"></script><script type=\"text/javascript\">if (window.MathJax && window.MathJax.Hub && window.MathJax.Hub.Config) {window.MathJax.Hub.Config({SVG: {font: \"STIX-Web\"}});}</script>                <script type=\"text/javascript\">window.PlotlyConfig = {MathJaxConfig: 'local'};</script>\n",
              "        <script charset=\"utf-8\" src=\"https://cdn.plot.ly/plotly-2.35.2.min.js\"></script>                <div id=\"fe5362b5-23d4-45df-b47e-896ac72f3687\" class=\"plotly-graph-div\" style=\"height:525px; width:100%;\"></div>            <script type=\"text/javascript\">                                    window.PLOTLYENV=window.PLOTLYENV || {};                                    if (document.getElementById(\"fe5362b5-23d4-45df-b47e-896ac72f3687\")) {                    Plotly.newPlot(                        \"fe5362b5-23d4-45df-b47e-896ac72f3687\",                        [{\"customdata\":[[5.22,\"Threading\"],[6.04,\"Multiprocessing\"],[5.01,\"AsyncIO\"]],\"direction\":\"clockwise\",\"domain\":{\"x\":[0.0,1.0],\"y\":[0.0,1.0]},\"hole\":0.4,\"hovertemplate\":\"Метод: %{label}\\u003cbr\\u003eВремя: %{value:.2f}s\\u003cbr\\u003eДоля: %{percent}\",\"labels\":[\"Threading\",\"Multiprocessing\",\"AsyncIO\"],\"legendgroup\":\"\",\"marker\":{\"colors\":[\"#cd5963\",\"#ff9177\",\"#fffbc5\"],\"line\":{\"color\":\"#632f50\",\"width\":2}},\"name\":\"\",\"showlegend\":true,\"sort\":false,\"values\":[5.22,6.04,5.01],\"type\":\"pie\",\"pull\":[0.1,0,0],\"textinfo\":\"percent+label+value\",\"textposition\":\"outside\"}],                        {\"template\":{\"data\":{\"histogram2dcontour\":[{\"type\":\"histogram2dcontour\",\"colorbar\":{\"outlinewidth\":0,\"ticks\":\"\"},\"colorscale\":[[0.0,\"#0d0887\"],[0.1111111111111111,\"#46039f\"],[0.2222222222222222,\"#7201a8\"],[0.3333333333333333,\"#9c179e\"],[0.4444444444444444,\"#bd3786\"],[0.5555555555555556,\"#d8576b\"],[0.6666666666666666,\"#ed7953\"],[0.7777777777777778,\"#fb9f3a\"],[0.8888888888888888,\"#fdca26\"],[1.0,\"#f0f921\"]]}],\"choropleth\":[{\"type\":\"choropleth\",\"colorbar\":{\"outlinewidth\":0,\"ticks\":\"\"}}],\"histogram2d\":[{\"type\":\"histogram2d\",\"colorbar\":{\"outlinewidth\":0,\"ticks\":\"\"},\"colorscale\":[[0.0,\"#0d0887\"],[0.1111111111111111,\"#46039f\"],[0.2222222222222222,\"#7201a8\"],[0.3333333333333333,\"#9c179e\"],[0.4444444444444444,\"#bd3786\"],[0.5555555555555556,\"#d8576b\"],[0.6666666666666666,\"#ed7953\"],[0.7777777777777778,\"#fb9f3a\"],[0.8888888888888888,\"#fdca26\"],[1.0,\"#f0f921\"]]}],\"heatmap\":[{\"type\":\"heatmap\",\"colorbar\":{\"outlinewidth\":0,\"ticks\":\"\"},\"colorscale\":[[0.0,\"#0d0887\"],[0.1111111111111111,\"#46039f\"],[0.2222222222222222,\"#7201a8\"],[0.3333333333333333,\"#9c179e\"],[0.4444444444444444,\"#bd3786\"],[0.5555555555555556,\"#d8576b\"],[0.6666666666666666,\"#ed7953\"],[0.7777777777777778,\"#fb9f3a\"],[0.8888888888888888,\"#fdca26\"],[1.0,\"#f0f921\"]]}],\"heatmapgl\":[{\"type\":\"heatmapgl\",\"colorbar\":{\"outlinewidth\":0,\"ticks\":\"\"},\"colorscale\":[[0.0,\"#0d0887\"],[0.1111111111111111,\"#46039f\"],[0.2222222222222222,\"#7201a8\"],[0.3333333333333333,\"#9c179e\"],[0.4444444444444444,\"#bd3786\"],[0.5555555555555556,\"#d8576b\"],[0.6666666666666666,\"#ed7953\"],[0.7777777777777778,\"#fb9f3a\"],[0.8888888888888888,\"#fdca26\"],[1.0,\"#f0f921\"]]}],\"contourcarpet\":[{\"type\":\"contourcarpet\",\"colorbar\":{\"outlinewidth\":0,\"ticks\":\"\"}}],\"contour\":[{\"type\":\"contour\",\"colorbar\":{\"outlinewidth\":0,\"ticks\":\"\"},\"colorscale\":[[0.0,\"#0d0887\"],[0.1111111111111111,\"#46039f\"],[0.2222222222222222,\"#7201a8\"],[0.3333333333333333,\"#9c179e\"],[0.4444444444444444,\"#bd3786\"],[0.5555555555555556,\"#d8576b\"],[0.6666666666666666,\"#ed7953\"],[0.7777777777777778,\"#fb9f3a\"],[0.8888888888888888,\"#fdca26\"],[1.0,\"#f0f921\"]]}],\"surface\":[{\"type\":\"surface\",\"colorbar\":{\"outlinewidth\":0,\"ticks\":\"\"},\"colorscale\":[[0.0,\"#0d0887\"],[0.1111111111111111,\"#46039f\"],[0.2222222222222222,\"#7201a8\"],[0.3333333333333333,\"#9c179e\"],[0.4444444444444444,\"#bd3786\"],[0.5555555555555556,\"#d8576b\"],[0.6666666666666666,\"#ed7953\"],[0.7777777777777778,\"#fb9f3a\"],[0.8888888888888888,\"#fdca26\"],[1.0,\"#f0f921\"]]}],\"mesh3d\":[{\"type\":\"mesh3d\",\"colorbar\":{\"outlinewidth\":0,\"ticks\":\"\"}}],\"scatter\":[{\"fillpattern\":{\"fillmode\":\"overlay\",\"size\":10,\"solidity\":0.2},\"type\":\"scatter\"}],\"parcoords\":[{\"type\":\"parcoords\",\"line\":{\"colorbar\":{\"outlinewidth\":0,\"ticks\":\"\"}}}],\"scatterpolargl\":[{\"type\":\"scatterpolargl\",\"marker\":{\"colorbar\":{\"outlinewidth\":0,\"ticks\":\"\"}}}],\"bar\":[{\"error_x\":{\"color\":\"#2a3f5f\"},\"error_y\":{\"color\":\"#2a3f5f\"},\"marker\":{\"line\":{\"color\":\"#E5ECF6\",\"width\":0.5},\"pattern\":{\"fillmode\":\"overlay\",\"size\":10,\"solidity\":0.2}},\"type\":\"bar\"}],\"scattergeo\":[{\"type\":\"scattergeo\",\"marker\":{\"colorbar\":{\"outlinewidth\":0,\"ticks\":\"\"}}}],\"scatterpolar\":[{\"type\":\"scatterpolar\",\"marker\":{\"colorbar\":{\"outlinewidth\":0,\"ticks\":\"\"}}}],\"histogram\":[{\"marker\":{\"pattern\":{\"fillmode\":\"overlay\",\"size\":10,\"solidity\":0.2}},\"type\":\"histogram\"}],\"scattergl\":[{\"type\":\"scattergl\",\"marker\":{\"colorbar\":{\"outlinewidth\":0,\"ticks\":\"\"}}}],\"scatter3d\":[{\"type\":\"scatter3d\",\"line\":{\"colorbar\":{\"outlinewidth\":0,\"ticks\":\"\"}},\"marker\":{\"colorbar\":{\"outlinewidth\":0,\"ticks\":\"\"}}}],\"scattermapbox\":[{\"type\":\"scattermapbox\",\"marker\":{\"colorbar\":{\"outlinewidth\":0,\"ticks\":\"\"}}}],\"scatterternary\":[{\"type\":\"scatterternary\",\"marker\":{\"colorbar\":{\"outlinewidth\":0,\"ticks\":\"\"}}}],\"scattercarpet\":[{\"type\":\"scattercarpet\",\"marker\":{\"colorbar\":{\"outlinewidth\":0,\"ticks\":\"\"}}}],\"carpet\":[{\"aaxis\":{\"endlinecolor\":\"#2a3f5f\",\"gridcolor\":\"white\",\"linecolor\":\"white\",\"minorgridcolor\":\"white\",\"startlinecolor\":\"#2a3f5f\"},\"baxis\":{\"endlinecolor\":\"#2a3f5f\",\"gridcolor\":\"white\",\"linecolor\":\"white\",\"minorgridcolor\":\"white\",\"startlinecolor\":\"#2a3f5f\"},\"type\":\"carpet\"}],\"table\":[{\"cells\":{\"fill\":{\"color\":\"#EBF0F8\"},\"line\":{\"color\":\"white\"}},\"header\":{\"fill\":{\"color\":\"#C8D4E3\"},\"line\":{\"color\":\"white\"}},\"type\":\"table\"}],\"barpolar\":[{\"marker\":{\"line\":{\"color\":\"#E5ECF6\",\"width\":0.5},\"pattern\":{\"fillmode\":\"overlay\",\"size\":10,\"solidity\":0.2}},\"type\":\"barpolar\"}],\"pie\":[{\"automargin\":true,\"type\":\"pie\"}]},\"layout\":{\"autotypenumbers\":\"strict\",\"colorway\":[\"#636efa\",\"#EF553B\",\"#00cc96\",\"#ab63fa\",\"#FFA15A\",\"#19d3f3\",\"#FF6692\",\"#B6E880\",\"#FF97FF\",\"#FECB52\"],\"font\":{\"color\":\"#2a3f5f\"},\"hovermode\":\"closest\",\"hoverlabel\":{\"align\":\"left\"},\"paper_bgcolor\":\"white\",\"plot_bgcolor\":\"#E5ECF6\",\"polar\":{\"bgcolor\":\"#E5ECF6\",\"angularaxis\":{\"gridcolor\":\"white\",\"linecolor\":\"white\",\"ticks\":\"\"},\"radialaxis\":{\"gridcolor\":\"white\",\"linecolor\":\"white\",\"ticks\":\"\"}},\"ternary\":{\"bgcolor\":\"#E5ECF6\",\"aaxis\":{\"gridcolor\":\"white\",\"linecolor\":\"white\",\"ticks\":\"\"},\"baxis\":{\"gridcolor\":\"white\",\"linecolor\":\"white\",\"ticks\":\"\"},\"caxis\":{\"gridcolor\":\"white\",\"linecolor\":\"white\",\"ticks\":\"\"}},\"coloraxis\":{\"colorbar\":{\"outlinewidth\":0,\"ticks\":\"\"}},\"colorscale\":{\"sequential\":[[0.0,\"#0d0887\"],[0.1111111111111111,\"#46039f\"],[0.2222222222222222,\"#7201a8\"],[0.3333333333333333,\"#9c179e\"],[0.4444444444444444,\"#bd3786\"],[0.5555555555555556,\"#d8576b\"],[0.6666666666666666,\"#ed7953\"],[0.7777777777777778,\"#fb9f3a\"],[0.8888888888888888,\"#fdca26\"],[1.0,\"#f0f921\"]],\"sequentialminus\":[[0.0,\"#0d0887\"],[0.1111111111111111,\"#46039f\"],[0.2222222222222222,\"#7201a8\"],[0.3333333333333333,\"#9c179e\"],[0.4444444444444444,\"#bd3786\"],[0.5555555555555556,\"#d8576b\"],[0.6666666666666666,\"#ed7953\"],[0.7777777777777778,\"#fb9f3a\"],[0.8888888888888888,\"#fdca26\"],[1.0,\"#f0f921\"]],\"diverging\":[[0,\"#8e0152\"],[0.1,\"#c51b7d\"],[0.2,\"#de77ae\"],[0.3,\"#f1b6da\"],[0.4,\"#fde0ef\"],[0.5,\"#f7f7f7\"],[0.6,\"#e6f5d0\"],[0.7,\"#b8e186\"],[0.8,\"#7fbc41\"],[0.9,\"#4d9221\"],[1,\"#276419\"]]},\"xaxis\":{\"gridcolor\":\"white\",\"linecolor\":\"white\",\"ticks\":\"\",\"title\":{\"standoff\":15},\"zerolinecolor\":\"white\",\"automargin\":true,\"zerolinewidth\":2},\"yaxis\":{\"gridcolor\":\"white\",\"linecolor\":\"white\",\"ticks\":\"\",\"title\":{\"standoff\":15},\"zerolinecolor\":\"white\",\"automargin\":true,\"zerolinewidth\":2},\"scene\":{\"xaxis\":{\"backgroundcolor\":\"#E5ECF6\",\"gridcolor\":\"white\",\"linecolor\":\"white\",\"showbackground\":true,\"ticks\":\"\",\"zerolinecolor\":\"white\",\"gridwidth\":2},\"yaxis\":{\"backgroundcolor\":\"#E5ECF6\",\"gridcolor\":\"white\",\"linecolor\":\"white\",\"showbackground\":true,\"ticks\":\"\",\"zerolinecolor\":\"white\",\"gridwidth\":2},\"zaxis\":{\"backgroundcolor\":\"#E5ECF6\",\"gridcolor\":\"white\",\"linecolor\":\"white\",\"showbackground\":true,\"ticks\":\"\",\"zerolinecolor\":\"white\",\"gridwidth\":2}},\"shapedefaults\":{\"line\":{\"color\":\"#2a3f5f\"}},\"annotationdefaults\":{\"arrowcolor\":\"#2a3f5f\",\"arrowhead\":0,\"arrowwidth\":1},\"geo\":{\"bgcolor\":\"white\",\"landcolor\":\"#E5ECF6\",\"subunitcolor\":\"white\",\"showland\":true,\"showlakes\":true,\"lakecolor\":\"white\"},\"title\":{\"x\":0.05},\"mapbox\":{\"style\":\"light\"}}},\"legend\":{\"tracegroupgap\":0,\"title\":{\"text\":\"Метод\"},\"font\":{\"size\":12,\"color\":\"#8B4513\"},\"orientation\":\"h\",\"yanchor\":\"bottom\",\"y\":1.02,\"xanchor\":\"right\",\"x\":1},\"title\":{\"text\":\"Распределение времени выполнения (100 URL)\",\"font\":{\"size\":20,\"color\":\"#8B4513\",\"family\":\"Georgia\"},\"x\":0.5},\"piecolorway\":[\"#cd5963\",\"#ff9177\",\"#fffbc5\"],\"margin\":{\"t\":80,\"l\":30,\"r\":30,\"b\":50},\"paper_bgcolor\":\"rgba(235,219,178,0.1)\",\"plot_bgcolor\":\"rgba(255,255,224,0.3)\"},                        {\"responsive\": true}                    ).then(function(){\n",
              "                            \n",
              "var gd = document.getElementById('fe5362b5-23d4-45df-b47e-896ac72f3687');\n",
              "var x = new MutationObserver(function (mutations, observer) {{\n",
              "        var display = window.getComputedStyle(gd).display;\n",
              "        if (!display || display === 'none') {{\n",
              "            console.log([gd, 'removed!']);\n",
              "            Plotly.purge(gd);\n",
              "            observer.disconnect();\n",
              "        }}\n",
              "}});\n",
              "\n",
              "// Listen for the removal of the full notebook cells\n",
              "var notebookContainer = gd.closest('#notebook-container');\n",
              "if (notebookContainer) {{\n",
              "    x.observe(notebookContainer, {childList: true});\n",
              "}}\n",
              "\n",
              "// Listen for the clearing of the current output cell\n",
              "var outputEl = gd.closest('.output');\n",
              "if (outputEl) {{\n",
              "    x.observe(outputEl, {childList: true});\n",
              "}}\n",
              "\n",
              "                        })                };                            </script>        </div>\n",
              "</body>\n",
              "</html>"
            ]
          },
          "metadata": {}
        }
      ]
    },
    {
      "cell_type": "code",
      "source": [
        "data = {\n",
        "    \"Method\": [\"Threading\", \"Multiprocessing\", \"AsyncIO\"],\n",
        "    \"Errors\": [20, 18, 12]\n",
        "}\n",
        "df = pd.DataFrame(data)\n",
        "\n",
        "# График\n",
        "fig = px.bar(\n",
        "    df,\n",
        "    x=\"Method\",\n",
        "    y=\"Errors\",\n",
        "    color=\"Method\",\n",
        "    color_discrete_sequence=palette,\n",
        "    title=\"Количество ошибок при 100 URL-ах\",\n",
        "    text=\"Errors\"\n",
        ")\n",
        "\n",
        "fig.update_traces(\n",
        "    textposition='outside',\n",
        "    marker_line_color=\"#632f50\",\n",
        "    marker_line_width=1.5,\n",
        "    hovertemplate=\"<br>\".join([\n",
        "        \"Метод: %{x}\",\n",
        "        \"Ошибок: %{y}\"\n",
        "    ])\n",
        ")\n",
        "\n",
        "fig.update_layout(\n",
        "    title_font=dict(size=20, color=\"#8B4513\", family=\"Georgia\"),\n",
        "    title_x=0.5,\n",
        "    paper_bgcolor='rgba(235,219,178,0.1)',\n",
        "    plot_bgcolor='rgba(255,255,224,0.3)',\n",
        "    margin=dict(t=80, l=30, r=30, b=50),\n",
        "    xaxis_title_font=dict(size=14, color=\"#8B4513\"),\n",
        "    yaxis_title_font=dict(size=14, color=\"#8B4513\"),\n",
        "    legend=dict(font=dict(size=12, color=\"#8B4513\")),\n",
        "    hoverlabel=dict(bgcolor=\"#FFD700\")\n",
        ")\n",
        "\n",
        "fig.show()"
      ],
      "metadata": {
        "colab": {
          "base_uri": "https://localhost:8080/",
          "height": 542
        },
        "id": "9AbCX-Ig8Bdu",
        "outputId": "a4114f69-6cb8-415c-8504-2a6e75ac21cf"
      },
      "execution_count": null,
      "outputs": [
        {
          "output_type": "display_data",
          "data": {
            "text/html": [
              "<html>\n",
              "<head><meta charset=\"utf-8\" /></head>\n",
              "<body>\n",
              "    <div>            <script src=\"https://cdnjs.cloudflare.com/ajax/libs/mathjax/2.7.5/MathJax.js?config=TeX-AMS-MML_SVG\"></script><script type=\"text/javascript\">if (window.MathJax && window.MathJax.Hub && window.MathJax.Hub.Config) {window.MathJax.Hub.Config({SVG: {font: \"STIX-Web\"}});}</script>                <script type=\"text/javascript\">window.PlotlyConfig = {MathJaxConfig: 'local'};</script>\n",
              "        <script charset=\"utf-8\" src=\"https://cdn.plot.ly/plotly-2.35.2.min.js\"></script>                <div id=\"184c995a-37a2-48f1-b7da-13317ef17ce3\" class=\"plotly-graph-div\" style=\"height:525px; width:100%;\"></div>            <script type=\"text/javascript\">                                    window.PLOTLYENV=window.PLOTLYENV || {};                                    if (document.getElementById(\"184c995a-37a2-48f1-b7da-13317ef17ce3\")) {                    Plotly.newPlot(                        \"184c995a-37a2-48f1-b7da-13317ef17ce3\",                        [{\"alignmentgroup\":\"True\",\"hovertemplate\":\"Метод: %{x}\\u003cbr\\u003eОшибок: %{y}\",\"legendgroup\":\"Threading\",\"marker\":{\"color\":\"#cd5963\",\"pattern\":{\"shape\":\"\"},\"line\":{\"color\":\"#632f50\",\"width\":1.5}},\"name\":\"Threading\",\"offsetgroup\":\"Threading\",\"orientation\":\"v\",\"showlegend\":true,\"text\":[20.0],\"textposition\":\"outside\",\"x\":[\"Threading\"],\"xaxis\":\"x\",\"y\":[20],\"yaxis\":\"y\",\"type\":\"bar\"},{\"alignmentgroup\":\"True\",\"hovertemplate\":\"Метод: %{x}\\u003cbr\\u003eОшибок: %{y}\",\"legendgroup\":\"Multiprocessing\",\"marker\":{\"color\":\"#ff9177\",\"pattern\":{\"shape\":\"\"},\"line\":{\"color\":\"#632f50\",\"width\":1.5}},\"name\":\"Multiprocessing\",\"offsetgroup\":\"Multiprocessing\",\"orientation\":\"v\",\"showlegend\":true,\"text\":[18.0],\"textposition\":\"outside\",\"x\":[\"Multiprocessing\"],\"xaxis\":\"x\",\"y\":[18],\"yaxis\":\"y\",\"type\":\"bar\"},{\"alignmentgroup\":\"True\",\"hovertemplate\":\"Метод: %{x}\\u003cbr\\u003eОшибок: %{y}\",\"legendgroup\":\"AsyncIO\",\"marker\":{\"color\":\"#fffbc5\",\"pattern\":{\"shape\":\"\"},\"line\":{\"color\":\"#632f50\",\"width\":1.5}},\"name\":\"AsyncIO\",\"offsetgroup\":\"AsyncIO\",\"orientation\":\"v\",\"showlegend\":true,\"text\":[12.0],\"textposition\":\"outside\",\"x\":[\"AsyncIO\"],\"xaxis\":\"x\",\"y\":[12],\"yaxis\":\"y\",\"type\":\"bar\"}],                        {\"template\":{\"data\":{\"histogram2dcontour\":[{\"type\":\"histogram2dcontour\",\"colorbar\":{\"outlinewidth\":0,\"ticks\":\"\"},\"colorscale\":[[0.0,\"#0d0887\"],[0.1111111111111111,\"#46039f\"],[0.2222222222222222,\"#7201a8\"],[0.3333333333333333,\"#9c179e\"],[0.4444444444444444,\"#bd3786\"],[0.5555555555555556,\"#d8576b\"],[0.6666666666666666,\"#ed7953\"],[0.7777777777777778,\"#fb9f3a\"],[0.8888888888888888,\"#fdca26\"],[1.0,\"#f0f921\"]]}],\"choropleth\":[{\"type\":\"choropleth\",\"colorbar\":{\"outlinewidth\":0,\"ticks\":\"\"}}],\"histogram2d\":[{\"type\":\"histogram2d\",\"colorbar\":{\"outlinewidth\":0,\"ticks\":\"\"},\"colorscale\":[[0.0,\"#0d0887\"],[0.1111111111111111,\"#46039f\"],[0.2222222222222222,\"#7201a8\"],[0.3333333333333333,\"#9c179e\"],[0.4444444444444444,\"#bd3786\"],[0.5555555555555556,\"#d8576b\"],[0.6666666666666666,\"#ed7953\"],[0.7777777777777778,\"#fb9f3a\"],[0.8888888888888888,\"#fdca26\"],[1.0,\"#f0f921\"]]}],\"heatmap\":[{\"type\":\"heatmap\",\"colorbar\":{\"outlinewidth\":0,\"ticks\":\"\"},\"colorscale\":[[0.0,\"#0d0887\"],[0.1111111111111111,\"#46039f\"],[0.2222222222222222,\"#7201a8\"],[0.3333333333333333,\"#9c179e\"],[0.4444444444444444,\"#bd3786\"],[0.5555555555555556,\"#d8576b\"],[0.6666666666666666,\"#ed7953\"],[0.7777777777777778,\"#fb9f3a\"],[0.8888888888888888,\"#fdca26\"],[1.0,\"#f0f921\"]]}],\"heatmapgl\":[{\"type\":\"heatmapgl\",\"colorbar\":{\"outlinewidth\":0,\"ticks\":\"\"},\"colorscale\":[[0.0,\"#0d0887\"],[0.1111111111111111,\"#46039f\"],[0.2222222222222222,\"#7201a8\"],[0.3333333333333333,\"#9c179e\"],[0.4444444444444444,\"#bd3786\"],[0.5555555555555556,\"#d8576b\"],[0.6666666666666666,\"#ed7953\"],[0.7777777777777778,\"#fb9f3a\"],[0.8888888888888888,\"#fdca26\"],[1.0,\"#f0f921\"]]}],\"contourcarpet\":[{\"type\":\"contourcarpet\",\"colorbar\":{\"outlinewidth\":0,\"ticks\":\"\"}}],\"contour\":[{\"type\":\"contour\",\"colorbar\":{\"outlinewidth\":0,\"ticks\":\"\"},\"colorscale\":[[0.0,\"#0d0887\"],[0.1111111111111111,\"#46039f\"],[0.2222222222222222,\"#7201a8\"],[0.3333333333333333,\"#9c179e\"],[0.4444444444444444,\"#bd3786\"],[0.5555555555555556,\"#d8576b\"],[0.6666666666666666,\"#ed7953\"],[0.7777777777777778,\"#fb9f3a\"],[0.8888888888888888,\"#fdca26\"],[1.0,\"#f0f921\"]]}],\"surface\":[{\"type\":\"surface\",\"colorbar\":{\"outlinewidth\":0,\"ticks\":\"\"},\"colorscale\":[[0.0,\"#0d0887\"],[0.1111111111111111,\"#46039f\"],[0.2222222222222222,\"#7201a8\"],[0.3333333333333333,\"#9c179e\"],[0.4444444444444444,\"#bd3786\"],[0.5555555555555556,\"#d8576b\"],[0.6666666666666666,\"#ed7953\"],[0.7777777777777778,\"#fb9f3a\"],[0.8888888888888888,\"#fdca26\"],[1.0,\"#f0f921\"]]}],\"mesh3d\":[{\"type\":\"mesh3d\",\"colorbar\":{\"outlinewidth\":0,\"ticks\":\"\"}}],\"scatter\":[{\"fillpattern\":{\"fillmode\":\"overlay\",\"size\":10,\"solidity\":0.2},\"type\":\"scatter\"}],\"parcoords\":[{\"type\":\"parcoords\",\"line\":{\"colorbar\":{\"outlinewidth\":0,\"ticks\":\"\"}}}],\"scatterpolargl\":[{\"type\":\"scatterpolargl\",\"marker\":{\"colorbar\":{\"outlinewidth\":0,\"ticks\":\"\"}}}],\"bar\":[{\"error_x\":{\"color\":\"#2a3f5f\"},\"error_y\":{\"color\":\"#2a3f5f\"},\"marker\":{\"line\":{\"color\":\"#E5ECF6\",\"width\":0.5},\"pattern\":{\"fillmode\":\"overlay\",\"size\":10,\"solidity\":0.2}},\"type\":\"bar\"}],\"scattergeo\":[{\"type\":\"scattergeo\",\"marker\":{\"colorbar\":{\"outlinewidth\":0,\"ticks\":\"\"}}}],\"scatterpolar\":[{\"type\":\"scatterpolar\",\"marker\":{\"colorbar\":{\"outlinewidth\":0,\"ticks\":\"\"}}}],\"histogram\":[{\"marker\":{\"pattern\":{\"fillmode\":\"overlay\",\"size\":10,\"solidity\":0.2}},\"type\":\"histogram\"}],\"scattergl\":[{\"type\":\"scattergl\",\"marker\":{\"colorbar\":{\"outlinewidth\":0,\"ticks\":\"\"}}}],\"scatter3d\":[{\"type\":\"scatter3d\",\"line\":{\"colorbar\":{\"outlinewidth\":0,\"ticks\":\"\"}},\"marker\":{\"colorbar\":{\"outlinewidth\":0,\"ticks\":\"\"}}}],\"scattermapbox\":[{\"type\":\"scattermapbox\",\"marker\":{\"colorbar\":{\"outlinewidth\":0,\"ticks\":\"\"}}}],\"scatterternary\":[{\"type\":\"scatterternary\",\"marker\":{\"colorbar\":{\"outlinewidth\":0,\"ticks\":\"\"}}}],\"scattercarpet\":[{\"type\":\"scattercarpet\",\"marker\":{\"colorbar\":{\"outlinewidth\":0,\"ticks\":\"\"}}}],\"carpet\":[{\"aaxis\":{\"endlinecolor\":\"#2a3f5f\",\"gridcolor\":\"white\",\"linecolor\":\"white\",\"minorgridcolor\":\"white\",\"startlinecolor\":\"#2a3f5f\"},\"baxis\":{\"endlinecolor\":\"#2a3f5f\",\"gridcolor\":\"white\",\"linecolor\":\"white\",\"minorgridcolor\":\"white\",\"startlinecolor\":\"#2a3f5f\"},\"type\":\"carpet\"}],\"table\":[{\"cells\":{\"fill\":{\"color\":\"#EBF0F8\"},\"line\":{\"color\":\"white\"}},\"header\":{\"fill\":{\"color\":\"#C8D4E3\"},\"line\":{\"color\":\"white\"}},\"type\":\"table\"}],\"barpolar\":[{\"marker\":{\"line\":{\"color\":\"#E5ECF6\",\"width\":0.5},\"pattern\":{\"fillmode\":\"overlay\",\"size\":10,\"solidity\":0.2}},\"type\":\"barpolar\"}],\"pie\":[{\"automargin\":true,\"type\":\"pie\"}]},\"layout\":{\"autotypenumbers\":\"strict\",\"colorway\":[\"#636efa\",\"#EF553B\",\"#00cc96\",\"#ab63fa\",\"#FFA15A\",\"#19d3f3\",\"#FF6692\",\"#B6E880\",\"#FF97FF\",\"#FECB52\"],\"font\":{\"color\":\"#2a3f5f\"},\"hovermode\":\"closest\",\"hoverlabel\":{\"align\":\"left\"},\"paper_bgcolor\":\"white\",\"plot_bgcolor\":\"#E5ECF6\",\"polar\":{\"bgcolor\":\"#E5ECF6\",\"angularaxis\":{\"gridcolor\":\"white\",\"linecolor\":\"white\",\"ticks\":\"\"},\"radialaxis\":{\"gridcolor\":\"white\",\"linecolor\":\"white\",\"ticks\":\"\"}},\"ternary\":{\"bgcolor\":\"#E5ECF6\",\"aaxis\":{\"gridcolor\":\"white\",\"linecolor\":\"white\",\"ticks\":\"\"},\"baxis\":{\"gridcolor\":\"white\",\"linecolor\":\"white\",\"ticks\":\"\"},\"caxis\":{\"gridcolor\":\"white\",\"linecolor\":\"white\",\"ticks\":\"\"}},\"coloraxis\":{\"colorbar\":{\"outlinewidth\":0,\"ticks\":\"\"}},\"colorscale\":{\"sequential\":[[0.0,\"#0d0887\"],[0.1111111111111111,\"#46039f\"],[0.2222222222222222,\"#7201a8\"],[0.3333333333333333,\"#9c179e\"],[0.4444444444444444,\"#bd3786\"],[0.5555555555555556,\"#d8576b\"],[0.6666666666666666,\"#ed7953\"],[0.7777777777777778,\"#fb9f3a\"],[0.8888888888888888,\"#fdca26\"],[1.0,\"#f0f921\"]],\"sequentialminus\":[[0.0,\"#0d0887\"],[0.1111111111111111,\"#46039f\"],[0.2222222222222222,\"#7201a8\"],[0.3333333333333333,\"#9c179e\"],[0.4444444444444444,\"#bd3786\"],[0.5555555555555556,\"#d8576b\"],[0.6666666666666666,\"#ed7953\"],[0.7777777777777778,\"#fb9f3a\"],[0.8888888888888888,\"#fdca26\"],[1.0,\"#f0f921\"]],\"diverging\":[[0,\"#8e0152\"],[0.1,\"#c51b7d\"],[0.2,\"#de77ae\"],[0.3,\"#f1b6da\"],[0.4,\"#fde0ef\"],[0.5,\"#f7f7f7\"],[0.6,\"#e6f5d0\"],[0.7,\"#b8e186\"],[0.8,\"#7fbc41\"],[0.9,\"#4d9221\"],[1,\"#276419\"]]},\"xaxis\":{\"gridcolor\":\"white\",\"linecolor\":\"white\",\"ticks\":\"\",\"title\":{\"standoff\":15},\"zerolinecolor\":\"white\",\"automargin\":true,\"zerolinewidth\":2},\"yaxis\":{\"gridcolor\":\"white\",\"linecolor\":\"white\",\"ticks\":\"\",\"title\":{\"standoff\":15},\"zerolinecolor\":\"white\",\"automargin\":true,\"zerolinewidth\":2},\"scene\":{\"xaxis\":{\"backgroundcolor\":\"#E5ECF6\",\"gridcolor\":\"white\",\"linecolor\":\"white\",\"showbackground\":true,\"ticks\":\"\",\"zerolinecolor\":\"white\",\"gridwidth\":2},\"yaxis\":{\"backgroundcolor\":\"#E5ECF6\",\"gridcolor\":\"white\",\"linecolor\":\"white\",\"showbackground\":true,\"ticks\":\"\",\"zerolinecolor\":\"white\",\"gridwidth\":2},\"zaxis\":{\"backgroundcolor\":\"#E5ECF6\",\"gridcolor\":\"white\",\"linecolor\":\"white\",\"showbackground\":true,\"ticks\":\"\",\"zerolinecolor\":\"white\",\"gridwidth\":2}},\"shapedefaults\":{\"line\":{\"color\":\"#2a3f5f\"}},\"annotationdefaults\":{\"arrowcolor\":\"#2a3f5f\",\"arrowhead\":0,\"arrowwidth\":1},\"geo\":{\"bgcolor\":\"white\",\"landcolor\":\"#E5ECF6\",\"subunitcolor\":\"white\",\"showland\":true,\"showlakes\":true,\"lakecolor\":\"white\"},\"title\":{\"x\":0.05},\"mapbox\":{\"style\":\"light\"}}},\"xaxis\":{\"anchor\":\"y\",\"domain\":[0.0,1.0],\"title\":{\"text\":\"Method\",\"font\":{\"size\":14,\"color\":\"#8B4513\"}},\"categoryorder\":\"array\",\"categoryarray\":[\"Threading\",\"Multiprocessing\",\"AsyncIO\"]},\"yaxis\":{\"anchor\":\"x\",\"domain\":[0.0,1.0],\"title\":{\"text\":\"Errors\",\"font\":{\"size\":14,\"color\":\"#8B4513\"}}},\"legend\":{\"title\":{\"text\":\"Method\"},\"tracegroupgap\":0,\"font\":{\"size\":12,\"color\":\"#8B4513\"}},\"title\":{\"text\":\"Количество ошибок при 100 URL-ах\",\"font\":{\"size\":20,\"color\":\"#8B4513\",\"family\":\"Georgia\"},\"x\":0.5},\"barmode\":\"relative\",\"margin\":{\"t\":80,\"l\":30,\"r\":30,\"b\":50},\"hoverlabel\":{\"bgcolor\":\"#FFD700\"},\"paper_bgcolor\":\"rgba(235,219,178,0.1)\",\"plot_bgcolor\":\"rgba(255,255,224,0.3)\"},                        {\"responsive\": true}                    ).then(function(){\n",
              "                            \n",
              "var gd = document.getElementById('184c995a-37a2-48f1-b7da-13317ef17ce3');\n",
              "var x = new MutationObserver(function (mutations, observer) {{\n",
              "        var display = window.getComputedStyle(gd).display;\n",
              "        if (!display || display === 'none') {{\n",
              "            console.log([gd, 'removed!']);\n",
              "            Plotly.purge(gd);\n",
              "            observer.disconnect();\n",
              "        }}\n",
              "}});\n",
              "\n",
              "// Listen for the removal of the full notebook cells\n",
              "var notebookContainer = gd.closest('#notebook-container');\n",
              "if (notebookContainer) {{\n",
              "    x.observe(notebookContainer, {childList: true});\n",
              "}}\n",
              "\n",
              "// Listen for the clearing of the current output cell\n",
              "var outputEl = gd.closest('.output');\n",
              "if (outputEl) {{\n",
              "    x.observe(outputEl, {childList: true});\n",
              "}}\n",
              "\n",
              "                        })                };                            </script>        </div>\n",
              "</body>\n",
              "</html>"
            ]
          },
          "metadata": {}
        }
      ]
    }
  ]
}